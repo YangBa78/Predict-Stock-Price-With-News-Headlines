{
  "nbformat": 4,
  "nbformat_minor": 0,
  "metadata": {
    "colab": {
      "name": "Embedding +DL.ipynb",
      "provenance": []
    },
    "kernelspec": {
      "name": "python3",
      "display_name": "Python 3"
    },
    "accelerator": "GPU"
  },
  "cells": [
    {
      "cell_type": "code",
      "metadata": {
        "id": "6a26FoU1d4-y"
      },
      "source": [
        "import pandas as pd\r\n",
        "import numpy as np\r\n",
        "import re\r\n",
        "import nltk\r\n",
        "from nltk.corpus import stopwords\r\n",
        "\r\n",
        "from numpy import array\r\n",
        "from keras.preprocessing.text import one_hot\r\n",
        "from keras.preprocessing.sequence import pad_sequences\r\n",
        "from keras.models import Sequential\r\n",
        "from keras.layers.core import Activation, Dropout, Dense\r\n",
        "from keras.layers import Flatten\r\n",
        "from keras.layers import GlobalMaxPooling1D, Bidirectional\r\n",
        "from keras.layers.convolutional import Conv1D\r\n",
        "from keras.layers.recurrent import LSTM\r\n",
        "from keras.layers.embeddings import Embedding\r\n",
        "from sklearn.model_selection import train_test_split\r\n",
        "from keras.preprocessing.text import Tokenizer\r\n",
        "import matplotlib.pyplot as plt"
      ],
      "execution_count": 1,
      "outputs": []
    },
    {
      "cell_type": "markdown",
      "metadata": {
        "id": "RUIjCnptFIV8"
      },
      "source": [
        "#Load Data"
      ]
    },
    {
      "cell_type": "code",
      "metadata": {
        "colab": {
          "base_uri": "https://localhost:8080/"
        },
        "id": "-7ztagkQd_Ji",
        "outputId": "81bed84a-3a63-426d-af81-e7eadb5e42ee"
      },
      "source": [
        "from google.colab import drive\r\n",
        "drive.mount('/content/drive')"
      ],
      "execution_count": 2,
      "outputs": [
        {
          "output_type": "stream",
          "text": [
            "Mounted at /content/drive\n"
          ],
          "name": "stdout"
        }
      ]
    },
    {
      "cell_type": "code",
      "metadata": {
        "colab": {
          "base_uri": "https://localhost:8080/"
        },
        "id": "IzLtbsYbeET-",
        "outputId": "8ba9fba0-773b-4217-eb6a-7e44950845f2"
      },
      "source": [
        "news = pd.read_excel('drive/My Drive/Colab Notebooks/data/Combined_News_DJIA.xls')\r\n",
        "\r\n",
        "print(news.isnull().values.any())\r\n",
        "\r\n",
        "print(news.shape)"
      ],
      "execution_count": 3,
      "outputs": [
        {
          "output_type": "stream",
          "text": [
            "False\n",
            "(1989, 27)\n"
          ],
          "name": "stdout"
        }
      ]
    },
    {
      "cell_type": "code",
      "metadata": {
        "colab": {
          "base_uri": "https://localhost:8080/",
          "height": 485
        },
        "id": "hGPc2PQoeQwG",
        "outputId": "156dd784-750a-4b3b-cb33-ac59a23ec656"
      },
      "source": [
        "news.head(3)"
      ],
      "execution_count": 4,
      "outputs": [
        {
          "output_type": "execute_result",
          "data": {
            "text/html": [
              "<div>\n",
              "<style scoped>\n",
              "    .dataframe tbody tr th:only-of-type {\n",
              "        vertical-align: middle;\n",
              "    }\n",
              "\n",
              "    .dataframe tbody tr th {\n",
              "        vertical-align: top;\n",
              "    }\n",
              "\n",
              "    .dataframe thead th {\n",
              "        text-align: right;\n",
              "    }\n",
              "</style>\n",
              "<table border=\"1\" class=\"dataframe\">\n",
              "  <thead>\n",
              "    <tr style=\"text-align: right;\">\n",
              "      <th></th>\n",
              "      <th>Date</th>\n",
              "      <th>Label</th>\n",
              "      <th>Top1</th>\n",
              "      <th>Top2</th>\n",
              "      <th>Top3</th>\n",
              "      <th>Top4</th>\n",
              "      <th>Top5</th>\n",
              "      <th>Top6</th>\n",
              "      <th>Top7</th>\n",
              "      <th>Top8</th>\n",
              "      <th>Top9</th>\n",
              "      <th>Top10</th>\n",
              "      <th>Top11</th>\n",
              "      <th>Top12</th>\n",
              "      <th>Top13</th>\n",
              "      <th>Top14</th>\n",
              "      <th>Top15</th>\n",
              "      <th>Top16</th>\n",
              "      <th>Top17</th>\n",
              "      <th>Top18</th>\n",
              "      <th>Top19</th>\n",
              "      <th>Top20</th>\n",
              "      <th>Top21</th>\n",
              "      <th>Top22</th>\n",
              "      <th>Top23</th>\n",
              "      <th>Top24</th>\n",
              "      <th>Top25</th>\n",
              "    </tr>\n",
              "  </thead>\n",
              "  <tbody>\n",
              "    <tr>\n",
              "      <th>0</th>\n",
              "      <td>2008-08-08</td>\n",
              "      <td>0</td>\n",
              "      <td>\"Georgia 'downs two Russian warplanes' as cou...</td>\n",
              "      <td>'BREAKING: Musharraf to be impeached.'</td>\n",
              "      <td>'Russia Today: Columns of troops roll into So...</td>\n",
              "      <td>'Russian tanks are moving towards the capital...</td>\n",
              "      <td>\"Afghan children raped with 'impunity,' U.N. ...</td>\n",
              "      <td>'150 Russian tanks have entered South Ossetia...</td>\n",
              "      <td>\"Breaking: Georgia invades South Ossetia, Rus...</td>\n",
              "      <td>\"The 'enemy combatent' trials are nothing but...</td>\n",
              "      <td>'Georgian troops retreat from S. Osettain cap...</td>\n",
              "      <td>'Did the U.S. Prep Georgia for War with Russia?'</td>\n",
              "      <td>'Rice Gives Green Light for Israel to Attack ...</td>\n",
              "      <td>'Announcing:Class Action Lawsuit on Behalf of...</td>\n",
              "      <td>\"So---Russia and Georgia are at war and the N...</td>\n",
              "      <td>\"China tells Bush to stay out of other countr...</td>\n",
              "      <td>'Did World War III start today?'</td>\n",
              "      <td>'Georgia Invades South Ossetia - if Russia ge...</td>\n",
              "      <td>'Al-Qaeda Faces Islamist Backlash'</td>\n",
              "      <td>'Condoleezza Rice: \"The US would not act to p...</td>\n",
              "      <td>'This is a busy day:  The European Union has ...</td>\n",
              "      <td>\"Georgia will withdraw 1,000 soldiers from Ir...</td>\n",
              "      <td>'Why the Pentagon Thinks Attacking Iran is a ...</td>\n",
              "      <td>'Caucasus in crisis: Georgia invades South Os...</td>\n",
              "      <td>'Indian shoe manufactory  - And again in a se...</td>\n",
              "      <td>'Visitors Suffering from Mental Illnesses Ban...</td>\n",
              "      <td>\"No Help for Mexico's Kidnapping Surge\"</td>\n",
              "    </tr>\n",
              "    <tr>\n",
              "      <th>1</th>\n",
              "      <td>2008-08-11</td>\n",
              "      <td>1</td>\n",
              "      <td>'Why wont America and Nato help us? If they w...</td>\n",
              "      <td>'Bush puts foot down on Georgian conflict'</td>\n",
              "      <td>\"Jewish Georgian minister: Thanks to Israeli ...</td>\n",
              "      <td>'Georgian army flees in disarray as Russians ...</td>\n",
              "      <td>\"Olympic opening ceremony fireworks 'faked'\"</td>\n",
              "      <td>'What were the Mossad with fraudulent New Zea...</td>\n",
              "      <td>'Russia angered by Israeli military sale to G...</td>\n",
              "      <td>'An American citizen living in S.Ossetia blam...</td>\n",
              "      <td>'Welcome To World War IV! Now In High Definit...</td>\n",
              "      <td>\"Georgia's move, a mistake of monumental prop...</td>\n",
              "      <td>'Russia presses deeper into Georgia; U.S. say...</td>\n",
              "      <td>'Abhinav Bindra wins first ever Individual Ol...</td>\n",
              "      <td>' U.S. ship heads for Arctic to define territ...</td>\n",
              "      <td>'Drivers in a Jerusalem taxi station threaten...</td>\n",
              "      <td>'The French Team is Stunned by Phelps and the...</td>\n",
              "      <td>'Israel and the US behind the Georgian aggres...</td>\n",
              "      <td>'\"Do not believe TV, neither Russian nor Geor...</td>\n",
              "      <td>'Riots are still going on in Montreal (Canada...</td>\n",
              "      <td>'China to overtake US as largest manufacturer'</td>\n",
              "      <td>'War in South Ossetia [PICS]'</td>\n",
              "      <td>'Israeli Physicians Group Condemns State Tort...</td>\n",
              "      <td>' Russia has just beaten the United States ov...</td>\n",
              "      <td>'Perhaps *the* question about the Georgia - R...</td>\n",
              "      <td>'Russia is so much better at war'</td>\n",
              "      <td>\"So this is what it's come to: trading sex fo...</td>\n",
              "    </tr>\n",
              "    <tr>\n",
              "      <th>2</th>\n",
              "      <td>2008-08-12</td>\n",
              "      <td>0</td>\n",
              "      <td>'Remember that adorable 9-year-old who sang a...</td>\n",
              "      <td>\"Russia 'ends Georgia operation'\"</td>\n",
              "      <td>'\"If we had no sexual harassment we would hav...</td>\n",
              "      <td>\"Al-Qa'eda is losing support in Iraq because ...</td>\n",
              "      <td>'Ceasefire in Georgia: Putin Outmaneuvers the...</td>\n",
              "      <td>'Why Microsoft and Intel tried to kill the XO...</td>\n",
              "      <td>'Stratfor: The Russo-Georgian War and the Bal...</td>\n",
              "      <td>\"I'm Trying to Get a Sense of This Whole Geor...</td>\n",
              "      <td>\"The US military was surprised by the timing ...</td>\n",
              "      <td>'U.S. Beats War Drum as Iran Dumps the Dollar'</td>\n",
              "      <td>'Gorbachev: \"Georgian military attacked the S...</td>\n",
              "      <td>'CNN use footage of Tskhinvali ruins to cover...</td>\n",
              "      <td>'Beginning a war as the Olympics were opening...</td>\n",
              "      <td>'55 pyramids as large as the Luxor stacked in...</td>\n",
              "      <td>'The 11 Top Party Cities in the World'</td>\n",
              "      <td>'U.S. troops still in Georgia (did you know t...</td>\n",
              "      <td>'Why Russias response to Georgia was right'</td>\n",
              "      <td>'Gorbachev accuses U.S. of making a \"serious ...</td>\n",
              "      <td>'Russia, Georgia, and NATO: Cold War Two'</td>\n",
              "      <td>'Remember that adorable 62-year-old who led y...</td>\n",
              "      <td>'War in Georgia: The Israeli connection'</td>\n",
              "      <td>'All signs point to the US encouraging Georgi...</td>\n",
              "      <td>'Christopher King argues that the US and NATO...</td>\n",
              "      <td>'America: The New Mexico?'</td>\n",
              "      <td>\"BBC NEWS | Asia-Pacific | Extinction 'by man...</td>\n",
              "    </tr>\n",
              "  </tbody>\n",
              "</table>\n",
              "</div>"
            ],
            "text/plain": [
              "        Date  ...                                              Top25\n",
              "0 2008-08-08  ...            \"No Help for Mexico's Kidnapping Surge\"\n",
              "1 2008-08-11  ...   \"So this is what it's come to: trading sex fo...\n",
              "2 2008-08-12  ...   \"BBC NEWS | Asia-Pacific | Extinction 'by man...\n",
              "\n",
              "[3 rows x 27 columns]"
            ]
          },
          "metadata": {
            "tags": []
          },
          "execution_count": 4
        }
      ]
    },
    {
      "cell_type": "code",
      "metadata": {
        "id": "bIy0isQneVRJ"
      },
      "source": [
        "news['text'] = news['Top1'] +  news['Top2'] + news['Top3'] + news['Top4'] + news['Top5'] + news['Top6'] + news['Top7'] + news['Top8'] + news['Top9'] + news['Top10'] + news['Top11'] + news['Top12'] + news['Top13'] + news['Top14'] + news['Top15'] + news['Top16'] + news['Top17'] + news['Top18'] + news['Top19'] + news['Top20'] + news['Top21'] + news['Top22'] + news['Top23'] + news['Top24'] + news['Top25']"
      ],
      "execution_count": 5,
      "outputs": []
    },
    {
      "cell_type": "code",
      "metadata": {
        "id": "sgDwVMwE2Liy"
      },
      "source": [
        "train = news[news['Date'] < '20150101']\r\n",
        "test = news[news['Date'] > '20141231']"
      ],
      "execution_count": 6,
      "outputs": []
    },
    {
      "cell_type": "code",
      "metadata": {
        "id": "i8uClCDneYXM"
      },
      "source": [
        "news['text'] = news['text'].apply(str)"
      ],
      "execution_count": 7,
      "outputs": []
    },
    {
      "cell_type": "code",
      "metadata": {
        "colab": {
          "base_uri": "https://localhost:8080/"
        },
        "id": "T-S_wewM3O-e",
        "outputId": "b6919076-6f2a-413a-a517-8ff43a70d47c"
      },
      "source": [
        "train['text'] = train['text'].apply(str)\r\n",
        "test['text'] = test['text'].apply(str)"
      ],
      "execution_count": 8,
      "outputs": [
        {
          "output_type": "stream",
          "text": [
            "/usr/local/lib/python3.6/dist-packages/ipykernel_launcher.py:1: SettingWithCopyWarning: \n",
            "A value is trying to be set on a copy of a slice from a DataFrame.\n",
            "Try using .loc[row_indexer,col_indexer] = value instead\n",
            "\n",
            "See the caveats in the documentation: https://pandas.pydata.org/pandas-docs/stable/user_guide/indexing.html#returning-a-view-versus-a-copy\n",
            "  \"\"\"Entry point for launching an IPython kernel.\n",
            "/usr/local/lib/python3.6/dist-packages/ipykernel_launcher.py:2: SettingWithCopyWarning: \n",
            "A value is trying to be set on a copy of a slice from a DataFrame.\n",
            "Try using .loc[row_indexer,col_indexer] = value instead\n",
            "\n",
            "See the caveats in the documentation: https://pandas.pydata.org/pandas-docs/stable/user_guide/indexing.html#returning-a-view-versus-a-copy\n",
            "  \n"
          ],
          "name": "stderr"
        }
      ]
    },
    {
      "cell_type": "markdown",
      "metadata": {
        "id": "BfIm8_JQFPOs"
      },
      "source": [
        "#Data Cleaning"
      ]
    },
    {
      "cell_type": "code",
      "metadata": {
        "id": "HrQ702prebB8"
      },
      "source": [
        "#Function to preprocess each review\r\n",
        "    # 'r' is used to differentiate regex escaping and normal escape sequence \r\n",
        "def preprocess(sen):\r\n",
        "    # Function to remove html tags is called\r\n",
        "    sentence = remove_tags(sen)\r\n",
        "\r\n",
        "    # Remove punctuations and numbers\r\n",
        "    # '^' means NOT\r\n",
        "    sentence = re.sub('[^a-zA-Z]', ' ', sentence)\r\n",
        "\r\n",
        "    # Single character removal\r\n",
        "    sentence = re.sub(r\"\\s+[a-zA-Z]\\s+\", ' ', sentence)\r\n",
        "\r\n",
        "    # Removing multiple spaces\r\n",
        "    sentence = re.sub(r'\\s+', ' ', sentence)\r\n",
        "\r\n",
        "    return sentence\r\n",
        "\r\n",
        "# Function to remove html tags\r\n",
        "def remove_tags(text):\r\n",
        "    return re.sub(r'<[^>]+>', '', text)"
      ],
      "execution_count": 9,
      "outputs": []
    },
    {
      "cell_type": "code",
      "metadata": {
        "id": "1NSaTvCWOTVt"
      },
      "source": [
        "X_train = []\r\n",
        "sentences = list(train['text'])\r\n",
        "for sen in sentences:\r\n",
        "    X_train.append(preprocess(sen))"
      ],
      "execution_count": 10,
      "outputs": []
    },
    {
      "cell_type": "code",
      "metadata": {
        "id": "V9NYXqXfOTJl"
      },
      "source": [
        "X_test = []\r\n",
        "sentences = list(train['text'])\r\n",
        "for sen in sentences:\r\n",
        "    X_test.append(preprocess(sen))"
      ],
      "execution_count": 11,
      "outputs": []
    },
    {
      "cell_type": "code",
      "metadata": {
        "id": "YWDllUm-2nSy"
      },
      "source": [
        "X = []\r\n",
        "sentences = list(news['text'])\r\n",
        "for sen in sentences:\r\n",
        "    X.append(preprocess(sen))"
      ],
      "execution_count": 12,
      "outputs": []
    },
    {
      "cell_type": "code",
      "metadata": {
        "colab": {
          "base_uri": "https://localhost:8080/",
          "height": 188
        },
        "id": "guKzlIA3esk0",
        "outputId": "0f2be32b-26df-4e34-d0b5-99d9476ab7dc"
      },
      "source": [
        "X[1]"
      ],
      "execution_count": 13,
      "outputs": [
        {
          "output_type": "execute_result",
          "data": {
            "application/vnd.google.colaboratory.intrinsic+json": {
              "type": "string"
            },
            "text/plain": [
              "' Why wont America and Nato help us If they wont help us now why did we help them in Iraq Bush puts foot down on Georgian conflict Jewish Georgian minister Thanks to Israeli training we re fending off Russia Georgian army flees in disarray as Russians advance Gori abandoned to Russia without shot fired Olympic opening ceremony fireworks faked What were the Mossad with fraudulent New Zealand Passports doing in Iraq Russia angered by Israeli military sale to Georgia An American citizen living in Ossetia blames S and Georgian leaders for the genocide of innocent people Welcome To World War IV Now In High Definition Georgia move mistake of monumental proportions Russia presses deeper into Georgia S says regime change is goal Abhinav Bindra wins first ever Individual Olympic Gold Medal for India S ship heads for Arctic to define territory Drivers in Jerusalem taxi station threaten to quit rather than work for their new boss an Arab The French Team is Stunned by Phelps and the m Relay Team Israel and the US behind the Georgian aggression Do not believe TV neither Russian nor Georgian There are much more victims Riots are still going on in Montreal Canada because police murdered boy on Saturday China to overtake US as largest manufacturer War in South Ossetia PICS Israeli Physicians Group Condemns State Torture Russia has just beaten the United States over the head with Peak Oil Perhaps the question about the Georgia Russia conflict Russia is so much better at war So this is what it come to trading sex for food '"
            ]
          },
          "metadata": {
            "tags": []
          },
          "execution_count": 13
        }
      ]
    },
    {
      "cell_type": "code",
      "metadata": {
        "id": "L-gRA_C2Ov2x"
      },
      "source": [
        "y_train = np.array(train['Label'])\r\n",
        "y_test = np.array(test['Label'])"
      ],
      "execution_count": 14,
      "outputs": []
    },
    {
      "cell_type": "code",
      "metadata": {
        "id": "U6Ycq4cZevML"
      },
      "source": [
        "y = np.array(news['Label'])"
      ],
      "execution_count": 15,
      "outputs": []
    },
    {
      "cell_type": "code",
      "metadata": {
        "id": "siNTOwk7exty"
      },
      "source": [
        "X_train, X_test, y_train, y_test = train_test_split(X, y, test_size=0.20, random_state=42)"
      ],
      "execution_count": 16,
      "outputs": []
    },
    {
      "cell_type": "markdown",
      "metadata": {
        "id": "iJXvRmGaF2Qc"
      },
      "source": [
        "#Embedding"
      ]
    },
    {
      "cell_type": "code",
      "metadata": {
        "id": "p3EeDE1XfVcL"
      },
      "source": [
        "# Preparing the Embedding Layer\r\n",
        "\r\n",
        "tokenizer = Tokenizer(num_words=5000)\r\n",
        "tokenizer.fit_on_texts(X_train)\r\n",
        "\r\n",
        "X_train = tokenizer.texts_to_sequences(X_train)\r\n",
        "X_test = tokenizer.texts_to_sequences(X_test)"
      ],
      "execution_count": 17,
      "outputs": []
    },
    {
      "cell_type": "code",
      "metadata": {
        "id": "JAdN1TVAfXuJ"
      },
      "source": [
        "# Adding 1 because of reserved 0 index\r\n",
        "vocab_size = len(tokenizer.word_index) + 1\r\n",
        "\r\n",
        "maxlen = 100\r\n",
        "\r\n",
        "X_train = pad_sequences(X_train, padding='post', maxlen=maxlen)\r\n",
        "X_test = pad_sequences(X_test, padding='post', maxlen=maxlen)\r\n"
      ],
      "execution_count": 18,
      "outputs": []
    },
    {
      "cell_type": "code",
      "metadata": {
        "id": "lyhHAC4nfZqq"
      },
      "source": [
        "from numpy import asarray\r\n",
        "from numpy import zeros\r\n",
        "\r\n",
        "embeddings_dictionary = dict()\r\n",
        "glove_file = open('drive/My Drive/Colab Notebooks/data/glove.6B.100d.txt', encoding=\"utf8\")\r\n",
        "\r\n",
        "for line in glove_file:\r\n",
        "    records = line.split()\r\n",
        "    word = records[0]\r\n",
        "    vector_dimensions = asarray(records[1:], dtype='float32')\r\n",
        "    embeddings_dictionary [word] = vector_dimensions\r\n",
        "glove_file.close()"
      ],
      "execution_count": 19,
      "outputs": []
    },
    {
      "cell_type": "code",
      "metadata": {
        "id": "zNz8dcz5faCr"
      },
      "source": [
        "embedding_matrix = zeros((vocab_size, 100))\r\n",
        "for word, index in tokenizer.word_index.items():\r\n",
        "    embedding_vector = embeddings_dictionary.get(word)\r\n",
        "    if embedding_vector is not None:\r\n",
        "        embedding_matrix[index] = embedding_vector"
      ],
      "execution_count": 20,
      "outputs": []
    },
    {
      "cell_type": "markdown",
      "metadata": {
        "id": "pnACDxiIGFbq"
      },
      "source": [
        "# CNN"
      ]
    },
    {
      "cell_type": "code",
      "metadata": {
        "colab": {
          "base_uri": "https://localhost:8080/"
        },
        "id": "r7QeqXpAPwmz",
        "outputId": "fc69de28-8b53-40e4-e037-41a679b66536"
      },
      "source": [
        "import tensorflow as tf\r\n",
        "print(tf.__version__)"
      ],
      "execution_count": 21,
      "outputs": [
        {
          "output_type": "stream",
          "text": [
            "2.4.0\n"
          ],
          "name": "stdout"
        }
      ]
    },
    {
      "cell_type": "code",
      "metadata": {
        "id": "cl7V9hGBPtAV"
      },
      "source": [
        "#CNN 1Dx2\r\n",
        "model1 = tf.keras.models.Sequential([\r\n",
        "      tf.keras.layers.Embedding(vocab_size, 100, weights=[embedding_matrix], input_length=maxlen , trainable=False),\r\n",
        "      tf.keras.layers.Conv1D(128, 5, activation='relu'),\r\n",
        "      tf.keras.layers.MaxPooling1D(2),\r\n",
        "      tf.keras.layers.Dropout(0.2),\r\n",
        "      tf.keras.layers.Conv1D(64, 5, activation='relu'),\r\n",
        "      tf.keras.layers.MaxPooling1D(2),\r\n",
        "      tf.keras.layers.Dropout(0.2),\r\n",
        "      tf.keras.layers.Flatten(),\r\n",
        "      tf.keras.layers.Dense(128, activation='relu'),\r\n",
        "      tf.keras.layers.Dense(64, activation='relu'),\r\n",
        "      tf.keras.layers.Dense(1, activation='sigmoid')\r\n",
        "])\r\n",
        "\r\n",
        "model1.compile(optimizer = tf.optimizers.Adam(),\r\n",
        "              loss = 'binary_crossentropy',\r\n",
        "              metrics=['acc'])"
      ],
      "execution_count": 22,
      "outputs": []
    },
    {
      "cell_type": "code",
      "metadata": {
        "colab": {
          "base_uri": "https://localhost:8080/"
        },
        "id": "mnt2nfqCHE5v",
        "outputId": "f2b902e0-a484-48ba-ea37-654b4f9bbb2f"
      },
      "source": [
        "print(model1.summary())"
      ],
      "execution_count": 23,
      "outputs": [
        {
          "output_type": "stream",
          "text": [
            "Model: \"sequential\"\n",
            "_________________________________________________________________\n",
            "Layer (type)                 Output Shape              Param #   \n",
            "=================================================================\n",
            "embedding (Embedding)        (None, 100, 100)          4551600   \n",
            "_________________________________________________________________\n",
            "conv1d (Conv1D)              (None, 96, 128)           64128     \n",
            "_________________________________________________________________\n",
            "max_pooling1d (MaxPooling1D) (None, 48, 128)           0         \n",
            "_________________________________________________________________\n",
            "dropout (Dropout)            (None, 48, 128)           0         \n",
            "_________________________________________________________________\n",
            "conv1d_1 (Conv1D)            (None, 44, 64)            41024     \n",
            "_________________________________________________________________\n",
            "max_pooling1d_1 (MaxPooling1 (None, 22, 64)            0         \n",
            "_________________________________________________________________\n",
            "dropout_1 (Dropout)          (None, 22, 64)            0         \n",
            "_________________________________________________________________\n",
            "flatten (Flatten)            (None, 1408)              0         \n",
            "_________________________________________________________________\n",
            "dense (Dense)                (None, 128)               180352    \n",
            "_________________________________________________________________\n",
            "dense_1 (Dense)              (None, 64)                8256      \n",
            "_________________________________________________________________\n",
            "dense_2 (Dense)              (None, 1)                 65        \n",
            "=================================================================\n",
            "Total params: 4,845,425\n",
            "Trainable params: 293,825\n",
            "Non-trainable params: 4,551,600\n",
            "_________________________________________________________________\n",
            "None\n"
          ],
          "name": "stdout"
        }
      ]
    },
    {
      "cell_type": "code",
      "metadata": {
        "colab": {
          "base_uri": "https://localhost:8080/"
        },
        "id": "n0pVEwyBt83U",
        "outputId": "2bc56aa6-c8b6-4d4c-e386-b85768e3d85d"
      },
      "source": [
        "history = model1.fit(X_train, y_train, batch_size=128, epochs=6, verbose=1, validation_split=0.2)\r\n",
        "\r\n",
        "score = model1.evaluate(X_test, y_test, verbose=1)"
      ],
      "execution_count": 24,
      "outputs": [
        {
          "output_type": "stream",
          "text": [
            "Epoch 1/6\n",
            "10/10 [==============================] - 8s 93ms/step - loss: 0.8709 - acc: 0.4798 - val_loss: 0.7250 - val_acc: 0.4577\n",
            "Epoch 2/6\n",
            "10/10 [==============================] - 0s 10ms/step - loss: 0.6916 - acc: 0.5267 - val_loss: 0.6946 - val_acc: 0.4953\n",
            "Epoch 3/6\n",
            "10/10 [==============================] - 0s 10ms/step - loss: 0.6867 - acc: 0.5432 - val_loss: 0.7072 - val_acc: 0.4577\n",
            "Epoch 4/6\n",
            "10/10 [==============================] - 0s 10ms/step - loss: 0.6847 - acc: 0.5524 - val_loss: 0.6991 - val_acc: 0.4639\n",
            "Epoch 5/6\n",
            "10/10 [==============================] - 0s 9ms/step - loss: 0.6775 - acc: 0.5795 - val_loss: 0.6978 - val_acc: 0.4859\n",
            "Epoch 6/6\n",
            "10/10 [==============================] - 0s 10ms/step - loss: 0.6753 - acc: 0.6329 - val_loss: 0.7021 - val_acc: 0.4734\n",
            "13/13 [==============================] - 0s 6ms/step - loss: 0.6841 - acc: 0.5754\n"
          ],
          "name": "stdout"
        }
      ]
    },
    {
      "cell_type": "code",
      "metadata": {
        "colab": {
          "base_uri": "https://localhost:8080/"
        },
        "id": "KbUkYVWst86W",
        "outputId": "8cfd0891-1920-48f0-ab32-3dcc77c6d302"
      },
      "source": [
        "print(\"Test Score:\", score[0])\r\n",
        "print(\"Test Accuracy:\", score[1])"
      ],
      "execution_count": 25,
      "outputs": [
        {
          "output_type": "stream",
          "text": [
            "Test Score: 0.6841418147087097\n",
            "Test Accuracy: 0.5753768682479858\n"
          ],
          "name": "stdout"
        }
      ]
    },
    {
      "cell_type": "code",
      "metadata": {
        "colab": {
          "base_uri": "https://localhost:8080/",
          "height": 573
        },
        "id": "6y9WwhqTGdvx",
        "outputId": "8fff6802-9e1d-4a6f-8dc0-326c361c269a"
      },
      "source": [
        "plt.plot(history.history['acc'])\r\n",
        "plt.plot(history.history['val_acc'])\r\n",
        "\r\n",
        "plt.title('model accuracy')\r\n",
        "plt.ylabel('accuracy')\r\n",
        "plt.xlabel('epoch')\r\n",
        "plt.legend(['train','test'], loc = 'upper left')\r\n",
        "plt.show()\r\n",
        "\r\n",
        "plt.plot(history.history['loss'])\r\n",
        "plt.plot(history.history['val_loss'])\r\n",
        "\r\n",
        "plt.title('model loss')\r\n",
        "plt.ylabel('loss')\r\n",
        "plt.xlabel('epoch')\r\n",
        "plt.legend(['train','test'], loc = 'upper left')\r\n",
        "plt.show()"
      ],
      "execution_count": 26,
      "outputs": [
        {
          "output_type": "display_data",
          "data": {
            "image/png": "[encoded data removed]",
            "text/plain": [
              "<Figure size 432x288 with 1 Axes>"
            ]
          },
          "metadata": {
            "tags": [],
            "needs_background": "light"
          }
        },
        {
          "output_type": "display_data",
          "data": {
            "image/png": "[encoded data removed]",
            "text/plain": [
              "<Figure size 432x288 with 1 Axes>"
            ]
          },
          "metadata": {
            "tags": [],
            "needs_background": "light"
          }
        }
      ]
    },
    {
      "cell_type": "markdown",
      "metadata": {
        "id": "liFn06kHGYci"
      },
      "source": [
        "#LSTM\r\n"
      ]
    },
    {
      "cell_type": "code",
      "metadata": {
        "colab": {
          "base_uri": "https://localhost:8080/"
        },
        "id": "hORE3aUEUH0a",
        "outputId": "f8f189a6-168c-4a51-bd87-2e59486b0dae"
      },
      "source": [
        "# LSTM \r\n",
        "model2 = tf.keras.models.Sequential([\r\n",
        "      tf.keras.layers.Embedding(vocab_size, 100, weights=[embedding_matrix], input_length=maxlen , trainable=False),\r\n",
        "      tf.keras.layers.LSTM(128, activation='relu'),\r\n",
        "      tf.keras.layers.Dropout(0.1),\r\n",
        "      #tf.keras.layers.LSTM(128, activation='relu'),\r\n",
        "      #tf.keras.layers.Dropout(0.2),\r\n",
        "      tf.keras.layers.Flatten(),\r\n",
        "      tf.keras.layers.Dense(128, activation='relu'),\r\n",
        "      tf.keras.layers.Dense(64, activation='relu'),\r\n",
        "      tf.keras.layers.Dense(1, activation='sigmoid')\r\n",
        "])\r\n",
        "\r\n",
        "model2.compile(optimizer='adam', loss='binary_crossentropy', metrics=['acc'])"
      ],
      "execution_count": 27,
      "outputs": [
        {
          "output_type": "stream",
          "text": [
            "WARNING:tensorflow:Layer lstm will not use cuDNN kernel since it doesn't meet the cuDNN kernel criteria. It will use generic GPU kernel as fallback when running on GPU\n"
          ],
          "name": "stdout"
        }
      ]
    },
    {
      "cell_type": "code",
      "metadata": {
        "colab": {
          "base_uri": "https://localhost:8080/"
        },
        "id": "fXaUaQiDdj6B",
        "outputId": "323ba411-452b-4027-d1ad-cd50d2d8fba1"
      },
      "source": [
        "print(model1.summary())"
      ],
      "execution_count": 28,
      "outputs": [
        {
          "output_type": "stream",
          "text": [
            "Model: \"sequential\"\n",
            "_________________________________________________________________\n",
            "Layer (type)                 Output Shape              Param #   \n",
            "=================================================================\n",
            "embedding (Embedding)        (None, 100, 100)          4551600   \n",
            "_________________________________________________________________\n",
            "conv1d (Conv1D)              (None, 96, 128)           64128     \n",
            "_________________________________________________________________\n",
            "max_pooling1d (MaxPooling1D) (None, 48, 128)           0         \n",
            "_________________________________________________________________\n",
            "dropout (Dropout)            (None, 48, 128)           0         \n",
            "_________________________________________________________________\n",
            "conv1d_1 (Conv1D)            (None, 44, 64)            41024     \n",
            "_________________________________________________________________\n",
            "max_pooling1d_1 (MaxPooling1 (None, 22, 64)            0         \n",
            "_________________________________________________________________\n",
            "dropout_1 (Dropout)          (None, 22, 64)            0         \n",
            "_________________________________________________________________\n",
            "flatten (Flatten)            (None, 1408)              0         \n",
            "_________________________________________________________________\n",
            "dense (Dense)                (None, 128)               180352    \n",
            "_________________________________________________________________\n",
            "dense_1 (Dense)              (None, 64)                8256      \n",
            "_________________________________________________________________\n",
            "dense_2 (Dense)              (None, 1)                 65        \n",
            "=================================================================\n",
            "Total params: 4,845,425\n",
            "Trainable params: 293,825\n",
            "Non-trainable params: 4,551,600\n",
            "_________________________________________________________________\n",
            "None\n"
          ],
          "name": "stdout"
        }
      ]
    },
    {
      "cell_type": "code",
      "metadata": {
        "colab": {
          "base_uri": "https://localhost:8080/"
        },
        "id": "G8c-Zm7JbZIG",
        "outputId": "ba1f1606-7638-4679-e8aa-3ab5e8965c65"
      },
      "source": [
        "history = model2.fit(X_train, y_train, batch_size=128, epochs=6, verbose=1, validation_split=0.2)\r\n",
        "\r\n",
        "score = model2.evaluate(X_test, y_test, verbose=1)"
      ],
      "execution_count": 29,
      "outputs": [
        {
          "output_type": "stream",
          "text": [
            "Epoch 1/6\n",
            "10/10 [==============================] - 3s 192ms/step - loss: 0.6964 - acc: 0.4928 - val_loss: 0.7144 - val_acc: 0.4577\n",
            "Epoch 2/6\n",
            "10/10 [==============================] - 2s 166ms/step - loss: 0.6912 - acc: 0.5267 - val_loss: 0.7099 - val_acc: 0.4577\n",
            "Epoch 3/6\n",
            "10/10 [==============================] - 2s 165ms/step - loss: 0.6849 - acc: 0.5428 - val_loss: 0.7129 - val_acc: 0.4608\n",
            "Epoch 4/6\n",
            "10/10 [==============================] - 2s 176ms/step - loss: 0.6776 - acc: 0.5549 - val_loss: 0.7333 - val_acc: 0.4734\n",
            "Epoch 5/6\n",
            "10/10 [==============================] - 2s 160ms/step - loss: 0.6648 - acc: 0.6002 - val_loss: 0.7096 - val_acc: 0.4765\n",
            "Epoch 6/6\n",
            "10/10 [==============================] - 2s 159ms/step - loss: 0.6538 - acc: 0.5950 - val_loss: 0.7224 - val_acc: 0.4796\n",
            "13/13 [==============================] - 0s 16ms/step - loss: 0.6968 - acc: 0.5302\n"
          ],
          "name": "stdout"
        }
      ]
    },
    {
      "cell_type": "code",
      "metadata": {
        "colab": {
          "base_uri": "https://localhost:8080/"
        },
        "id": "ym_EgYtebdA3",
        "outputId": "61ded18b-894e-4235-82c8-b24925e35cc6"
      },
      "source": [
        "print(\"Test Score:\", score[0])\r\n",
        "print(\"Test Accuracy:\", score[1])"
      ],
      "execution_count": 30,
      "outputs": [
        {
          "output_type": "stream",
          "text": [
            "Test Score: 0.696770966053009\n",
            "Test Accuracy: 0.5301507711410522\n"
          ],
          "name": "stdout"
        }
      ]
    },
    {
      "cell_type": "code",
      "metadata": {
        "colab": {
          "base_uri": "https://localhost:8080/",
          "height": 573
        },
        "id": "DaODC_9pGkMz",
        "outputId": "fe86b720-1813-4f64-b96c-3255cd9791fc"
      },
      "source": [
        "plt.plot(history.history['acc'])\r\n",
        "plt.plot(history.history['val_acc'])\r\n",
        "\r\n",
        "plt.title('model accuracy')\r\n",
        "plt.ylabel('accuracy')\r\n",
        "plt.xlabel('epoch')\r\n",
        "plt.legend(['train','test'], loc = 'upper left')\r\n",
        "plt.show()\r\n",
        "\r\n",
        "plt.plot(history.history['loss'])\r\n",
        "plt.plot(history.history['val_loss'])\r\n",
        "\r\n",
        "plt.title('model loss')\r\n",
        "plt.ylabel('loss')\r\n",
        "plt.xlabel('epoch')\r\n",
        "plt.legend(['train','test'], loc = 'upper left')\r\n",
        "plt.show()"
      ],
      "execution_count": 31,
      "outputs": [
        {
          "output_type": "display_data",
          "data": {
            "image/png": "[encoded data removed]",
            "text/plain": [
              "<Figure size 432x288 with 1 Axes>"
            ]
          },
          "metadata": {
            "tags": [],
            "needs_background": "light"
          }
        },
        {
          "output_type": "display_data",
          "data": {
            "image/png": "[encoded data removed]",
            "text/plain": [
              "<Figure size 432x288 with 1 Axes>"
            ]
          },
          "metadata": {
            "tags": [],
            "needs_background": "light"
          }
        }
      ]
    },
    {
      "cell_type": "markdown",
      "metadata": {
        "id": "aRAzqxtUGteq"
      },
      "source": [
        "#CNN +LSTM"
      ]
    },
    {
      "cell_type": "code",
      "metadata": {
        "colab": {
          "base_uri": "https://localhost:8080/"
        },
        "id": "7zoY-NWnvvhy",
        "outputId": "43a139c2-5cac-4930-9cae-0781d1b85e9e"
      },
      "source": [
        "# CNN + LSTM \r\n",
        "model3 = tf.keras.models.Sequential([\r\n",
        "      tf.keras.layers.Embedding(vocab_size, 100, weights=[embedding_matrix], input_length=maxlen , trainable=False),\r\n",
        "      tf.keras.layers.Conv1D(128, 5, activation='relu'),\r\n",
        "      tf.keras.layers.MaxPooling1D(2),\r\n",
        "      tf.keras.layers.Dropout(0.2),\r\n",
        "      tf.keras.layers.Reshape((48,128), input_shape=(48,128)),\r\n",
        "      tf.keras.layers.LSTM(128, activation='relu'),\r\n",
        "      tf.keras.layers.Dropout(0.1),\r\n",
        "      #tf.keras.layers.Conv1D(64, 5, activation='relu'),\r\n",
        "      #tf.keras.layers.MaxPooling1D(2),\r\n",
        "      #tf.keras.layers.Dropout(0.2),\r\n",
        "      tf.keras.layers.Flatten(),\r\n",
        "      tf.keras.layers.Dense(128, activation='relu'),\r\n",
        "      tf.keras.layers.Dense(64, activation='relu'),\r\n",
        "      tf.keras.layers.Dense(1, activation='sigmoid')\r\n",
        "])\r\n",
        "\r\n",
        "model3.compile(optimizer='adam', loss='binary_crossentropy', metrics=['acc'])\r\n",
        "print(model3.summary())"
      ],
      "execution_count": 32,
      "outputs": [
        {
          "output_type": "stream",
          "text": [
            "WARNING:tensorflow:Layer lstm_1 will not use cuDNN kernel since it doesn't meet the cuDNN kernel criteria. It will use generic GPU kernel as fallback when running on GPU\n",
            "Model: \"sequential_2\"\n",
            "_________________________________________________________________\n",
            "Layer (type)                 Output Shape              Param #   \n",
            "=================================================================\n",
            "embedding_2 (Embedding)      (None, 100, 100)          4551600   \n",
            "_________________________________________________________________\n",
            "conv1d_2 (Conv1D)            (None, 96, 128)           64128     \n",
            "_________________________________________________________________\n",
            "max_pooling1d_2 (MaxPooling1 (None, 48, 128)           0         \n",
            "_________________________________________________________________\n",
            "dropout_3 (Dropout)          (None, 48, 128)           0         \n",
            "_________________________________________________________________\n",
            "reshape (Reshape)            (None, 48, 128)           0         \n",
            "_________________________________________________________________\n",
            "lstm_1 (LSTM)                (None, 128)               131584    \n",
            "_________________________________________________________________\n",
            "dropout_4 (Dropout)          (None, 128)               0         \n",
            "_________________________________________________________________\n",
            "flatten_2 (Flatten)          (None, 128)               0         \n",
            "_________________________________________________________________\n",
            "dense_6 (Dense)              (None, 128)               16512     \n",
            "_________________________________________________________________\n",
            "dense_7 (Dense)              (None, 64)                8256      \n",
            "_________________________________________________________________\n",
            "dense_8 (Dense)              (None, 1)                 65        \n",
            "=================================================================\n",
            "Total params: 4,772,145\n",
            "Trainable params: 220,545\n",
            "Non-trainable params: 4,551,600\n",
            "_________________________________________________________________\n",
            "None\n"
          ],
          "name": "stdout"
        }
      ]
    },
    {
      "cell_type": "code",
      "metadata": {
        "colab": {
          "base_uri": "https://localhost:8080/"
        },
        "id": "MXRUt2LCc8oN",
        "outputId": "64b2f5bd-b8ff-4522-c73c-3fef41be9917"
      },
      "source": [
        "history = model3.fit(X_train, y_train, batch_size=128, epochs=6, verbose=1, validation_split=0.2)\r\n",
        "\r\n",
        "score = model3.evaluate(X_test, y_test, verbose=1)"
      ],
      "execution_count": 33,
      "outputs": [
        {
          "output_type": "stream",
          "text": [
            "Epoch 1/6\n",
            "10/10 [==============================] - 3s 126ms/step - loss: 0.6942 - acc: 0.5235 - val_loss: 0.6988 - val_acc: 0.4577\n",
            "Epoch 2/6\n",
            "10/10 [==============================] - 1s 93ms/step - loss: 0.6922 - acc: 0.5327 - val_loss: 0.7084 - val_acc: 0.4577\n",
            "Epoch 3/6\n",
            "10/10 [==============================] - 1s 92ms/step - loss: 0.6834 - acc: 0.5547 - val_loss: 0.6977 - val_acc: 0.5016\n",
            "Epoch 4/6\n",
            "10/10 [==============================] - 1s 100ms/step - loss: 0.6864 - acc: 0.5490 - val_loss: 0.7094 - val_acc: 0.4639\n",
            "Epoch 5/6\n",
            "10/10 [==============================] - 1s 90ms/step - loss: 0.6738 - acc: 0.5837 - val_loss: 0.7228 - val_acc: 0.4577\n",
            "Epoch 6/6\n",
            "10/10 [==============================] - 1s 105ms/step - loss: 0.6600 - acc: 0.5778 - val_loss: 0.7251 - val_acc: 0.4890\n",
            "13/13 [==============================] - 0s 9ms/step - loss: 0.7119 - acc: 0.5025\n"
          ],
          "name": "stdout"
        }
      ]
    },
    {
      "cell_type": "code",
      "metadata": {
        "colab": {
          "base_uri": "https://localhost:8080/"
        },
        "id": "0mTlXZkEdV8b",
        "outputId": "bc82d9d0-fbf0-4900-8b3f-e374fb87073b"
      },
      "source": [
        "print(\"Test Score:\", score[0])\r\n",
        "print(\"Test Accuracy:\", score[1])"
      ],
      "execution_count": 34,
      "outputs": [
        {
          "output_type": "stream",
          "text": [
            "Test Score: 0.7119483351707458\n",
            "Test Accuracy: 0.5025125741958618\n"
          ],
          "name": "stdout"
        }
      ]
    },
    {
      "cell_type": "code",
      "metadata": {
        "colab": {
          "base_uri": "https://localhost:8080/",
          "height": 573
        },
        "id": "WqYZHelYGzAK",
        "outputId": "04c57d0a-6cf7-4c96-f54e-71ccdc784746"
      },
      "source": [
        "plt.plot(history.history['acc'])\r\n",
        "plt.plot(history.history['val_acc'])\r\n",
        "\r\n",
        "plt.title('model accuracy')\r\n",
        "plt.ylabel('accuracy')\r\n",
        "plt.xlabel('epoch')\r\n",
        "plt.legend(['train','test'], loc = 'upper left')\r\n",
        "plt.show()\r\n",
        "\r\n",
        "plt.plot(history.history['loss'])\r\n",
        "plt.plot(history.history['val_loss'])\r\n",
        "\r\n",
        "plt.title('model loss')\r\n",
        "plt.ylabel('loss')\r\n",
        "plt.xlabel('epoch')\r\n",
        "plt.legend(['train','test'], loc = 'upper left')\r\n",
        "plt.show()"
      ],
      "execution_count": 35,
      "outputs": [
        {
          "output_type": "display_data",
          "data": {
            "image/png": "[encoded data removed]",
            "text/plain": [
              "<Figure size 432x288 with 1 Axes>"
            ]
          },
          "metadata": {
            "tags": [],
            "needs_background": "light"
          }
        },
        {
          "output_type": "display_data",
          "data": {
            "image/png": "[encoded data removed]",
            "text/plain": [
              "<Figure size 432x288 with 1 Axes>"
            ]
          },
          "metadata": {
            "tags": [],
            "needs_background": "light"
          }
        }
      ]
    },
    {
      "cell_type": "markdown",
      "metadata": {
        "id": "B_iI1lzhILJ6"
      },
      "source": [
        "# simple 2D CNN"
      ]
    },
    {
      "cell_type": "code",
      "metadata": {
        "id": "HOZUU2zRbKXg",
        "colab": {
          "base_uri": "https://localhost:8080/"
        },
        "outputId": "dc7192ef-52c4-4090-c79b-cf73754d8ff6"
      },
      "source": [
        "# simple 2D CNN\r\n",
        "model5 = tf.keras.models.Sequential([\r\n",
        "      tf.keras.layers.Embedding(vocab_size, 100, weights=[embedding_matrix], input_length=maxlen , trainable=False),\r\n",
        "      tf.keras.layers.Reshape((100,10,10), input_shape=(100,100)),\r\n",
        "      tf.keras.layers.Conv2D(128, (5,5), activation='relu'),\r\n",
        "      tf.keras.layers.MaxPooling2D(2,2),\r\n",
        "      #tf.keras.layers.Dropout(0.2),\r\n",
        "      #tf.keras.layers.Reshape((48,128), input_shape=(48,128)),\r\n",
        "      #tf.keras.layers.LSTM(128, activation='relu'),\r\n",
        "      #tf.keras.layers.Dropout(0.1),\r\n",
        "      #tf.keras.layers.Conv1D(64, 5, activation='relu'),\r\n",
        "      #tf.keras.layers.MaxPooling1D(2),\r\n",
        "      #tf.keras.layers.Dropout(0.2),\r\n",
        "      tf.keras.layers.Flatten(),\r\n",
        "      tf.keras.layers.Dense(128, activation='relu'),\r\n",
        "      tf.keras.layers.Dense(64, activation='relu'),\r\n",
        "      tf.keras.layers.Dense(1, activation='sigmoid')\r\n",
        "])\r\n",
        "\r\n",
        "model5.compile(optimizer='adam', loss='binary_crossentropy', metrics=['acc'])\r\n",
        "print(model5.summary())"
      ],
      "execution_count": 44,
      "outputs": [
        {
          "output_type": "stream",
          "text": [
            "Model: \"sequential_6\"\n",
            "_________________________________________________________________\n",
            "Layer (type)                 Output Shape              Param #   \n",
            "=================================================================\n",
            "embedding_6 (Embedding)      (None, 100, 100)          4551600   \n",
            "_________________________________________________________________\n",
            "reshape_6 (Reshape)          (None, 100, 10, 10)       0         \n",
            "_________________________________________________________________\n",
            "conv2d_3 (Conv2D)            (None, 96, 6, 128)        32128     \n",
            "_________________________________________________________________\n",
            "max_pooling2d_3 (MaxPooling2 (None, 48, 3, 128)        0         \n",
            "_________________________________________________________________\n",
            "flatten_6 (Flatten)          (None, 18432)             0         \n",
            "_________________________________________________________________\n",
            "dense_18 (Dense)             (None, 128)               2359424   \n",
            "_________________________________________________________________\n",
            "dense_19 (Dense)             (None, 64)                8256      \n",
            "_________________________________________________________________\n",
            "dense_20 (Dense)             (None, 1)                 65        \n",
            "=================================================================\n",
            "Total params: 6,951,473\n",
            "Trainable params: 2,399,873\n",
            "Non-trainable params: 4,551,600\n",
            "_________________________________________________________________\n",
            "None\n"
          ],
          "name": "stdout"
        }
      ]
    },
    {
      "cell_type": "code",
      "metadata": {
        "colab": {
          "base_uri": "https://localhost:8080/"
        },
        "id": "h8ei8pywuWYI",
        "outputId": "64abaef8-8a70-47ce-a29e-d36eed5862f0"
      },
      "source": [
        "print(model5.summary())"
      ],
      "execution_count": 45,
      "outputs": [
        {
          "output_type": "stream",
          "text": [
            "Model: \"sequential_6\"\n",
            "_________________________________________________________________\n",
            "Layer (type)                 Output Shape              Param #   \n",
            "=================================================================\n",
            "embedding_6 (Embedding)      (None, 100, 100)          4551600   \n",
            "_________________________________________________________________\n",
            "reshape_6 (Reshape)          (None, 100, 10, 10)       0         \n",
            "_________________________________________________________________\n",
            "conv2d_3 (Conv2D)            (None, 96, 6, 128)        32128     \n",
            "_________________________________________________________________\n",
            "max_pooling2d_3 (MaxPooling2 (None, 48, 3, 128)        0         \n",
            "_________________________________________________________________\n",
            "flatten_6 (Flatten)          (None, 18432)             0         \n",
            "_________________________________________________________________\n",
            "dense_18 (Dense)             (None, 128)               2359424   \n",
            "_________________________________________________________________\n",
            "dense_19 (Dense)             (None, 64)                8256      \n",
            "_________________________________________________________________\n",
            "dense_20 (Dense)             (None, 1)                 65        \n",
            "=================================================================\n",
            "Total params: 6,951,473\n",
            "Trainable params: 2,399,873\n",
            "Non-trainable params: 4,551,600\n",
            "_________________________________________________________________\n",
            "None\n"
          ],
          "name": "stdout"
        }
      ]
    },
    {
      "cell_type": "code",
      "metadata": {
        "colab": {
          "base_uri": "https://localhost:8080/"
        },
        "id": "QdKyT0YZufUd",
        "outputId": "848fbf42-33b4-4674-92c8-a82ff913f42c"
      },
      "source": [
        "history = model5.fit(X_train, y_train, batch_size=128, epochs=6, verbose=1, validation_split=0.2)\r\n",
        "\r\n",
        "score = model5.evaluate(X_test, y_test, verbose=1)"
      ],
      "execution_count": 46,
      "outputs": [
        {
          "output_type": "stream",
          "text": [
            "Epoch 1/6\n",
            "10/10 [==============================] - 1s 43ms/step - loss: 1.8311 - acc: 0.4904 - val_loss: 0.7314 - val_acc: 0.4577\n",
            "Epoch 2/6\n",
            "10/10 [==============================] - 0s 12ms/step - loss: 0.7003 - acc: 0.4983 - val_loss: 0.7279 - val_acc: 0.4577\n",
            "Epoch 3/6\n",
            "10/10 [==============================] - 0s 11ms/step - loss: 0.6861 - acc: 0.5521 - val_loss: 0.7299 - val_acc: 0.4577\n",
            "Epoch 4/6\n",
            "10/10 [==============================] - 0s 12ms/step - loss: 0.6684 - acc: 0.5570 - val_loss: 0.7006 - val_acc: 0.4639\n",
            "Epoch 5/6\n",
            "10/10 [==============================] - 0s 11ms/step - loss: 0.6591 - acc: 0.6230 - val_loss: 0.7187 - val_acc: 0.4577\n",
            "Epoch 6/6\n",
            "10/10 [==============================] - 0s 12ms/step - loss: 0.6390 - acc: 0.5990 - val_loss: 0.6959 - val_acc: 0.4953\n",
            "13/13 [==============================] - 0s 4ms/step - loss: 0.6950 - acc: 0.4824\n"
          ],
          "name": "stdout"
        }
      ]
    },
    {
      "cell_type": "code",
      "metadata": {
        "colab": {
          "base_uri": "https://localhost:8080/"
        },
        "id": "XPV9JLXZufXk",
        "outputId": "1b2838c1-c161-40d2-9439-3e0269c45953"
      },
      "source": [
        "print(\"Test Score:\", score[0])\r\n",
        "print(\"Test Accuracy:\", score[1])"
      ],
      "execution_count": null,
      "outputs": [
        {
          "output_type": "stream",
          "text": [
            "Test Score: 0.6903513073921204\n",
            "Test Accuracy: 0.570351779460907\n"
          ],
          "name": "stdout"
        }
      ]
    },
    {
      "cell_type": "code",
      "metadata": {
        "colab": {
          "base_uri": "https://localhost:8080/",
          "height": 0
        },
        "id": "ForvPPnQufaS",
        "outputId": "cbf566e2-dd30-4e42-caca-3c29baee584e"
      },
      "source": [
        "plt.plot(history.history['acc'])\r\n",
        "plt.plot(history.history['val_acc'])\r\n",
        "\r\n",
        "plt.title('model accuracy')\r\n",
        "plt.ylabel('accuracy')\r\n",
        "plt.xlabel('epoch')\r\n",
        "plt.legend(['train','test'], loc = 'upper left')\r\n",
        "plt.show()\r\n",
        "\r\n",
        "plt.plot(history.history['loss'])\r\n",
        "plt.plot(history.history['val_loss'])\r\n",
        "\r\n",
        "plt.title('model loss')\r\n",
        "plt.ylabel('loss')\r\n",
        "plt.xlabel('epoch')\r\n",
        "plt.legend(['train','test'], loc = 'upper left')\r\n",
        "plt.show()"
      ],
      "execution_count": 47,
      "outputs": [
        {
          "output_type": "display_data",
          "data": {
            "image/png": "[encoded data removed]",
            "text/plain": [
              "<Figure size 432x288 with 1 Axes>"
            ]
          },
          "metadata": {
            "tags": [],
            "needs_background": "light"
          }
        },
        {
          "output_type": "display_data",
          "data": {
            "image/png": "[encoded data removed]",
            "text/plain": [
              "<Figure size 432x288 with 1 Axes>"
            ]
          },
          "metadata": {
            "tags": [],
            "needs_background": "light"
          }
        }
      ]
    },
    {
      "cell_type": "markdown",
      "metadata": {
        "id": "OvOUhQpQGzSD"
      },
      "source": [
        "#2D CNN +LSTM\r\n"
      ]
    },
    {
      "cell_type": "code",
      "metadata": {
        "colab": {
          "base_uri": "https://localhost:8080/"
        },
        "id": "RpE85C7zajWI",
        "outputId": "c67cdee9-af89-4fdd-e48e-ed9f6a7bf780"
      },
      "source": [
        "# CNN 2D\r\n",
        "model4 = tf.keras.models.Sequential([\r\n",
        "      tf.keras.layers.Embedding(vocab_size, 100, weights=[embedding_matrix], input_length=maxlen , trainable=False),\r\n",
        "      tf.keras.layers.Reshape((100,10,10), input_shape=(100,100)),\r\n",
        "      tf.keras.layers.Conv2D(64, (3,3), activation='relu'),\r\n",
        "      tf.keras.layers.MaxPooling2D(2,2),\r\n",
        "      tf.keras.layers.Dropout(0.2),\r\n",
        "      tf.keras.layers.Reshape((128,98), input_shape=(49,4,64)),\r\n",
        "      tf.keras.layers.LSTM((128), activation='relu'),\r\n",
        "      tf.keras.layers.Dropout(0.2),\r\n",
        "      tf.keras.layers.Flatten(),\r\n",
        "      tf.keras.layers.Dense(128, activation='relu'),\r\n",
        "      tf.keras.layers.Dense(64, activation='relu'),\r\n",
        "      tf.keras.layers.Dense(1, activation='sigmoid')\r\n",
        "])\r\n",
        "\r\n",
        "model4.compile(optimizer='adam', loss='binary_crossentropy', metrics=['acc'])\r\n",
        "print(model4.summary())"
      ],
      "execution_count": 40,
      "outputs": [
        {
          "output_type": "stream",
          "text": [
            "WARNING:tensorflow:Layer lstm_3 will not use cuDNN kernel since it doesn't meet the cuDNN kernel criteria. It will use generic GPU kernel as fallback when running on GPU\n",
            "Model: \"sequential_4\"\n",
            "_________________________________________________________________\n",
            "Layer (type)                 Output Shape              Param #   \n",
            "=================================================================\n",
            "embedding_4 (Embedding)      (None, 100, 100)          4551600   \n",
            "_________________________________________________________________\n",
            "reshape_3 (Reshape)          (None, 100, 10, 10)       0         \n",
            "_________________________________________________________________\n",
            "conv2d_1 (Conv2D)            (None, 98, 8, 64)         5824      \n",
            "_________________________________________________________________\n",
            "max_pooling2d_1 (MaxPooling2 (None, 49, 4, 64)         0         \n",
            "_________________________________________________________________\n",
            "dropout_7 (Dropout)          (None, 49, 4, 64)         0         \n",
            "_________________________________________________________________\n",
            "reshape_4 (Reshape)          (None, 128, 98)           0         \n",
            "_________________________________________________________________\n",
            "lstm_3 (LSTM)                (None, 128)               116224    \n",
            "_________________________________________________________________\n",
            "dropout_8 (Dropout)          (None, 128)               0         \n",
            "_________________________________________________________________\n",
            "flatten_4 (Flatten)          (None, 128)               0         \n",
            "_________________________________________________________________\n",
            "dense_12 (Dense)             (None, 128)               16512     \n",
            "_________________________________________________________________\n",
            "dense_13 (Dense)             (None, 64)                8256      \n",
            "_________________________________________________________________\n",
            "dense_14 (Dense)             (None, 1)                 65        \n",
            "=================================================================\n",
            "Total params: 4,698,481\n",
            "Trainable params: 146,881\n",
            "Non-trainable params: 4,551,600\n",
            "_________________________________________________________________\n",
            "None\n"
          ],
          "name": "stdout"
        }
      ]
    },
    {
      "cell_type": "code",
      "metadata": {
        "colab": {
          "base_uri": "https://localhost:8080/"
        },
        "id": "MSa45y6jYAAF",
        "outputId": "0623cbe1-90a7-49ba-e31a-55497bf9db4f"
      },
      "source": [
        "history = model4.fit(X_train, y_train, batch_size=128, epochs=10, verbose=2, validation_split=0.2)\r\n",
        "\r\n",
        "score = model4.evaluate(X_test, y_test, verbose=1)"
      ],
      "execution_count": 37,
      "outputs": [
        {
          "output_type": "stream",
          "text": [
            "Epoch 1/10\n",
            "10/10 - 4s - loss: 0.6923 - acc: 0.5346 - val_loss: 0.6978 - val_acc: 0.4577\n",
            "Epoch 2/10\n",
            "10/10 - 2s - loss: 0.6898 - acc: 0.5425 - val_loss: 0.7157 - val_acc: 0.4577\n",
            "Epoch 3/10\n",
            "10/10 - 2s - loss: 0.6896 - acc: 0.5440 - val_loss: 0.7048 - val_acc: 0.4577\n",
            "Epoch 4/10\n",
            "10/10 - 2s - loss: 0.6898 - acc: 0.5487 - val_loss: 0.7004 - val_acc: 0.4577\n",
            "Epoch 5/10\n",
            "10/10 - 2s - loss: 0.6881 - acc: 0.5448 - val_loss: 0.7053 - val_acc: 0.4577\n",
            "Epoch 6/10\n",
            "10/10 - 2s - loss: 0.6859 - acc: 0.5409 - val_loss: 0.6992 - val_acc: 0.4577\n",
            "Epoch 7/10\n",
            "10/10 - 2s - loss: 0.6848 - acc: 0.5417 - val_loss: 0.6986 - val_acc: 0.4514\n",
            "Epoch 8/10\n",
            "10/10 - 2s - loss: 0.6787 - acc: 0.5708 - val_loss: 0.7338 - val_acc: 0.4577\n",
            "Epoch 9/10\n",
            "10/10 - 2s - loss: 0.6846 - acc: 0.5503 - val_loss: 0.7361 - val_acc: 0.4577\n",
            "Epoch 10/10\n",
            "10/10 - 2s - loss: 0.6750 - acc: 0.5747 - val_loss: 0.6977 - val_acc: 0.4765\n",
            "13/13 [==============================] - 0s 20ms/step - loss: 0.6989 - acc: 0.4422\n"
          ],
          "name": "stdout"
        }
      ]
    },
    {
      "cell_type": "code",
      "metadata": {
        "colab": {
          "base_uri": "https://localhost:8080/"
        },
        "id": "vkOkqn1gYIBx",
        "outputId": "27cc4868-f0a5-40e9-a710-bf81d655ee7a"
      },
      "source": [
        "print(\"Test Score:\", score[0])\r\n",
        "print(\"Test Accuracy:\", score[1])"
      ],
      "execution_count": 38,
      "outputs": [
        {
          "output_type": "stream",
          "text": [
            "Test Score: 0.6989283561706543\n",
            "Test Accuracy: 0.4422110617160797\n"
          ],
          "name": "stdout"
        }
      ]
    },
    {
      "cell_type": "code",
      "metadata": {
        "id": "T2GdY0Jzd55l",
        "colab": {
          "base_uri": "https://localhost:8080/",
          "height": 573
        },
        "outputId": "408f5ee3-5a25-4002-ba59-d094e22c3579"
      },
      "source": [
        "plt.plot(history.history['acc'])\r\n",
        "plt.plot(history.history['val_acc'])\r\n",
        "\r\n",
        "plt.title('model accuracy')\r\n",
        "plt.ylabel('accuracy')\r\n",
        "plt.xlabel('epoch')\r\n",
        "plt.legend(['train','test'], loc = 'upper left')\r\n",
        "plt.show()\r\n",
        "\r\n",
        "plt.plot(history.history['loss'])\r\n",
        "plt.plot(history.history['val_loss'])\r\n",
        "\r\n",
        "plt.title('model loss')\r\n",
        "plt.ylabel('loss')\r\n",
        "plt.xlabel('epoch')\r\n",
        "plt.legend(['train','test'], loc = 'upper left')\r\n",
        "plt.show()"
      ],
      "execution_count": 39,
      "outputs": [
        {
          "output_type": "display_data",
          "data": {
            "image/png": "[encoded data removed]",
            "text/plain": [
              "<Figure size 432x288 with 1 Axes>"
            ]
          },
          "metadata": {
            "tags": [],
            "needs_background": "light"
          }
        },
        {
          "output_type": "display_data",
          "data": {
            "image/png": "[encoded data removed]",
            "text/plain": [
              "<Figure size 432x288 with 1 Axes>"
            ]
          },
          "metadata": {
            "tags": [],
            "needs_background": "light"
          }
        }
      ]
    }
  ]
}
