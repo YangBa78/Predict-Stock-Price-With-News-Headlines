{
  "nbformat": 4,
  "nbformat_minor": 0,
  "metadata": {
    "colab": {
      "name": "LSTM+Sentiment+ML.ipynb",
      "provenance": []
    },
    "kernelspec": {
      "name": "python3",
      "display_name": "Python 3"
    },
    "accelerator": "GPU"
  },
  "cells": [
    {
      "cell_type": "code",
      "metadata": {
        "id": "NSUmmobx362k"
      },
      "source": [
        "import pandas as pd\r\n",
        "import numpy as np\r\n",
        "import re\r\n",
        "import nltk\r\n",
        "from nltk.corpus import stopwords\r\n",
        "\r\n",
        "from numpy import array\r\n",
        "from keras.preprocessing.text import one_hot\r\n",
        "from keras.preprocessing.sequence import pad_sequences\r\n",
        "from keras.models import Sequential\r\n",
        "from keras.layers.core import Activation, Dropout, Dense\r\n",
        "from keras.layers import Flatten\r\n",
        "from keras.layers import GlobalMaxPooling1D\r\n",
        "from keras.layers.convolutional import Conv1D\r\n",
        "from keras.layers.recurrent import LSTM\r\n",
        "from keras.layers.embeddings import Embedding\r\n",
        "from sklearn.model_selection import train_test_split\r\n",
        "from keras.preprocessing.text import Tokenizer\r\n",
        "import matplotlib.pyplot as plt"
      ],
      "execution_count": null,
      "outputs": []
    },
    {
      "cell_type": "markdown",
      "metadata": {
        "id": "_4Um_np68N6p"
      },
      "source": [
        "#Load Data"
      ]
    },
    {
      "cell_type": "code",
      "metadata": {
        "colab": {
          "base_uri": "https://localhost:8080/"
        },
        "id": "X7SKNgX7OCaS",
        "outputId": "00ab8d24-1351-4c8b-ea9c-b0fd35ea2eb9"
      },
      "source": [
        "from google.colab import drive\r\n",
        "drive.mount('/content/drive')"
      ],
      "execution_count": null,
      "outputs": [
        {
          "output_type": "stream",
          "text": [
            "Mounted at /content/drive\n"
          ],
          "name": "stdout"
        }
      ]
    },
    {
      "cell_type": "code",
      "metadata": {
        "colab": {
          "base_uri": "https://localhost:8080/"
        },
        "id": "YJb_g-8v4HQ_",
        "outputId": "fda24987-ac40-466c-b498-ca913828dc0a"
      },
      "source": [
        "movie_reviews = pd.read_csv(\"drive/My Drive/Colab Notebooks/data/IMDB Dataset.csv\")\r\n",
        "\r\n",
        "movie_reviews.isnull().values.any()\r\n",
        "\r\n",
        "movie_reviews.shape"
      ],
      "execution_count": null,
      "outputs": [
        {
          "output_type": "execute_result",
          "data": {
            "text/plain": [
              "(50000, 2)"
            ]
          },
          "metadata": {
            "tags": []
          },
          "execution_count": 4
        }
      ]
    },
    {
      "cell_type": "code",
      "metadata": {
        "colab": {
          "base_uri": "https://localhost:8080/",
          "height": 204
        },
        "id": "YjmW2AJD4Ffg",
        "outputId": "e7a214c7-8dec-40b7-c543-7633c5a11ade"
      },
      "source": [
        "movie_reviews.head()"
      ],
      "execution_count": null,
      "outputs": [
        {
          "output_type": "execute_result",
          "data": {
            "text/html": [
              "<div>\n",
              "<style scoped>\n",
              "    .dataframe tbody tr th:only-of-type {\n",
              "        vertical-align: middle;\n",
              "    }\n",
              "\n",
              "    .dataframe tbody tr th {\n",
              "        vertical-align: top;\n",
              "    }\n",
              "\n",
              "    .dataframe thead th {\n",
              "        text-align: right;\n",
              "    }\n",
              "</style>\n",
              "<table border=\"1\" class=\"dataframe\">\n",
              "  <thead>\n",
              "    <tr style=\"text-align: right;\">\n",
              "      <th></th>\n",
              "      <th>review</th>\n",
              "      <th>sentiment</th>\n",
              "    </tr>\n",
              "  </thead>\n",
              "  <tbody>\n",
              "    <tr>\n",
              "      <th>0</th>\n",
              "      <td>One of the other reviewers has mentioned that ...</td>\n",
              "      <td>positive</td>\n",
              "    </tr>\n",
              "    <tr>\n",
              "      <th>1</th>\n",
              "      <td>A wonderful little production. &lt;br /&gt;&lt;br /&gt;The...</td>\n",
              "      <td>positive</td>\n",
              "    </tr>\n",
              "    <tr>\n",
              "      <th>2</th>\n",
              "      <td>I thought this was a wonderful way to spend ti...</td>\n",
              "      <td>positive</td>\n",
              "    </tr>\n",
              "    <tr>\n",
              "      <th>3</th>\n",
              "      <td>Basically there's a family where a little boy ...</td>\n",
              "      <td>negative</td>\n",
              "    </tr>\n",
              "    <tr>\n",
              "      <th>4</th>\n",
              "      <td>Petter Mattei's \"Love in the Time of Money\" is...</td>\n",
              "      <td>positive</td>\n",
              "    </tr>\n",
              "  </tbody>\n",
              "</table>\n",
              "</div>"
            ],
            "text/plain": [
              "                                              review sentiment\n",
              "0  One of the other reviewers has mentioned that ...  positive\n",
              "1  A wonderful little production. <br /><br />The...  positive\n",
              "2  I thought this was a wonderful way to spend ti...  positive\n",
              "3  Basically there's a family where a little boy ...  negative\n",
              "4  Petter Mattei's \"Love in the Time of Money\" is...  positive"
            ]
          },
          "metadata": {
            "tags": []
          },
          "execution_count": 5
        }
      ]
    },
    {
      "cell_type": "code",
      "metadata": {
        "colab": {
          "base_uri": "https://localhost:8080/",
          "height": 137
        },
        "id": "oA48aHSJ88v_",
        "outputId": "35a56cd5-76f3-4420-a597-a2596f94f8e6"
      },
      "source": [
        "movie_reviews[\"review\"][3]"
      ],
      "execution_count": null,
      "outputs": [
        {
          "output_type": "execute_result",
          "data": {
            "application/vnd.google.colaboratory.intrinsic+json": {
              "type": "string"
            },
            "text/plain": [
              "\"Basically there's a family where a little boy (Jake) thinks there's a zombie in his closet & his parents are fighting all the time.<br /><br />This movie is slower than a soap opera... and suddenly, Jake decides to become Rambo and kill the zombie.<br /><br />OK, first of all when you're going to make a film you must Decide if its a thriller or a drama! As a drama the movie is watchable. Parents are divorcing & arguing like in real life. And then we have Jake with his closet which totally ruins all the film! I expected to see a BOOGEYMAN similar movie, and instead i watched a drama with some meaningless thriller spots.<br /><br />3 out of 10 just for the well playing parents & descent dialogs. As for the shots with Jake: just ignore them.\""
            ]
          },
          "metadata": {
            "tags": []
          },
          "execution_count": 6
        }
      ]
    },
    {
      "cell_type": "code",
      "metadata": {
        "colab": {
          "base_uri": "https://localhost:8080/",
          "height": 296
        },
        "id": "xDGUjaTc88yf",
        "outputId": "a988e460-18e0-446b-8d38-570fbe241f78"
      },
      "source": [
        "import seaborn as sns\r\n",
        "\r\n",
        "sns.countplot(x='sentiment', data=movie_reviews)"
      ],
      "execution_count": null,
      "outputs": [
        {
          "output_type": "execute_result",
          "data": {
            "text/plain": [
              "<matplotlib.axes._subplots.AxesSubplot at 0x7fdc8f20eda0>"
            ]
          },
          "metadata": {
            "tags": []
          },
          "execution_count": 7
        },
        {
          "output_type": "display_data",
          "data": {
            "image/png": "[encoded data removed]",
            "text/plain": [
              "<Figure size 432x288 with 1 Axes>"
            ]
          },
          "metadata": {
            "tags": [],
            "needs_background": "light"
          }
        }
      ]
    },
    {
      "cell_type": "markdown",
      "metadata": {
        "id": "SvKAQDHP8T0t"
      },
      "source": [
        "#Data Preprocessing"
      ]
    },
    {
      "cell_type": "code",
      "metadata": {
        "id": "qcNDNlYI881c"
      },
      "source": [
        "def preprocess_text(sen):\r\n",
        "    # Removing html tags\r\n",
        "    sentence = remove_tags(sen)\r\n",
        "\r\n",
        "    # Remove punctuations and numbers\r\n",
        "    sentence = re.sub('[^a-zA-Z]', ' ', sentence)\r\n",
        "\r\n",
        "    # Single character removal\r\n",
        "    sentence = re.sub(r\"\\s+[a-zA-Z]\\s+\", ' ', sentence)\r\n",
        "\r\n",
        "    # Removing multiple spaces\r\n",
        "    sentence = re.sub(r'\\s+', ' ', sentence)\r\n",
        "\r\n",
        "    return sentence\r\n"
      ],
      "execution_count": null,
      "outputs": []
    },
    {
      "cell_type": "code",
      "metadata": {
        "id": "fqsjRqhE884R"
      },
      "source": [
        "TAG_RE = re.compile(r'<[^>]+>')\r\n",
        "\r\n",
        "def remove_tags(text):\r\n",
        "    return TAG_RE.sub('', text)"
      ],
      "execution_count": null,
      "outputs": []
    },
    {
      "cell_type": "code",
      "metadata": {
        "id": "Z8tyrQyM887c"
      },
      "source": [
        "X = []\r\n",
        "sentences = list(movie_reviews['review'])\r\n",
        "for sen in sentences:\r\n",
        "    X.append(preprocess_text(sen))"
      ],
      "execution_count": null,
      "outputs": []
    },
    {
      "cell_type": "code",
      "metadata": {
        "colab": {
          "base_uri": "https://localhost:8080/",
          "height": 137
        },
        "id": "fuHzjcvy889O",
        "outputId": "f7786138-3212-46e9-ec7d-76ea25607a1d"
      },
      "source": [
        "X[3]"
      ],
      "execution_count": null,
      "outputs": [
        {
          "output_type": "execute_result",
          "data": {
            "application/vnd.google.colaboratory.intrinsic+json": {
              "type": "string"
            },
            "text/plain": [
              "'Basically there a family where little boy Jake thinks there a zombie in his closet his parents are fighting all the time This movie is slower than soap opera and suddenly Jake decides to become Rambo and kill the zombie OK first of all when you re going to make film you must Decide if its thriller or drama As drama the movie is watchable Parents are divorcing arguing like in real life And then we have Jake with his closet which totally ruins all the film expected to see BOOGEYMAN similar movie and instead watched drama with some meaningless thriller spots out of just for the well playing parents descent dialogs As for the shots with Jake just ignore them '"
            ]
          },
          "metadata": {
            "tags": []
          },
          "execution_count": 11
        }
      ]
    },
    {
      "cell_type": "code",
      "metadata": {
        "id": "bTtm1rXR9JAg"
      },
      "source": [
        "y = movie_reviews['sentiment']\r\n",
        "\r\n",
        "y = np.array(list(map(lambda x: 1 if x==\"positive\" else 0, y)))"
      ],
      "execution_count": null,
      "outputs": []
    },
    {
      "cell_type": "code",
      "metadata": {
        "id": "5S0xyf3E9JDK"
      },
      "source": [
        "X_train, X_test, y_train, y_test = train_test_split(X, y, test_size=0.20, random_state=42)"
      ],
      "execution_count": null,
      "outputs": []
    },
    {
      "cell_type": "markdown",
      "metadata": {
        "id": "_ATr7csw8dxU"
      },
      "source": [
        "#Embedding\r\n"
      ]
    },
    {
      "cell_type": "code",
      "metadata": {
        "id": "yEDSJFsg9JFw"
      },
      "source": [
        "# Preparing the Embedding Layer\r\n",
        "\r\n",
        "tokenizer = Tokenizer(num_words=5000)\r\n",
        "tokenizer.fit_on_texts(X_train)\r\n",
        "\r\n",
        "X_train = tokenizer.texts_to_sequences(X_train)\r\n",
        "X_test = tokenizer.texts_to_sequences(X_test)\r\n"
      ],
      "execution_count": null,
      "outputs": []
    },
    {
      "cell_type": "code",
      "metadata": {
        "id": "db97BHh39JId"
      },
      "source": [
        "# Adding 1 because of reserved 0 index\r\n",
        "vocab_size = len(tokenizer.word_index) + 1\r\n",
        "\r\n",
        "maxlen = 100\r\n",
        "\r\n",
        "X_train = pad_sequences(X_train, padding='post', maxlen=maxlen)\r\n",
        "X_test = pad_sequences(X_test, padding='post', maxlen=maxlen)"
      ],
      "execution_count": null,
      "outputs": []
    },
    {
      "cell_type": "code",
      "metadata": {
        "id": "HLRmkaGz9qGe"
      },
      "source": [
        "from numpy import array\r\n",
        "from numpy import asarray\r\n",
        "from numpy import zeros\r\n",
        "\r\n",
        "embeddings_dictionary = dict()\r\n",
        "glove_file = open('drive/My Drive/Colab Notebooks/data/glove.6B.100d.txt', encoding=\"utf8\")\r\n",
        "\r\n",
        "for line in glove_file:\r\n",
        "    records = line.split()\r\n",
        "    word = records[0]\r\n",
        "    vector_dimensions = asarray(records[1:], dtype='float32')\r\n",
        "    embeddings_dictionary [word] = vector_dimensions\r\n",
        "glove_file.close()"
      ],
      "execution_count": null,
      "outputs": []
    },
    {
      "cell_type": "code",
      "metadata": {
        "id": "vjGr0PbY9qJX"
      },
      "source": [
        "embedding_matrix = zeros((vocab_size, 100))\r\n",
        "for word, index in tokenizer.word_index.items():\r\n",
        "    embedding_vector = embeddings_dictionary.get(word)\r\n",
        "    if embedding_vector is not None:\r\n",
        "        embedding_matrix[index] = embedding_vector"
      ],
      "execution_count": null,
      "outputs": []
    },
    {
      "cell_type": "markdown",
      "metadata": {
        "id": "OoBO5C1j8F5V"
      },
      "source": [
        "#Train Text Classification Model with a Convolutional Neural Network\r\n",
        "\r\n",
        "\r\n"
      ]
    },
    {
      "cell_type": "code",
      "metadata": {
        "id": "ieDB4G34hooS"
      },
      "source": [
        "#Text Classification with a Convolutional Neural Network\r\n",
        "model = Sequential()\r\n",
        "\r\n",
        "embedding_layer = Embedding(vocab_size, 100, weights=[embedding_matrix], input_length=maxlen , trainable=False)\r\n",
        "model.add(embedding_layer)\r\n",
        "\r\n",
        "model.add(Conv1D(128, 5, activation='relu'))\r\n",
        "model.add(GlobalMaxPooling1D())\r\n",
        "model.add(Dense(1, activation='sigmoid'))\r\n",
        "model.compile(optimizer='adam', loss='binary_crossentropy', metrics=['acc'])"
      ],
      "execution_count": null,
      "outputs": []
    },
    {
      "cell_type": "code",
      "metadata": {
        "colab": {
          "base_uri": "https://localhost:8080/"
        },
        "id": "r08UJ07xhovt",
        "outputId": "ba80bf29-97f3-4b06-db7b-b27703903732"
      },
      "source": [
        "print(model.summary())"
      ],
      "execution_count": null,
      "outputs": [
        {
          "output_type": "stream",
          "text": [
            "Model: \"sequential\"\n",
            "_________________________________________________________________\n",
            "Layer (type)                 Output Shape              Param #   \n",
            "=================================================================\n",
            "embedding (Embedding)        (None, 100, 100)          9254700   \n",
            "_________________________________________________________________\n",
            "conv1d (Conv1D)              (None, 96, 128)           64128     \n",
            "_________________________________________________________________\n",
            "global_max_pooling1d (Global (None, 128)               0         \n",
            "_________________________________________________________________\n",
            "dense (Dense)                (None, 1)                 129       \n",
            "=================================================================\n",
            "Total params: 9,318,957\n",
            "Trainable params: 64,257\n",
            "Non-trainable params: 9,254,700\n",
            "_________________________________________________________________\n",
            "None\n"
          ],
          "name": "stdout"
        }
      ]
    },
    {
      "cell_type": "code",
      "metadata": {
        "colab": {
          "base_uri": "https://localhost:8080/"
        },
        "id": "L4PqpiFQh2UZ",
        "outputId": "cc1748ed-4978-4f68-d95b-29850c3bf350"
      },
      "source": [
        "history = model.fit(X_train, y_train, batch_size=128, epochs=6, verbose=1, validation_split=0.2)\r\n",
        "\r\n",
        "score = model.evaluate(X_test, y_test, verbose=1)"
      ],
      "execution_count": null,
      "outputs": [
        {
          "output_type": "stream",
          "text": [
            "Epoch 1/6\n",
            "250/250 [==============================] - 1s 5ms/step - loss: 0.4955 - acc: 0.7569 - val_loss: 0.3914 - val_acc: 0.8230\n",
            "Epoch 2/6\n",
            "250/250 [==============================] - 1s 4ms/step - loss: 0.3609 - acc: 0.8426 - val_loss: 0.3657 - val_acc: 0.8372\n",
            "Epoch 3/6\n",
            "250/250 [==============================] - 1s 4ms/step - loss: 0.3122 - acc: 0.8702 - val_loss: 0.3844 - val_acc: 0.8280\n",
            "Epoch 4/6\n",
            "250/250 [==============================] - 1s 4ms/step - loss: 0.2729 - acc: 0.8915 - val_loss: 0.3457 - val_acc: 0.8446\n",
            "Epoch 5/6\n",
            "250/250 [==============================] - 1s 4ms/step - loss: 0.2412 - acc: 0.9065 - val_loss: 0.3405 - val_acc: 0.8490\n",
            "Epoch 6/6\n",
            "250/250 [==============================] - 1s 4ms/step - loss: 0.2074 - acc: 0.9262 - val_loss: 0.3441 - val_acc: 0.8481\n",
            "313/313 [==============================] - 1s 2ms/step - loss: 0.3436 - acc: 0.8468\n"
          ],
          "name": "stdout"
        }
      ]
    },
    {
      "cell_type": "code",
      "metadata": {
        "colab": {
          "base_uri": "https://localhost:8080/"
        },
        "id": "qC2MZ6pxh2XL",
        "outputId": "543213bd-bc95-47f9-cb1a-8ff47582c2a4"
      },
      "source": [
        "print(\"Test Score:\", score[0])\r\n",
        "print(\"Test Accuracy:\", score[1])"
      ],
      "execution_count": null,
      "outputs": [
        {
          "output_type": "stream",
          "text": [
            "Test Score: 0.3436146378517151\n",
            "Test Accuracy: 0.8468000292778015\n"
          ],
          "name": "stdout"
        }
      ]
    },
    {
      "cell_type": "code",
      "metadata": {
        "colab": {
          "base_uri": "https://localhost:8080/",
          "height": 573
        },
        "id": "IcbTJMiCh2aB",
        "outputId": "b4d9a589-ed1a-48b6-d4e0-f01c4c036fa9"
      },
      "source": [
        "plt.plot(history.history['acc'])\r\n",
        "plt.plot(history.history['val_acc'])\r\n",
        "\r\n",
        "plt.title('model accuracy')\r\n",
        "plt.ylabel('accuracy')\r\n",
        "plt.xlabel('epoch')\r\n",
        "plt.legend(['train','test'], loc = 'upper left')\r\n",
        "plt.show()\r\n",
        "\r\n",
        "plt.plot(history.history['loss'])\r\n",
        "plt.plot(history.history['val_loss'])\r\n",
        "\r\n",
        "plt.title('model loss')\r\n",
        "plt.ylabel('loss')\r\n",
        "plt.xlabel('epoch')\r\n",
        "plt.legend(['train','test'], loc = 'upper left')\r\n",
        "plt.show()"
      ],
      "execution_count": null,
      "outputs": [
        {
          "output_type": "display_data",
          "data": {
            "image/png": "[encoded data removed]",
            "text/plain": [
              "<Figure size 432x288 with 1 Axes>"
            ]
          },
          "metadata": {
            "tags": [],
            "needs_background": "light"
          }
        },
        {
          "output_type": "display_data",
          "data": {
            "image/png": "[encoded data removed]",
            "text/plain": [
              "<Figure size 432x288 with 1 Axes>"
            ]
          },
          "metadata": {
            "tags": [],
            "needs_background": "light"
          }
        }
      ]
    },
    {
      "cell_type": "markdown",
      "metadata": {
        "id": "RjgjOOTw9EnL"
      },
      "source": [
        "#Train Text Classification Model with a Recurrent Neural Network (LSTM)"
      ]
    },
    {
      "cell_type": "code",
      "metadata": {
        "id": "masPzoPW9TXR"
      },
      "source": [
        "# Text Classification with Recurrent Neural Network (LSTM)\r\n",
        "\r\n",
        "model = Sequential()\r\n",
        "embedding_layer = Embedding(vocab_size, 100, weights=[embedding_matrix], input_length=maxlen , trainable=False)\r\n",
        "model.add(embedding_layer)\r\n",
        "model.add(LSTM(128))\r\n",
        "\r\n",
        "model.add(Dense(1, activation='sigmoid'))\r\n",
        "model.compile(optimizer='adam', loss='binary_crossentropy', metrics=['acc'])"
      ],
      "execution_count": null,
      "outputs": []
    },
    {
      "cell_type": "code",
      "metadata": {
        "colab": {
          "base_uri": "https://localhost:8080/"
        },
        "id": "FfpzSPM1TBKJ",
        "outputId": "e09ca36d-9999-4efe-8513-3d0a1bf25117"
      },
      "source": [
        "print(model.summary())"
      ],
      "execution_count": null,
      "outputs": [
        {
          "output_type": "stream",
          "text": [
            "Model: \"sequential_1\"\n",
            "_________________________________________________________________\n",
            "Layer (type)                 Output Shape              Param #   \n",
            "=================================================================\n",
            "embedding_1 (Embedding)      (None, 100, 100)          9254700   \n",
            "_________________________________________________________________\n",
            "lstm (LSTM)                  (None, 128)               117248    \n",
            "_________________________________________________________________\n",
            "dense_1 (Dense)              (None, 1)                 129       \n",
            "=================================================================\n",
            "Total params: 9,372,077\n",
            "Trainable params: 117,377\n",
            "Non-trainable params: 9,254,700\n",
            "_________________________________________________________________\n",
            "None\n"
          ],
          "name": "stdout"
        }
      ]
    },
    {
      "cell_type": "code",
      "metadata": {
        "colab": {
          "base_uri": "https://localhost:8080/"
        },
        "id": "MzV-WvmpTDh0",
        "outputId": "03a6e283-16cd-428f-9b70-a1c0a6624316"
      },
      "source": [
        "history = model.fit(X_train, y_train, batch_size=128, epochs=6, verbose=1, validation_split=0.2)\r\n",
        "\r\n",
        "score = model.evaluate(X_test, y_test, verbose=1)"
      ],
      "execution_count": null,
      "outputs": [
        {
          "output_type": "stream",
          "text": [
            "Epoch 1/6\n",
            "250/250 [==============================] - 3s 12ms/step - loss: 0.5534 - acc: 0.7108 - val_loss: 0.4735 - val_acc: 0.7861\n",
            "Epoch 2/6\n",
            "250/250 [==============================] - 2s 10ms/step - loss: 0.4441 - acc: 0.7937 - val_loss: 0.3996 - val_acc: 0.8154\n",
            "Epoch 3/6\n",
            "250/250 [==============================] - 2s 10ms/step - loss: 0.3960 - acc: 0.8206 - val_loss: 0.3793 - val_acc: 0.8284\n",
            "Epoch 4/6\n",
            "250/250 [==============================] - 2s 10ms/step - loss: 0.3690 - acc: 0.8359 - val_loss: 0.3720 - val_acc: 0.8325\n",
            "Epoch 5/6\n",
            "250/250 [==============================] - 2s 10ms/step - loss: 0.3461 - acc: 0.8494 - val_loss: 0.3546 - val_acc: 0.8441\n",
            "Epoch 6/6\n",
            "250/250 [==============================] - 2s 10ms/step - loss: 0.3230 - acc: 0.8595 - val_loss: 0.3340 - val_acc: 0.8533\n",
            "313/313 [==============================] - 1s 4ms/step - loss: 0.3337 - acc: 0.8525\n"
          ],
          "name": "stdout"
        }
      ]
    },
    {
      "cell_type": "code",
      "metadata": {
        "colab": {
          "base_uri": "https://localhost:8080/"
        },
        "id": "94Xi-52tTHMx",
        "outputId": "2044ff43-a7f7-4223-aa54-932bf0f74077"
      },
      "source": [
        "print(\"Test Score:\", score[0])\r\n",
        "print(\"Test Accuracy:\", score[1])"
      ],
      "execution_count": null,
      "outputs": [
        {
          "output_type": "stream",
          "text": [
            "Test Score: 0.3336813747882843\n",
            "Test Accuracy: 0.8525000214576721\n"
          ],
          "name": "stdout"
        }
      ]
    },
    {
      "cell_type": "code",
      "metadata": {
        "colab": {
          "base_uri": "https://localhost:8080/",
          "height": 573
        },
        "id": "Dal8XMiTTDpD",
        "outputId": "af962d1d-deb3-491e-d86e-c70bef715d54"
      },
      "source": [
        "import matplotlib.pyplot as plt\r\n",
        "\r\n",
        "plt.plot(history.history['acc'])\r\n",
        "plt.plot(history.history['val_acc'])\r\n",
        "\r\n",
        "plt.title('model accuracy')\r\n",
        "plt.ylabel('accuracy')\r\n",
        "plt.xlabel('epoch')\r\n",
        "plt.legend(['train','test'], loc='upper left')\r\n",
        "plt.show()\r\n",
        "\r\n",
        "plt.plot(history.history['loss'])\r\n",
        "plt.plot(history.history['val_loss'])\r\n",
        "\r\n",
        "plt.title('model loss')\r\n",
        "plt.ylabel('loss')\r\n",
        "plt.xlabel('epoch')\r\n",
        "plt.legend(['train','test'], loc='upper left')\r\n",
        "plt.show()"
      ],
      "execution_count": null,
      "outputs": [
        {
          "output_type": "display_data",
          "data": {
            "image/png": "[encoded data removed]",
            "text/plain": [
              "<Figure size 432x288 with 1 Axes>"
            ]
          },
          "metadata": {
            "tags": [],
            "needs_background": "light"
          }
        },
        {
          "output_type": "display_data",
          "data": {
            "image/png": "[encoded data removed]",
            "text/plain": [
              "<Figure size 432x288 with 1 Axes>"
            ]
          },
          "metadata": {
            "tags": [],
            "needs_background": "light"
          }
        }
      ]
    },
    {
      "cell_type": "markdown",
      "metadata": {
        "id": "MzJmUXIH9OJV"
      },
      "source": [
        "# Make Predictions\r\n"
      ]
    },
    {
      "cell_type": "code",
      "metadata": {
        "colab": {
          "base_uri": "https://localhost:8080/"
        },
        "id": "OTodzAhtTKiC",
        "outputId": "625abc17-eff7-40e8-a2e8-ab8a35f10067"
      },
      "source": [
        "# Making Predictions on Single Instance\r\n",
        "\r\n",
        "instance = X[57]\r\n",
        "print(instance)"
      ],
      "execution_count": null,
      "outputs": [
        {
          "output_type": "stream",
          "text": [
            "I laughed all the way through this rotten movie It so unbelievable woman leaves her husband after many years of marriage has breakdown in front of real estate office What happens The office manager comes outside and offers her job Hilarious Next thing you know the two women are going at it Yep they re lesbians Nothing rings true in this Lifetime for Women with nothing better to do movie Clunky dialogue like don want to spend the rest of my life feeling like had chance to be happy and didn take it doesn help There a wealthy distant mother who disapproves of her daughter new relationship sassy black maid unbelievable that in the year film gets made in which there a sassy black maid Hattie McDaniel must be turning in her grave The woman has husband who freaks out and wants custody of the snotty teenage kids Sheesh No cliche is left unturned \n"
          ],
          "name": "stdout"
        }
      ]
    },
    {
      "cell_type": "code",
      "metadata": {
        "colab": {
          "base_uri": "https://localhost:8080/"
        },
        "id": "M7J_oUuHTKru",
        "outputId": "e7e5bb86-d821-4fbe-d59b-8d3829c5296a"
      },
      "source": [
        "instance = tokenizer.texts_to_sequences(instance)\r\n",
        "\r\n",
        "flat_list = []\r\n",
        "for sublist in instance:\r\n",
        "    for item in sublist:\r\n",
        "        flat_list.append(item)\r\n",
        "\r\n",
        "flat_list = [flat_list]\r\n",
        "\r\n",
        "instance = pad_sequences(flat_list, padding='post', maxlen=maxlen)\r\n",
        "\r\n",
        "model.predict(instance)"
      ],
      "execution_count": null,
      "outputs": [
        {
          "output_type": "execute_result",
          "data": {
            "text/plain": [
              "array([[0.39544317]], dtype=float32)"
            ]
          },
          "metadata": {
            "tags": []
          },
          "execution_count": 29
        }
      ]
    },
    {
      "cell_type": "code",
      "metadata": {
        "colab": {
          "base_uri": "https://localhost:8080/"
        },
        "id": "BLRlnTOgVVzc",
        "outputId": "24621891-c88e-4309-f0cc-ca3df4783d11"
      },
      "source": [
        "instance2 = 'This movie is really bad!! I hate it!'\r\n",
        "print(instance2)"
      ],
      "execution_count": null,
      "outputs": [
        {
          "output_type": "stream",
          "text": [
            "This movie is really bad!! I hate it!\n"
          ],
          "name": "stdout"
        }
      ]
    },
    {
      "cell_type": "code",
      "metadata": {
        "colab": {
          "base_uri": "https://localhost:8080/"
        },
        "id": "u9To5qifd5RN",
        "outputId": "976422d6-4e8f-4fd8-a6a3-66bfa32eb78d"
      },
      "source": [
        "instance2 = tokenizer.texts_to_sequences(instance2)\r\n",
        "\r\n",
        "flat_list = []\r\n",
        "for sublist in instance2:\r\n",
        "    for item in sublist:\r\n",
        "        flat_list.append(item)\r\n",
        "\r\n",
        "flat_list = [flat_list]\r\n",
        "\r\n",
        "instance2 = pad_sequences(flat_list, padding='post', maxlen=maxlen)\r\n",
        "\r\n",
        "model.predict(instance2)"
      ],
      "execution_count": null,
      "outputs": [
        {
          "output_type": "execute_result",
          "data": {
            "text/plain": [
              "array([[0.80362284]], dtype=float32)"
            ]
          },
          "metadata": {
            "tags": []
          },
          "execution_count": 31
        }
      ]
    },
    {
      "cell_type": "markdown",
      "metadata": {
        "id": "ttZjelLw9X7l"
      },
      "source": [
        "#Load News Data"
      ]
    },
    {
      "cell_type": "code",
      "metadata": {
        "colab": {
          "base_uri": "https://localhost:8080/"
        },
        "id": "BGdcRLqeXkbs",
        "outputId": "b0c5b090-014d-4efa-c75d-52b8ba612a35"
      },
      "source": [
        "# Deal with News data\r\n",
        "\r\n",
        "news = pd.read_excel('drive/My Drive/Colab Notebooks/data/Combined_News_DJIA.xls')\r\n",
        "\r\n",
        "news.isnull().values.any()\r\n",
        "\r\n",
        "news.shape"
      ],
      "execution_count": null,
      "outputs": [
        {
          "output_type": "execute_result",
          "data": {
            "text/plain": [
              "(1989, 27)"
            ]
          },
          "metadata": {
            "tags": []
          },
          "execution_count": 32
        }
      ]
    },
    {
      "cell_type": "code",
      "metadata": {
        "colab": {
          "base_uri": "https://localhost:8080/",
          "height": 485
        },
        "id": "0fu3M0YaYx7U",
        "outputId": "cab7f2ba-a835-4640-ee6a-275274a56abf"
      },
      "source": [
        "news.head(3)"
      ],
      "execution_count": null,
      "outputs": [
        {
          "output_type": "execute_result",
          "data": {
            "text/html": [
              "<div>\n",
              "<style scoped>\n",
              "    .dataframe tbody tr th:only-of-type {\n",
              "        vertical-align: middle;\n",
              "    }\n",
              "\n",
              "    .dataframe tbody tr th {\n",
              "        vertical-align: top;\n",
              "    }\n",
              "\n",
              "    .dataframe thead th {\n",
              "        text-align: right;\n",
              "    }\n",
              "</style>\n",
              "<table border=\"1\" class=\"dataframe\">\n",
              "  <thead>\n",
              "    <tr style=\"text-align: right;\">\n",
              "      <th></th>\n",
              "      <th>Date</th>\n",
              "      <th>Label</th>\n",
              "      <th>Top1</th>\n",
              "      <th>Top2</th>\n",
              "      <th>Top3</th>\n",
              "      <th>Top4</th>\n",
              "      <th>Top5</th>\n",
              "      <th>Top6</th>\n",
              "      <th>Top7</th>\n",
              "      <th>Top8</th>\n",
              "      <th>Top9</th>\n",
              "      <th>Top10</th>\n",
              "      <th>Top11</th>\n",
              "      <th>Top12</th>\n",
              "      <th>Top13</th>\n",
              "      <th>Top14</th>\n",
              "      <th>Top15</th>\n",
              "      <th>Top16</th>\n",
              "      <th>Top17</th>\n",
              "      <th>Top18</th>\n",
              "      <th>Top19</th>\n",
              "      <th>Top20</th>\n",
              "      <th>Top21</th>\n",
              "      <th>Top22</th>\n",
              "      <th>Top23</th>\n",
              "      <th>Top24</th>\n",
              "      <th>Top25</th>\n",
              "    </tr>\n",
              "  </thead>\n",
              "  <tbody>\n",
              "    <tr>\n",
              "      <th>0</th>\n",
              "      <td>2008-08-08</td>\n",
              "      <td>0</td>\n",
              "      <td>\"Georgia 'downs two Russian warplanes' as cou...</td>\n",
              "      <td>'BREAKING: Musharraf to be impeached.'</td>\n",
              "      <td>'Russia Today: Columns of troops roll into So...</td>\n",
              "      <td>'Russian tanks are moving towards the capital...</td>\n",
              "      <td>\"Afghan children raped with 'impunity,' U.N. ...</td>\n",
              "      <td>'150 Russian tanks have entered South Ossetia...</td>\n",
              "      <td>\"Breaking: Georgia invades South Ossetia, Rus...</td>\n",
              "      <td>\"The 'enemy combatent' trials are nothing but...</td>\n",
              "      <td>'Georgian troops retreat from S. Osettain cap...</td>\n",
              "      <td>'Did the U.S. Prep Georgia for War with Russia?'</td>\n",
              "      <td>'Rice Gives Green Light for Israel to Attack ...</td>\n",
              "      <td>'Announcing:Class Action Lawsuit on Behalf of...</td>\n",
              "      <td>\"So---Russia and Georgia are at war and the N...</td>\n",
              "      <td>\"China tells Bush to stay out of other countr...</td>\n",
              "      <td>'Did World War III start today?'</td>\n",
              "      <td>'Georgia Invades South Ossetia - if Russia ge...</td>\n",
              "      <td>'Al-Qaeda Faces Islamist Backlash'</td>\n",
              "      <td>'Condoleezza Rice: \"The US would not act to p...</td>\n",
              "      <td>'This is a busy day:  The European Union has ...</td>\n",
              "      <td>\"Georgia will withdraw 1,000 soldiers from Ir...</td>\n",
              "      <td>'Why the Pentagon Thinks Attacking Iran is a ...</td>\n",
              "      <td>'Caucasus in crisis: Georgia invades South Os...</td>\n",
              "      <td>'Indian shoe manufactory  - And again in a se...</td>\n",
              "      <td>'Visitors Suffering from Mental Illnesses Ban...</td>\n",
              "      <td>\"No Help for Mexico's Kidnapping Surge\"</td>\n",
              "    </tr>\n",
              "    <tr>\n",
              "      <th>1</th>\n",
              "      <td>2008-08-11</td>\n",
              "      <td>1</td>\n",
              "      <td>'Why wont America and Nato help us? If they w...</td>\n",
              "      <td>'Bush puts foot down on Georgian conflict'</td>\n",
              "      <td>\"Jewish Georgian minister: Thanks to Israeli ...</td>\n",
              "      <td>'Georgian army flees in disarray as Russians ...</td>\n",
              "      <td>\"Olympic opening ceremony fireworks 'faked'\"</td>\n",
              "      <td>'What were the Mossad with fraudulent New Zea...</td>\n",
              "      <td>'Russia angered by Israeli military sale to G...</td>\n",
              "      <td>'An American citizen living in S.Ossetia blam...</td>\n",
              "      <td>'Welcome To World War IV! Now In High Definit...</td>\n",
              "      <td>\"Georgia's move, a mistake of monumental prop...</td>\n",
              "      <td>'Russia presses deeper into Georgia; U.S. say...</td>\n",
              "      <td>'Abhinav Bindra wins first ever Individual Ol...</td>\n",
              "      <td>' U.S. ship heads for Arctic to define territ...</td>\n",
              "      <td>'Drivers in a Jerusalem taxi station threaten...</td>\n",
              "      <td>'The French Team is Stunned by Phelps and the...</td>\n",
              "      <td>'Israel and the US behind the Georgian aggres...</td>\n",
              "      <td>'\"Do not believe TV, neither Russian nor Geor...</td>\n",
              "      <td>'Riots are still going on in Montreal (Canada...</td>\n",
              "      <td>'China to overtake US as largest manufacturer'</td>\n",
              "      <td>'War in South Ossetia [PICS]'</td>\n",
              "      <td>'Israeli Physicians Group Condemns State Tort...</td>\n",
              "      <td>' Russia has just beaten the United States ov...</td>\n",
              "      <td>'Perhaps *the* question about the Georgia - R...</td>\n",
              "      <td>'Russia is so much better at war'</td>\n",
              "      <td>\"So this is what it's come to: trading sex fo...</td>\n",
              "    </tr>\n",
              "    <tr>\n",
              "      <th>2</th>\n",
              "      <td>2008-08-12</td>\n",
              "      <td>0</td>\n",
              "      <td>'Remember that adorable 9-year-old who sang a...</td>\n",
              "      <td>\"Russia 'ends Georgia operation'\"</td>\n",
              "      <td>'\"If we had no sexual harassment we would hav...</td>\n",
              "      <td>\"Al-Qa'eda is losing support in Iraq because ...</td>\n",
              "      <td>'Ceasefire in Georgia: Putin Outmaneuvers the...</td>\n",
              "      <td>'Why Microsoft and Intel tried to kill the XO...</td>\n",
              "      <td>'Stratfor: The Russo-Georgian War and the Bal...</td>\n",
              "      <td>\"I'm Trying to Get a Sense of This Whole Geor...</td>\n",
              "      <td>\"The US military was surprised by the timing ...</td>\n",
              "      <td>'U.S. Beats War Drum as Iran Dumps the Dollar'</td>\n",
              "      <td>'Gorbachev: \"Georgian military attacked the S...</td>\n",
              "      <td>'CNN use footage of Tskhinvali ruins to cover...</td>\n",
              "      <td>'Beginning a war as the Olympics were opening...</td>\n",
              "      <td>'55 pyramids as large as the Luxor stacked in...</td>\n",
              "      <td>'The 11 Top Party Cities in the World'</td>\n",
              "      <td>'U.S. troops still in Georgia (did you know t...</td>\n",
              "      <td>'Why Russias response to Georgia was right'</td>\n",
              "      <td>'Gorbachev accuses U.S. of making a \"serious ...</td>\n",
              "      <td>'Russia, Georgia, and NATO: Cold War Two'</td>\n",
              "      <td>'Remember that adorable 62-year-old who led y...</td>\n",
              "      <td>'War in Georgia: The Israeli connection'</td>\n",
              "      <td>'All signs point to the US encouraging Georgi...</td>\n",
              "      <td>'Christopher King argues that the US and NATO...</td>\n",
              "      <td>'America: The New Mexico?'</td>\n",
              "      <td>\"BBC NEWS | Asia-Pacific | Extinction 'by man...</td>\n",
              "    </tr>\n",
              "  </tbody>\n",
              "</table>\n",
              "</div>"
            ],
            "text/plain": [
              "        Date  ...                                              Top25\n",
              "0 2008-08-08  ...            \"No Help for Mexico's Kidnapping Surge\"\n",
              "1 2008-08-11  ...   \"So this is what it's come to: trading sex fo...\n",
              "2 2008-08-12  ...   \"BBC NEWS | Asia-Pacific | Extinction 'by man...\n",
              "\n",
              "[3 rows x 27 columns]"
            ]
          },
          "metadata": {
            "tags": []
          },
          "execution_count": 33
        }
      ]
    },
    {
      "cell_type": "code",
      "metadata": {
        "id": "5FieGkjWY1Az"
      },
      "source": [
        "news['text'] = news['Top1'] +  news['Top2'] + news['Top3'] + news['Top4'] + news['Top5'] + news['Top6'] + news['Top7'] + news['Top8'] + news['Top9'] + news['Top10'] + news['Top11'] + news['Top12'] + news['Top13'] + news['Top14'] + news['Top15'] + news['Top16'] + news['Top17'] + news['Top18'] + news['Top19'] + news['Top20'] + news['Top21'] + news['Top22'] + news['Top23'] + news['Top24'] + news['Top25']"
      ],
      "execution_count": null,
      "outputs": []
    },
    {
      "cell_type": "code",
      "metadata": {
        "id": "Uel9H45Y_u_k"
      },
      "source": [
        "news['text'] = news['text'].apply(str)"
      ],
      "execution_count": null,
      "outputs": []
    },
    {
      "cell_type": "markdown",
      "metadata": {
        "id": "I8OtdW3q-79F"
      },
      "source": [
        "#Sentiment Analysis"
      ]
    },
    {
      "cell_type": "code",
      "metadata": {
        "id": "WCQkUTK7AaVN"
      },
      "source": [
        "#Function to preprocess each review\r\n",
        "    # 'r' is used to differentiate regex escaping and normal escape sequence \r\n",
        "def preprocess(sen):\r\n",
        "    # Function to remove html tags is called\r\n",
        "    sentence = remove_tags(sen)\r\n",
        "\r\n",
        "    # Remove punctuations and numbers\r\n",
        "    # '^' means NOT\r\n",
        "    sentence = re.sub('[^a-zA-Z]', ' ', sentence)\r\n",
        "\r\n",
        "    # Single character removal\r\n",
        "    sentence = re.sub(r\"\\s+[a-zA-Z]\\s+\", ' ', sentence)\r\n",
        "\r\n",
        "    # Removing multiple spaces\r\n",
        "    sentence = re.sub(r'\\s+', ' ', sentence)\r\n",
        "\r\n",
        "    return sentence\r\n",
        "\r\n",
        "# Function to remove html tags\r\n",
        "def remove_tags(text):\r\n",
        "    return re.sub(r'<[^>]+>', '', text)"
      ],
      "execution_count": null,
      "outputs": []
    },
    {
      "cell_type": "code",
      "metadata": {
        "id": "l6TWzhI__9id"
      },
      "source": [
        "NS = []\r\n",
        "text = list(news['text'])\r\n",
        "for sen in text:\r\n",
        "    NS.append(preprocess(sen))"
      ],
      "execution_count": null,
      "outputs": []
    },
    {
      "cell_type": "code",
      "metadata": {
        "colab": {
          "base_uri": "https://localhost:8080/",
          "height": 188
        },
        "id": "qzn9_usWAaYh",
        "outputId": "e1a61f1c-fef7-48a9-af11-7826fc9bb131"
      },
      "source": [
        "NS[1]"
      ],
      "execution_count": null,
      "outputs": [
        {
          "output_type": "execute_result",
          "data": {
            "application/vnd.google.colaboratory.intrinsic+json": {
              "type": "string"
            },
            "text/plain": [
              "' Why wont America and Nato help us If they wont help us now why did we help them in Iraq Bush puts foot down on Georgian conflict Jewish Georgian minister Thanks to Israeli training we re fending off Russia Georgian army flees in disarray as Russians advance Gori abandoned to Russia without shot fired Olympic opening ceremony fireworks faked What were the Mossad with fraudulent New Zealand Passports doing in Iraq Russia angered by Israeli military sale to Georgia An American citizen living in Ossetia blames S and Georgian leaders for the genocide of innocent people Welcome To World War IV Now In High Definition Georgia move mistake of monumental proportions Russia presses deeper into Georgia S says regime change is goal Abhinav Bindra wins first ever Individual Olympic Gold Medal for India S ship heads for Arctic to define territory Drivers in Jerusalem taxi station threaten to quit rather than work for their new boss an Arab The French Team is Stunned by Phelps and the m Relay Team Israel and the US behind the Georgian aggression Do not believe TV neither Russian nor Georgian There are much more victims Riots are still going on in Montreal Canada because police murdered boy on Saturday China to overtake US as largest manufacturer War in South Ossetia PICS Israeli Physicians Group Condemns State Torture Russia has just beaten the United States over the head with Peak Oil Perhaps the question about the Georgia Russia conflict Russia is so much better at war So this is what it come to trading sex for food '"
            ]
          },
          "metadata": {
            "tags": []
          },
          "execution_count": 38
        }
      ]
    },
    {
      "cell_type": "code",
      "metadata": {
        "id": "X44JDMwYAabI"
      },
      "source": [
        "News = tokenizer.texts_to_sequences(NS)\r\n",
        "\r\n",
        "News = pad_sequences(News, padding='post', maxlen=300)\r\n"
      ],
      "execution_count": null,
      "outputs": []
    },
    {
      "cell_type": "code",
      "metadata": {
        "colab": {
          "base_uri": "https://localhost:8080/"
        },
        "id": "ILUwIOAwG1ef",
        "outputId": "ef95dd13-ce71-4d71-9fe7-5453c7d22274"
      },
      "source": [
        "news['sentiment_score'] = model.predict(News, batch_size=1, verbose =0)"
      ],
      "execution_count": null,
      "outputs": [
        {
          "output_type": "stream",
          "text": [
            "WARNING:tensorflow:Model was constructed with shape (None, 100) for input Tensor(\"embedding_1_input:0\", shape=(None, 100), dtype=float32), but it was called on an input with incompatible shape (1, 300).\n"
          ],
          "name": "stdout"
        }
      ]
    },
    {
      "cell_type": "code",
      "metadata": {
        "colab": {
          "base_uri": "https://localhost:8080/",
          "height": 666
        },
        "id": "nzPWh9j-G1hM",
        "outputId": "e73b3033-0984-4cf7-d89e-21705489a26d"
      },
      "source": [
        "news.head()"
      ],
      "execution_count": null,
      "outputs": [
        {
          "output_type": "execute_result",
          "data": {
            "text/html": [
              "<div>\n",
              "<style scoped>\n",
              "    .dataframe tbody tr th:only-of-type {\n",
              "        vertical-align: middle;\n",
              "    }\n",
              "\n",
              "    .dataframe tbody tr th {\n",
              "        vertical-align: top;\n",
              "    }\n",
              "\n",
              "    .dataframe thead th {\n",
              "        text-align: right;\n",
              "    }\n",
              "</style>\n",
              "<table border=\"1\" class=\"dataframe\">\n",
              "  <thead>\n",
              "    <tr style=\"text-align: right;\">\n",
              "      <th></th>\n",
              "      <th>Date</th>\n",
              "      <th>Label</th>\n",
              "      <th>Top1</th>\n",
              "      <th>Top2</th>\n",
              "      <th>Top3</th>\n",
              "      <th>Top4</th>\n",
              "      <th>Top5</th>\n",
              "      <th>Top6</th>\n",
              "      <th>Top7</th>\n",
              "      <th>Top8</th>\n",
              "      <th>Top9</th>\n",
              "      <th>Top10</th>\n",
              "      <th>Top11</th>\n",
              "      <th>Top12</th>\n",
              "      <th>Top13</th>\n",
              "      <th>Top14</th>\n",
              "      <th>Top15</th>\n",
              "      <th>Top16</th>\n",
              "      <th>Top17</th>\n",
              "      <th>Top18</th>\n",
              "      <th>Top19</th>\n",
              "      <th>Top20</th>\n",
              "      <th>Top21</th>\n",
              "      <th>Top22</th>\n",
              "      <th>Top23</th>\n",
              "      <th>Top24</th>\n",
              "      <th>Top25</th>\n",
              "      <th>text</th>\n",
              "      <th>sentiment_score</th>\n",
              "    </tr>\n",
              "  </thead>\n",
              "  <tbody>\n",
              "    <tr>\n",
              "      <th>0</th>\n",
              "      <td>2008-08-08</td>\n",
              "      <td>0</td>\n",
              "      <td>\"Georgia 'downs two Russian warplanes' as cou...</td>\n",
              "      <td>'BREAKING: Musharraf to be impeached.'</td>\n",
              "      <td>'Russia Today: Columns of troops roll into So...</td>\n",
              "      <td>'Russian tanks are moving towards the capital...</td>\n",
              "      <td>\"Afghan children raped with 'impunity,' U.N. ...</td>\n",
              "      <td>'150 Russian tanks have entered South Ossetia...</td>\n",
              "      <td>\"Breaking: Georgia invades South Ossetia, Rus...</td>\n",
              "      <td>\"The 'enemy combatent' trials are nothing but...</td>\n",
              "      <td>'Georgian troops retreat from S. Osettain cap...</td>\n",
              "      <td>'Did the U.S. Prep Georgia for War with Russia?'</td>\n",
              "      <td>'Rice Gives Green Light for Israel to Attack ...</td>\n",
              "      <td>'Announcing:Class Action Lawsuit on Behalf of...</td>\n",
              "      <td>\"So---Russia and Georgia are at war and the N...</td>\n",
              "      <td>\"China tells Bush to stay out of other countr...</td>\n",
              "      <td>'Did World War III start today?'</td>\n",
              "      <td>'Georgia Invades South Ossetia - if Russia ge...</td>\n",
              "      <td>'Al-Qaeda Faces Islamist Backlash'</td>\n",
              "      <td>'Condoleezza Rice: \"The US would not act to p...</td>\n",
              "      <td>'This is a busy day:  The European Union has ...</td>\n",
              "      <td>\"Georgia will withdraw 1,000 soldiers from Ir...</td>\n",
              "      <td>'Why the Pentagon Thinks Attacking Iran is a ...</td>\n",
              "      <td>'Caucasus in crisis: Georgia invades South Os...</td>\n",
              "      <td>'Indian shoe manufactory  - And again in a se...</td>\n",
              "      <td>'Visitors Suffering from Mental Illnesses Ban...</td>\n",
              "      <td>\"No Help for Mexico's Kidnapping Surge\"</td>\n",
              "      <td>\"Georgia 'downs two Russian warplanes' as cou...</td>\n",
              "      <td>0.708408</td>\n",
              "    </tr>\n",
              "    <tr>\n",
              "      <th>1</th>\n",
              "      <td>2008-08-11</td>\n",
              "      <td>1</td>\n",
              "      <td>'Why wont America and Nato help us? If they w...</td>\n",
              "      <td>'Bush puts foot down on Georgian conflict'</td>\n",
              "      <td>\"Jewish Georgian minister: Thanks to Israeli ...</td>\n",
              "      <td>'Georgian army flees in disarray as Russians ...</td>\n",
              "      <td>\"Olympic opening ceremony fireworks 'faked'\"</td>\n",
              "      <td>'What were the Mossad with fraudulent New Zea...</td>\n",
              "      <td>'Russia angered by Israeli military sale to G...</td>\n",
              "      <td>'An American citizen living in S.Ossetia blam...</td>\n",
              "      <td>'Welcome To World War IV! Now In High Definit...</td>\n",
              "      <td>\"Georgia's move, a mistake of monumental prop...</td>\n",
              "      <td>'Russia presses deeper into Georgia; U.S. say...</td>\n",
              "      <td>'Abhinav Bindra wins first ever Individual Ol...</td>\n",
              "      <td>' U.S. ship heads for Arctic to define territ...</td>\n",
              "      <td>'Drivers in a Jerusalem taxi station threaten...</td>\n",
              "      <td>'The French Team is Stunned by Phelps and the...</td>\n",
              "      <td>'Israel and the US behind the Georgian aggres...</td>\n",
              "      <td>'\"Do not believe TV, neither Russian nor Geor...</td>\n",
              "      <td>'Riots are still going on in Montreal (Canada...</td>\n",
              "      <td>'China to overtake US as largest manufacturer'</td>\n",
              "      <td>'War in South Ossetia [PICS]'</td>\n",
              "      <td>'Israeli Physicians Group Condemns State Tort...</td>\n",
              "      <td>' Russia has just beaten the United States ov...</td>\n",
              "      <td>'Perhaps *the* question about the Georgia - R...</td>\n",
              "      <td>'Russia is so much better at war'</td>\n",
              "      <td>\"So this is what it's come to: trading sex fo...</td>\n",
              "      <td>'Why wont America and Nato help us? If they w...</td>\n",
              "      <td>0.982830</td>\n",
              "    </tr>\n",
              "    <tr>\n",
              "      <th>2</th>\n",
              "      <td>2008-08-12</td>\n",
              "      <td>0</td>\n",
              "      <td>'Remember that adorable 9-year-old who sang a...</td>\n",
              "      <td>\"Russia 'ends Georgia operation'\"</td>\n",
              "      <td>'\"If we had no sexual harassment we would hav...</td>\n",
              "      <td>\"Al-Qa'eda is losing support in Iraq because ...</td>\n",
              "      <td>'Ceasefire in Georgia: Putin Outmaneuvers the...</td>\n",
              "      <td>'Why Microsoft and Intel tried to kill the XO...</td>\n",
              "      <td>'Stratfor: The Russo-Georgian War and the Bal...</td>\n",
              "      <td>\"I'm Trying to Get a Sense of This Whole Geor...</td>\n",
              "      <td>\"The US military was surprised by the timing ...</td>\n",
              "      <td>'U.S. Beats War Drum as Iran Dumps the Dollar'</td>\n",
              "      <td>'Gorbachev: \"Georgian military attacked the S...</td>\n",
              "      <td>'CNN use footage of Tskhinvali ruins to cover...</td>\n",
              "      <td>'Beginning a war as the Olympics were opening...</td>\n",
              "      <td>'55 pyramids as large as the Luxor stacked in...</td>\n",
              "      <td>'The 11 Top Party Cities in the World'</td>\n",
              "      <td>'U.S. troops still in Georgia (did you know t...</td>\n",
              "      <td>'Why Russias response to Georgia was right'</td>\n",
              "      <td>'Gorbachev accuses U.S. of making a \"serious ...</td>\n",
              "      <td>'Russia, Georgia, and NATO: Cold War Two'</td>\n",
              "      <td>'Remember that adorable 62-year-old who led y...</td>\n",
              "      <td>'War in Georgia: The Israeli connection'</td>\n",
              "      <td>'All signs point to the US encouraging Georgi...</td>\n",
              "      <td>'Christopher King argues that the US and NATO...</td>\n",
              "      <td>'America: The New Mexico?'</td>\n",
              "      <td>\"BBC NEWS | Asia-Pacific | Extinction 'by man...</td>\n",
              "      <td>'Remember that adorable 9-year-old who sang a...</td>\n",
              "      <td>0.935311</td>\n",
              "    </tr>\n",
              "    <tr>\n",
              "      <th>3</th>\n",
              "      <td>2008-08-13</td>\n",
              "      <td>0</td>\n",
              "      <td>' U.S. refuses Israel weapons to attack Iran:...</td>\n",
              "      <td>\"When the president ordered to attack Tskhinv...</td>\n",
              "      <td>' Israel clears troops who killed Reuters cam...</td>\n",
              "      <td>'Britain\\'s policy of being tough on drugs is...</td>\n",
              "      <td>'Body of 14 year old found in trunk; Latest (...</td>\n",
              "      <td>'China has moved 10 *million* quake survivors...</td>\n",
              "      <td>\"Bush announces Operation Get All Up In Russi...</td>\n",
              "      <td>'Russian forces sink Georgian ships '</td>\n",
              "      <td>\"The commander of a Navy air reconnaissance s...</td>\n",
              "      <td>\"92% of CNN readers: Russia's actions in Geor...</td>\n",
              "      <td>'USA to send fleet into Black Sea to help Geo...</td>\n",
              "      <td>\"US warns against Israeli plan to strike agai...</td>\n",
              "      <td>\"In an intriguing cyberalliance, two Estonian...</td>\n",
              "      <td>'The CNN Effect: Georgia Schools Russia in In...</td>\n",
              "      <td>'Why Russias response to Georgia was right'</td>\n",
              "      <td>'Elephants extinct by 2020?'</td>\n",
              "      <td>'US humanitarian missions soon in Georgia - i...</td>\n",
              "      <td>\"Georgia's DDOS came from US sources\"</td>\n",
              "      <td>'Russian convoy heads into Georgia, violating...</td>\n",
              "      <td>'Israeli defence minister: US against strike ...</td>\n",
              "      <td>'Gorbachev: We Had No Choice'</td>\n",
              "      <td>'Witness: Russian forces head towards Tbilisi...</td>\n",
              "      <td>' Quarter of Russians blame U.S. for conflict...</td>\n",
              "      <td>'Georgian president  says US military will ta...</td>\n",
              "      <td>'2006: Nobel laureate Aleksander Solzhenitsyn...</td>\n",
              "      <td>' U.S. refuses Israel weapons to attack Iran:...</td>\n",
              "      <td>0.721639</td>\n",
              "    </tr>\n",
              "    <tr>\n",
              "      <th>4</th>\n",
              "      <td>2008-08-14</td>\n",
              "      <td>1</td>\n",
              "      <td>'All the experts admit that we should legalis...</td>\n",
              "      <td>'War in South Osetia - 89 pictures made by a ...</td>\n",
              "      <td>'Swedish wrestler Ara Abrahamian throws away ...</td>\n",
              "      <td>'Russia exaggerated the death toll in South O...</td>\n",
              "      <td>'Missile That Killed 9 Inside Pakistan May Ha...</td>\n",
              "      <td>\"Rushdie Condemns Random House's Refusal to P...</td>\n",
              "      <td>'Poland and US agree to missle defense deal. ...</td>\n",
              "      <td>'Will the Russians conquer Tblisi? Bet on it,...</td>\n",
              "      <td>'Russia exaggerating South Ossetian death tol...</td>\n",
              "      <td>' Musharraf expected to resign rather than fa...</td>\n",
              "      <td>'Moscow Made Plans Months Ago to Invade Georgia'</td>\n",
              "      <td>'Why Russias response to Georgia was right'</td>\n",
              "      <td>'Nigeria has handed over the potentially oil-...</td>\n",
              "      <td>'The US and Poland have agreed a preliminary ...</td>\n",
              "      <td>'Russia apparently is sabotaging infrastructu...</td>\n",
              "      <td>'Bank analyst forecast Georgian crisis 2 days...</td>\n",
              "      <td>\"Georgia confict could set back Russia's US r...</td>\n",
              "      <td>'War in the Caucasus is as much the product o...</td>\n",
              "      <td>'\"Non-media\" photos of South Ossetia/Georgia ...</td>\n",
              "      <td>'Georgian TV reporter shot by Russian sniper ...</td>\n",
              "      <td>'Saudi Arabia: Mother moves to block child ma...</td>\n",
              "      <td>'Taliban wages war on humanitarian aid workers'</td>\n",
              "      <td>'Russia: World  \"can forget about\" Georgia\\'s...</td>\n",
              "      <td>'Darfur rebels accuse Sudan of mounting major...</td>\n",
              "      <td>'Philippines : Peace Advocate say Muslims nee...</td>\n",
              "      <td>'All the experts admit that we should legalis...</td>\n",
              "      <td>0.971837</td>\n",
              "    </tr>\n",
              "  </tbody>\n",
              "</table>\n",
              "</div>"
            ],
            "text/plain": [
              "        Date  ...  sentiment_score\n",
              "0 2008-08-08  ...         0.708408\n",
              "1 2008-08-11  ...         0.982830\n",
              "2 2008-08-12  ...         0.935311\n",
              "3 2008-08-13  ...         0.721639\n",
              "4 2008-08-14  ...         0.971837\n",
              "\n",
              "[5 rows x 29 columns]"
            ]
          },
          "metadata": {
            "tags": []
          },
          "execution_count": 41
        }
      ]
    },
    {
      "cell_type": "code",
      "metadata": {
        "colab": {
          "base_uri": "https://localhost:8080/",
          "height": 17
        },
        "id": "lyhG3e6vUV5S",
        "outputId": "1ab40ebe-149f-44d3-faa1-78c7dd29f35c"
      },
      "source": [
        "from google.colab import files\r\n",
        "news.to_excel('newsLSTM.xlsx')\r\n",
        "files.download('newsLSTM.xlsx')"
      ],
      "execution_count": null,
      "outputs": [
        {
          "output_type": "display_data",
          "data": {
            "application/javascript": [
              "\n",
              "    async function download(id, filename, size) {\n",
              "      if (!google.colab.kernel.accessAllowed) {\n",
              "        return;\n",
              "      }\n",
              "      const div = document.createElement('div');\n",
              "      const label = document.createElement('label');\n",
              "      label.textContent = `Downloading \"${filename}\": `;\n",
              "      div.appendChild(label);\n",
              "      const progress = document.createElement('progress');\n",
              "      progress.max = size;\n",
              "      div.appendChild(progress);\n",
              "      document.body.appendChild(div);\n",
              "\n",
              "      const buffers = [];\n",
              "      let downloaded = 0;\n",
              "\n",
              "      const channel = await google.colab.kernel.comms.open(id);\n",
              "      // Send a message to notify the kernel that we're ready.\n",
              "      channel.send({})\n",
              "\n",
              "      for await (const message of channel.messages) {\n",
              "        // Send a message to notify the kernel that we're ready.\n",
              "        channel.send({})\n",
              "        if (message.buffers) {\n",
              "          for (const buffer of message.buffers) {\n",
              "            buffers.push(buffer);\n",
              "            downloaded += buffer.byteLength;\n",
              "            progress.value = downloaded;\n",
              "          }\n",
              "        }\n",
              "      }\n",
              "      const blob = new Blob(buffers, {type: 'application/binary'});\n",
              "      const a = document.createElement('a');\n",
              "      a.href = window.URL.createObjectURL(blob);\n",
              "      a.download = filename;\n",
              "      div.appendChild(a);\n",
              "      a.click();\n",
              "      div.remove();\n",
              "    }\n",
              "  "
            ],
            "text/plain": [
              "<IPython.core.display.Javascript object>"
            ]
          },
          "metadata": {
            "tags": []
          }
        },
        {
          "output_type": "display_data",
          "data": {
            "application/javascript": [
              "download(\"download_62728b12-3e1a-4a8e-80b4-5a9989e72ce2\", \"newsLSTM.xlsx\", 3018481)"
            ],
            "text/plain": [
              "<IPython.core.display.Javascript object>"
            ]
          },
          "metadata": {
            "tags": []
          }
        }
      ]
    },
    {
      "cell_type": "markdown",
      "metadata": {
        "id": "43Ck_vmf_LjU"
      },
      "source": [
        "# Preparing for Machine Learning Models"
      ]
    },
    {
      "cell_type": "code",
      "metadata": {
        "colab": {
          "base_uri": "https://localhost:8080/",
          "height": 204
        },
        "id": "c-KwuUMUAaed",
        "outputId": "f664e371-3066-43b1-f06b-fd9eea6eab36"
      },
      "source": [
        "news_sub = news[['Label','sentiment_score', 'text']]\r\n",
        "news_sub.head()"
      ],
      "execution_count": null,
      "outputs": [
        {
          "output_type": "execute_result",
          "data": {
            "text/html": [
              "<div>\n",
              "<style scoped>\n",
              "    .dataframe tbody tr th:only-of-type {\n",
              "        vertical-align: middle;\n",
              "    }\n",
              "\n",
              "    .dataframe tbody tr th {\n",
              "        vertical-align: top;\n",
              "    }\n",
              "\n",
              "    .dataframe thead th {\n",
              "        text-align: right;\n",
              "    }\n",
              "</style>\n",
              "<table border=\"1\" class=\"dataframe\">\n",
              "  <thead>\n",
              "    <tr style=\"text-align: right;\">\n",
              "      <th></th>\n",
              "      <th>Label</th>\n",
              "      <th>sentiment_score</th>\n",
              "      <th>text</th>\n",
              "    </tr>\n",
              "  </thead>\n",
              "  <tbody>\n",
              "    <tr>\n",
              "      <th>0</th>\n",
              "      <td>0</td>\n",
              "      <td>0.708408</td>\n",
              "      <td>\"Georgia 'downs two Russian warplanes' as cou...</td>\n",
              "    </tr>\n",
              "    <tr>\n",
              "      <th>1</th>\n",
              "      <td>1</td>\n",
              "      <td>0.982830</td>\n",
              "      <td>'Why wont America and Nato help us? If they w...</td>\n",
              "    </tr>\n",
              "    <tr>\n",
              "      <th>2</th>\n",
              "      <td>0</td>\n",
              "      <td>0.935311</td>\n",
              "      <td>'Remember that adorable 9-year-old who sang a...</td>\n",
              "    </tr>\n",
              "    <tr>\n",
              "      <th>3</th>\n",
              "      <td>0</td>\n",
              "      <td>0.721639</td>\n",
              "      <td>' U.S. refuses Israel weapons to attack Iran:...</td>\n",
              "    </tr>\n",
              "    <tr>\n",
              "      <th>4</th>\n",
              "      <td>1</td>\n",
              "      <td>0.971837</td>\n",
              "      <td>'All the experts admit that we should legalis...</td>\n",
              "    </tr>\n",
              "  </tbody>\n",
              "</table>\n",
              "</div>"
            ],
            "text/plain": [
              "   Label  sentiment_score                                               text\n",
              "0      0         0.708408   \"Georgia 'downs two Russian warplanes' as cou...\n",
              "1      1         0.982830   'Why wont America and Nato help us? If they w...\n",
              "2      0         0.935311   'Remember that adorable 9-year-old who sang a...\n",
              "3      0         0.721639   ' U.S. refuses Israel weapons to attack Iran:...\n",
              "4      1         0.971837   'All the experts admit that we should legalis..."
            ]
          },
          "metadata": {
            "tags": []
          },
          "execution_count": 49
        }
      ]
    },
    {
      "cell_type": "code",
      "metadata": {
        "colab": {
          "base_uri": "https://localhost:8080/",
          "height": 111
        },
        "id": "mi5brZyLKV5X",
        "outputId": "4b39be8e-b263-4c40-8678-7cfac7712321"
      },
      "source": [
        "news_sub.corr(method ='pearson')"
      ],
      "execution_count": null,
      "outputs": [
        {
          "output_type": "execute_result",
          "data": {
            "text/html": [
              "<div>\n",
              "<style scoped>\n",
              "    .dataframe tbody tr th:only-of-type {\n",
              "        vertical-align: middle;\n",
              "    }\n",
              "\n",
              "    .dataframe tbody tr th {\n",
              "        vertical-align: top;\n",
              "    }\n",
              "\n",
              "    .dataframe thead th {\n",
              "        text-align: right;\n",
              "    }\n",
              "</style>\n",
              "<table border=\"1\" class=\"dataframe\">\n",
              "  <thead>\n",
              "    <tr style=\"text-align: right;\">\n",
              "      <th></th>\n",
              "      <th>Label</th>\n",
              "      <th>sentiment_score</th>\n",
              "    </tr>\n",
              "  </thead>\n",
              "  <tbody>\n",
              "    <tr>\n",
              "      <th>Label</th>\n",
              "      <td>1.000000</td>\n",
              "      <td>0.023797</td>\n",
              "    </tr>\n",
              "    <tr>\n",
              "      <th>sentiment_score</th>\n",
              "      <td>0.023797</td>\n",
              "      <td>1.000000</td>\n",
              "    </tr>\n",
              "  </tbody>\n",
              "</table>\n",
              "</div>"
            ],
            "text/plain": [
              "                    Label  sentiment_score\n",
              "Label            1.000000         0.023797\n",
              "sentiment_score  0.023797         1.000000"
            ]
          },
          "metadata": {
            "tags": []
          },
          "execution_count": 50
        }
      ]
    },
    {
      "cell_type": "code",
      "metadata": {
        "colab": {
          "base_uri": "https://localhost:8080/",
          "height": 142
        },
        "id": "ge_HTY7gK84m",
        "outputId": "bcb2bdee-276f-4a21-d6e5-e0264764bf17"
      },
      "source": [
        "news_sub.groupby('Label').mean()"
      ],
      "execution_count": null,
      "outputs": [
        {
          "output_type": "execute_result",
          "data": {
            "text/html": [
              "<div>\n",
              "<style scoped>\n",
              "    .dataframe tbody tr th:only-of-type {\n",
              "        vertical-align: middle;\n",
              "    }\n",
              "\n",
              "    .dataframe tbody tr th {\n",
              "        vertical-align: top;\n",
              "    }\n",
              "\n",
              "    .dataframe thead th {\n",
              "        text-align: right;\n",
              "    }\n",
              "</style>\n",
              "<table border=\"1\" class=\"dataframe\">\n",
              "  <thead>\n",
              "    <tr style=\"text-align: right;\">\n",
              "      <th></th>\n",
              "      <th>sentiment_score</th>\n",
              "    </tr>\n",
              "    <tr>\n",
              "      <th>Label</th>\n",
              "      <th></th>\n",
              "    </tr>\n",
              "  </thead>\n",
              "  <tbody>\n",
              "    <tr>\n",
              "      <th>0</th>\n",
              "      <td>0.494450</td>\n",
              "    </tr>\n",
              "    <tr>\n",
              "      <th>1</th>\n",
              "      <td>0.506372</td>\n",
              "    </tr>\n",
              "  </tbody>\n",
              "</table>\n",
              "</div>"
            ],
            "text/plain": [
              "       sentiment_score\n",
              "Label                 \n",
              "0             0.494450\n",
              "1             0.506372"
            ]
          },
          "metadata": {
            "tags": []
          },
          "execution_count": 46
        }
      ]
    },
    {
      "cell_type": "code",
      "metadata": {
        "colab": {
          "base_uri": "https://localhost:8080/"
        },
        "id": "t6E-R974OBXL",
        "outputId": "e31a9023-2c0f-42f7-ba7e-2b289562fa11"
      },
      "source": [
        "news_sub.dtypes"
      ],
      "execution_count": null,
      "outputs": [
        {
          "output_type": "execute_result",
          "data": {
            "text/plain": [
              "Label                int64\n",
              "sentiment_score    float32\n",
              "text                object\n",
              "dtype: object"
            ]
          },
          "metadata": {
            "tags": []
          },
          "execution_count": 51
        }
      ]
    },
    {
      "cell_type": "code",
      "metadata": {
        "id": "4gT8BchlLzy-"
      },
      "source": [
        "x = news_sub.drop(['Label'], axis=1)\r\n",
        "y = news_sub['Label']"
      ],
      "execution_count": null,
      "outputs": []
    },
    {
      "cell_type": "code",
      "metadata": {
        "colab": {
          "base_uri": "https://localhost:8080/",
          "height": 419
        },
        "id": "_gR_TuTQNKV9",
        "outputId": "38ead5c8-fa12-451c-c284-35c83088d867"
      },
      "source": [
        "X_train"
      ],
      "execution_count": null,
      "outputs": [
        {
          "output_type": "execute_result",
          "data": {
            "text/html": [
              "<div>\n",
              "<style scoped>\n",
              "    .dataframe tbody tr th:only-of-type {\n",
              "        vertical-align: middle;\n",
              "    }\n",
              "\n",
              "    .dataframe tbody tr th {\n",
              "        vertical-align: top;\n",
              "    }\n",
              "\n",
              "    .dataframe thead th {\n",
              "        text-align: right;\n",
              "    }\n",
              "</style>\n",
              "<table border=\"1\" class=\"dataframe\">\n",
              "  <thead>\n",
              "    <tr style=\"text-align: right;\">\n",
              "      <th></th>\n",
              "      <th>sentiment_score</th>\n",
              "      <th>text</th>\n",
              "    </tr>\n",
              "  </thead>\n",
              "  <tbody>\n",
              "    <tr>\n",
              "      <th>1859</th>\n",
              "      <td>0.604849</td>\n",
              "      <td>Germany recruits 8,500 teachers to teach Germa...</td>\n",
              "    </tr>\n",
              "    <tr>\n",
              "      <th>685</th>\n",
              "      <td>0.316509</td>\n",
              "      <td>World-famous and beloved Chinese artist Ai Wei...</td>\n",
              "    </tr>\n",
              "    <tr>\n",
              "      <th>1972</th>\n",
              "      <td>0.687303</td>\n",
              "      <td>Vandals Destroy 8,000-Yr-Old Aboriginal Artwor...</td>\n",
              "    </tr>\n",
              "    <tr>\n",
              "      <th>1887</th>\n",
              "      <td>0.382144</td>\n",
              "      <td>North Korea satellite 'tumbling in orbit,' U.S...</td>\n",
              "    </tr>\n",
              "    <tr>\n",
              "      <th>895</th>\n",
              "      <td>0.568304</td>\n",
              "      <td>Guatemala, Colombia, and Mexico are considerin...</td>\n",
              "    </tr>\n",
              "    <tr>\n",
              "      <th>...</th>\n",
              "      <td>...</td>\n",
              "      <td>...</td>\n",
              "    </tr>\n",
              "    <tr>\n",
              "      <th>1393</th>\n",
              "      <td>0.545174</td>\n",
              "      <td>Ukrainian Skier Pulls Out of Olympics To Join ...</td>\n",
              "    </tr>\n",
              "    <tr>\n",
              "      <th>1344</th>\n",
              "      <td>0.549736</td>\n",
              "      <td>Bill Clinton says security does not justify es...</td>\n",
              "    </tr>\n",
              "    <tr>\n",
              "      <th>527</th>\n",
              "      <td>0.548931</td>\n",
              "      <td>Should the Pope face charges?\\nA renowned lawy...</td>\n",
              "    </tr>\n",
              "    <tr>\n",
              "      <th>1149</th>\n",
              "      <td>0.259383</td>\n",
              "      <td>A huge comet is headed for Mars. If it hits, \"...</td>\n",
              "    </tr>\n",
              "    <tr>\n",
              "      <th>1289</th>\n",
              "      <td>0.279062</td>\n",
              "      <td>618 Rhinos killed already in South Africa this...</td>\n",
              "    </tr>\n",
              "  </tbody>\n",
              "</table>\n",
              "<p>1591 rows × 2 columns</p>\n",
              "</div>"
            ],
            "text/plain": [
              "      sentiment_score                                               text\n",
              "1859         0.604849  Germany recruits 8,500 teachers to teach Germa...\n",
              "685          0.316509  World-famous and beloved Chinese artist Ai Wei...\n",
              "1972         0.687303  Vandals Destroy 8,000-Yr-Old Aboriginal Artwor...\n",
              "1887         0.382144  North Korea satellite 'tumbling in orbit,' U.S...\n",
              "895          0.568304  Guatemala, Colombia, and Mexico are considerin...\n",
              "...               ...                                                ...\n",
              "1393         0.545174  Ukrainian Skier Pulls Out of Olympics To Join ...\n",
              "1344         0.549736  Bill Clinton says security does not justify es...\n",
              "527          0.548931  Should the Pope face charges?\\nA renowned lawy...\n",
              "1149         0.259383  A huge comet is headed for Mars. If it hits, \"...\n",
              "1289         0.279062  618 Rhinos killed already in South Africa this...\n",
              "\n",
              "[1591 rows x 2 columns]"
            ]
          },
          "metadata": {
            "tags": []
          },
          "execution_count": 54
        }
      ]
    },
    {
      "cell_type": "code",
      "metadata": {
        "id": "AJtGiEwHNfZ0"
      },
      "source": [
        "y_train"
      ],
      "execution_count": null,
      "outputs": []
    },
    {
      "cell_type": "markdown",
      "metadata": {
        "id": "86_QNdFwEDmr"
      },
      "source": [
        "# ML With Sentiment Scores(NLTK toolkit)"
      ]
    },
    {
      "cell_type": "code",
      "metadata": {
        "colab": {
          "base_uri": "https://localhost:8080/"
        },
        "id": "7O3K2703VWzK",
        "outputId": "1413e5bb-686e-4e8b-9fb0-c09ce0461231"
      },
      "source": [
        "df = pd.read_excel(\"drive/My Drive/Colab Notebooks/data/Data_ML.xlsx\")\r\n",
        "\r\n",
        "print(df.isnull().values.any())\r\n",
        "\r\n",
        "print(df.shape)"
      ],
      "execution_count": null,
      "outputs": [
        {
          "output_type": "stream",
          "text": [
            "False\n",
            "(1989, 155)\n"
          ],
          "name": "stdout"
        }
      ]
    },
    {
      "cell_type": "code",
      "metadata": {
        "colab": {
          "base_uri": "https://localhost:8080/",
          "height": 242
        },
        "id": "x4gx5JO3V-J5",
        "outputId": "d4b8fed3-d29a-4a97-f3d8-d7ea637611ff"
      },
      "source": [
        "df.head(3)"
      ],
      "execution_count": null,
      "outputs": [
        {
          "output_type": "execute_result",
          "data": {
            "text/html": [
              "<div>\n",
              "<style scoped>\n",
              "    .dataframe tbody tr th:only-of-type {\n",
              "        vertical-align: middle;\n",
              "    }\n",
              "\n",
              "    .dataframe tbody tr th {\n",
              "        vertical-align: top;\n",
              "    }\n",
              "\n",
              "    .dataframe thead th {\n",
              "        text-align: right;\n",
              "    }\n",
              "</style>\n",
              "<table border=\"1\" class=\"dataframe\">\n",
              "  <thead>\n",
              "    <tr style=\"text-align: right;\">\n",
              "      <th></th>\n",
              "      <th>Date</th>\n",
              "      <th>Label</th>\n",
              "      <th>polarity</th>\n",
              "      <th>subjectivity</th>\n",
              "      <th>Topic</th>\n",
              "      <th>TextCluster_SVD1</th>\n",
              "      <th>TextCluster_SVD2</th>\n",
              "      <th>TextCluster_SVD3</th>\n",
              "      <th>TextCluster_SVD4</th>\n",
              "      <th>TextCluster_SVD5</th>\n",
              "      <th>TextCluster_SVD6</th>\n",
              "      <th>TextCluster_SVD7</th>\n",
              "      <th>TextCluster_SVD8</th>\n",
              "      <th>TextCluster_SVD9</th>\n",
              "      <th>TextCluster_SVD10</th>\n",
              "      <th>TextCluster_SVD11</th>\n",
              "      <th>TextCluster_SVD12</th>\n",
              "      <th>TextCluster_SVD13</th>\n",
              "      <th>TextCluster_SVD14</th>\n",
              "      <th>TextCluster_SVD15</th>\n",
              "      <th>TextCluster_SVD16</th>\n",
              "      <th>TextCluster_SVD17</th>\n",
              "      <th>TextCluster_SVD18</th>\n",
              "      <th>TextCluster_SVD19</th>\n",
              "      <th>TextCluster_SVD20</th>\n",
              "      <th>TextCluster_SVD21</th>\n",
              "      <th>TextCluster_SVD22</th>\n",
              "      <th>TextCluster_SVD23</th>\n",
              "      <th>TextCluster_SVD24</th>\n",
              "      <th>TextCluster_SVD25</th>\n",
              "      <th>TextCluster_SVD26</th>\n",
              "      <th>TextCluster_SVD27</th>\n",
              "      <th>TextCluster_SVD28</th>\n",
              "      <th>TextCluster_SVD29</th>\n",
              "      <th>TextCluster_SVD30</th>\n",
              "      <th>TextCluster_SVD31</th>\n",
              "      <th>TextCluster_SVD32</th>\n",
              "      <th>TextCluster_SVD33</th>\n",
              "      <th>TextCluster_SVD34</th>\n",
              "      <th>TextCluster_SVD35</th>\n",
              "      <th>...</th>\n",
              "      <th>TextCluster_SVD111</th>\n",
              "      <th>TextCluster_SVD112</th>\n",
              "      <th>TextCluster_SVD113</th>\n",
              "      <th>TextCluster_SVD114</th>\n",
              "      <th>TextCluster_SVD115</th>\n",
              "      <th>TextCluster_SVD116</th>\n",
              "      <th>TextCluster_SVD117</th>\n",
              "      <th>TextCluster_SVD118</th>\n",
              "      <th>TextCluster_SVD119</th>\n",
              "      <th>TextCluster_SVD120</th>\n",
              "      <th>TextCluster_SVD121</th>\n",
              "      <th>TextCluster_SVD122</th>\n",
              "      <th>TextCluster_SVD123</th>\n",
              "      <th>TextCluster_SVD124</th>\n",
              "      <th>TextCluster_SVD125</th>\n",
              "      <th>TextCluster_SVD126</th>\n",
              "      <th>TextCluster_SVD127</th>\n",
              "      <th>TextCluster_SVD128</th>\n",
              "      <th>TextCluster_SVD129</th>\n",
              "      <th>TextCluster_SVD130</th>\n",
              "      <th>TextCluster_SVD131</th>\n",
              "      <th>TextCluster_SVD132</th>\n",
              "      <th>TextCluster_SVD133</th>\n",
              "      <th>TextCluster_SVD134</th>\n",
              "      <th>TextCluster_SVD135</th>\n",
              "      <th>TextCluster_SVD136</th>\n",
              "      <th>TextCluster_SVD137</th>\n",
              "      <th>TextCluster_SVD138</th>\n",
              "      <th>TextCluster_SVD139</th>\n",
              "      <th>TextCluster_SVD140</th>\n",
              "      <th>TextCluster_SVD141</th>\n",
              "      <th>TextCluster_SVD142</th>\n",
              "      <th>TextCluster_SVD143</th>\n",
              "      <th>TextCluster_SVD144</th>\n",
              "      <th>TextCluster_SVD145</th>\n",
              "      <th>TextCluster_SVD146</th>\n",
              "      <th>TextCluster_SVD147</th>\n",
              "      <th>TextCluster_SVD148</th>\n",
              "      <th>TextCluster_SVD149</th>\n",
              "      <th>TextCluster_SVD150</th>\n",
              "    </tr>\n",
              "  </thead>\n",
              "  <tbody>\n",
              "    <tr>\n",
              "      <th>0</th>\n",
              "      <td>2008-08-08</td>\n",
              "      <td>0</td>\n",
              "      <td>-0.065978</td>\n",
              "      <td>0.303496</td>\n",
              "      <td>18</td>\n",
              "      <td>0.070340</td>\n",
              "      <td>-0.053418</td>\n",
              "      <td>0.007628</td>\n",
              "      <td>-0.039590</td>\n",
              "      <td>0.013758</td>\n",
              "      <td>-0.006961</td>\n",
              "      <td>0.003005</td>\n",
              "      <td>-0.009582</td>\n",
              "      <td>0.004257</td>\n",
              "      <td>-0.035629</td>\n",
              "      <td>0.053125</td>\n",
              "      <td>-0.042869</td>\n",
              "      <td>0.056493</td>\n",
              "      <td>-0.045300</td>\n",
              "      <td>0.064174</td>\n",
              "      <td>-0.043070</td>\n",
              "      <td>0.009018</td>\n",
              "      <td>-0.088200</td>\n",
              "      <td>0.029373</td>\n",
              "      <td>-0.060276</td>\n",
              "      <td>0.026729</td>\n",
              "      <td>-0.054988</td>\n",
              "      <td>0.064938</td>\n",
              "      <td>-0.041884</td>\n",
              "      <td>0.037314</td>\n",
              "      <td>-0.049207</td>\n",
              "      <td>0.036609</td>\n",
              "      <td>-0.052739</td>\n",
              "      <td>0.007796</td>\n",
              "      <td>-0.004014</td>\n",
              "      <td>0.046403</td>\n",
              "      <td>-0.029370</td>\n",
              "      <td>0.006170</td>\n",
              "      <td>-0.001426</td>\n",
              "      <td>0.042902</td>\n",
              "      <td>...</td>\n",
              "      <td>0.101724</td>\n",
              "      <td>-0.079988</td>\n",
              "      <td>0.021861</td>\n",
              "      <td>-0.226352</td>\n",
              "      <td>0.082787</td>\n",
              "      <td>-0.038550</td>\n",
              "      <td>0.065302</td>\n",
              "      <td>-0.110700</td>\n",
              "      <td>0.072415</td>\n",
              "      <td>-0.135987</td>\n",
              "      <td>0.092684</td>\n",
              "      <td>-0.043056</td>\n",
              "      <td>0.126786</td>\n",
              "      <td>-0.071721</td>\n",
              "      <td>0.243436</td>\n",
              "      <td>-0.006753</td>\n",
              "      <td>0.000322</td>\n",
              "      <td>-0.080022</td>\n",
              "      <td>0.010144</td>\n",
              "      <td>-0.066310</td>\n",
              "      <td>0.363848</td>\n",
              "      <td>-0.097505</td>\n",
              "      <td>0.206657</td>\n",
              "      <td>-0.095168</td>\n",
              "      <td>0.004715</td>\n",
              "      <td>-0.104697</td>\n",
              "      <td>0.100755</td>\n",
              "      <td>-0.074710</td>\n",
              "      <td>0.015919</td>\n",
              "      <td>-0.050645</td>\n",
              "      <td>0.116522</td>\n",
              "      <td>-0.017147</td>\n",
              "      <td>0.039564</td>\n",
              "      <td>-0.061400</td>\n",
              "      <td>0.047492</td>\n",
              "      <td>-0.122964</td>\n",
              "      <td>0.051517</td>\n",
              "      <td>-0.151404</td>\n",
              "      <td>0.119570</td>\n",
              "      <td>-0.008954</td>\n",
              "    </tr>\n",
              "    <tr>\n",
              "      <th>1</th>\n",
              "      <td>2008-08-11</td>\n",
              "      <td>1</td>\n",
              "      <td>0.026123</td>\n",
              "      <td>0.331319</td>\n",
              "      <td>12</td>\n",
              "      <td>0.051980</td>\n",
              "      <td>-0.058078</td>\n",
              "      <td>-0.015400</td>\n",
              "      <td>-0.007448</td>\n",
              "      <td>0.046362</td>\n",
              "      <td>0.002541</td>\n",
              "      <td>-0.087866</td>\n",
              "      <td>0.085167</td>\n",
              "      <td>-0.003734</td>\n",
              "      <td>-0.008321</td>\n",
              "      <td>-0.028623</td>\n",
              "      <td>0.040409</td>\n",
              "      <td>-0.004584</td>\n",
              "      <td>-0.000692</td>\n",
              "      <td>-0.002099</td>\n",
              "      <td>-0.024974</td>\n",
              "      <td>0.045334</td>\n",
              "      <td>0.036934</td>\n",
              "      <td>0.021652</td>\n",
              "      <td>0.068953</td>\n",
              "      <td>0.013503</td>\n",
              "      <td>0.053537</td>\n",
              "      <td>-0.094969</td>\n",
              "      <td>-0.001640</td>\n",
              "      <td>0.003632</td>\n",
              "      <td>-0.040337</td>\n",
              "      <td>-0.006653</td>\n",
              "      <td>-0.018416</td>\n",
              "      <td>0.031414</td>\n",
              "      <td>-0.000114</td>\n",
              "      <td>0.004470</td>\n",
              "      <td>-0.005188</td>\n",
              "      <td>0.112886</td>\n",
              "      <td>-0.025753</td>\n",
              "      <td>-0.056319</td>\n",
              "      <td>...</td>\n",
              "      <td>-0.093461</td>\n",
              "      <td>-0.068544</td>\n",
              "      <td>0.034504</td>\n",
              "      <td>-0.028307</td>\n",
              "      <td>-0.095676</td>\n",
              "      <td>0.104153</td>\n",
              "      <td>-0.095475</td>\n",
              "      <td>-0.020406</td>\n",
              "      <td>-0.054456</td>\n",
              "      <td>0.076732</td>\n",
              "      <td>-0.087010</td>\n",
              "      <td>-0.090862</td>\n",
              "      <td>-0.043874</td>\n",
              "      <td>-0.017090</td>\n",
              "      <td>0.012035</td>\n",
              "      <td>0.090027</td>\n",
              "      <td>0.024193</td>\n",
              "      <td>-0.079964</td>\n",
              "      <td>0.101046</td>\n",
              "      <td>-0.015903</td>\n",
              "      <td>-0.136454</td>\n",
              "      <td>-0.087935</td>\n",
              "      <td>-0.034662</td>\n",
              "      <td>0.011328</td>\n",
              "      <td>0.043837</td>\n",
              "      <td>-0.163852</td>\n",
              "      <td>0.052653</td>\n",
              "      <td>0.016805</td>\n",
              "      <td>-0.126830</td>\n",
              "      <td>0.051297</td>\n",
              "      <td>0.195758</td>\n",
              "      <td>-0.130426</td>\n",
              "      <td>0.034301</td>\n",
              "      <td>-0.017566</td>\n",
              "      <td>-0.027512</td>\n",
              "      <td>-0.005659</td>\n",
              "      <td>0.008784</td>\n",
              "      <td>-0.060372</td>\n",
              "      <td>0.034575</td>\n",
              "      <td>0.116155</td>\n",
              "    </tr>\n",
              "    <tr>\n",
              "      <th>2</th>\n",
              "      <td>2008-08-12</td>\n",
              "      <td>0</td>\n",
              "      <td>-0.158049</td>\n",
              "      <td>0.587207</td>\n",
              "      <td>12</td>\n",
              "      <td>0.189981</td>\n",
              "      <td>-0.047806</td>\n",
              "      <td>0.068441</td>\n",
              "      <td>-0.014393</td>\n",
              "      <td>-0.006442</td>\n",
              "      <td>-0.066779</td>\n",
              "      <td>-0.037231</td>\n",
              "      <td>-0.009753</td>\n",
              "      <td>0.035989</td>\n",
              "      <td>-0.205988</td>\n",
              "      <td>0.049160</td>\n",
              "      <td>0.169126</td>\n",
              "      <td>0.065916</td>\n",
              "      <td>-0.004228</td>\n",
              "      <td>-0.018234</td>\n",
              "      <td>-0.081065</td>\n",
              "      <td>-0.006108</td>\n",
              "      <td>-0.037406</td>\n",
              "      <td>-0.086733</td>\n",
              "      <td>-0.015370</td>\n",
              "      <td>-0.040718</td>\n",
              "      <td>-0.031523</td>\n",
              "      <td>-0.048353</td>\n",
              "      <td>0.040183</td>\n",
              "      <td>0.096255</td>\n",
              "      <td>-0.021080</td>\n",
              "      <td>0.008966</td>\n",
              "      <td>-0.014644</td>\n",
              "      <td>-0.067264</td>\n",
              "      <td>-0.025443</td>\n",
              "      <td>0.009030</td>\n",
              "      <td>-0.051706</td>\n",
              "      <td>0.070022</td>\n",
              "      <td>0.048911</td>\n",
              "      <td>-0.006165</td>\n",
              "      <td>...</td>\n",
              "      <td>0.104727</td>\n",
              "      <td>-0.061049</td>\n",
              "      <td>-0.013598</td>\n",
              "      <td>-0.042812</td>\n",
              "      <td>-0.122341</td>\n",
              "      <td>-0.083730</td>\n",
              "      <td>-0.091760</td>\n",
              "      <td>-0.042137</td>\n",
              "      <td>0.051752</td>\n",
              "      <td>-0.001305</td>\n",
              "      <td>0.055347</td>\n",
              "      <td>-0.020711</td>\n",
              "      <td>0.100515</td>\n",
              "      <td>-0.045093</td>\n",
              "      <td>-0.132599</td>\n",
              "      <td>0.084397</td>\n",
              "      <td>0.060316</td>\n",
              "      <td>-0.027973</td>\n",
              "      <td>-0.049351</td>\n",
              "      <td>0.163951</td>\n",
              "      <td>0.083682</td>\n",
              "      <td>-0.118854</td>\n",
              "      <td>-0.036862</td>\n",
              "      <td>-0.109198</td>\n",
              "      <td>0.034062</td>\n",
              "      <td>-0.047079</td>\n",
              "      <td>-0.051648</td>\n",
              "      <td>0.139000</td>\n",
              "      <td>-0.036143</td>\n",
              "      <td>-0.037677</td>\n",
              "      <td>-0.017577</td>\n",
              "      <td>0.127634</td>\n",
              "      <td>-0.116772</td>\n",
              "      <td>-0.006697</td>\n",
              "      <td>-0.100506</td>\n",
              "      <td>0.192060</td>\n",
              "      <td>-0.014918</td>\n",
              "      <td>-0.090984</td>\n",
              "      <td>-0.045369</td>\n",
              "      <td>0.048514</td>\n",
              "    </tr>\n",
              "  </tbody>\n",
              "</table>\n",
              "<p>3 rows × 155 columns</p>\n",
              "</div>"
            ],
            "text/plain": [
              "        Date  Label  ...  TextCluster_SVD149  TextCluster_SVD150\n",
              "0 2008-08-08      0  ...            0.119570           -0.008954\n",
              "1 2008-08-11      1  ...            0.034575            0.116155\n",
              "2 2008-08-12      0  ...           -0.045369            0.048514\n",
              "\n",
              "[3 rows x 155 columns]"
            ]
          },
          "metadata": {
            "tags": []
          },
          "execution_count": 70
        }
      ]
    },
    {
      "cell_type": "code",
      "metadata": {
        "id": "rL8-TjIIWITw"
      },
      "source": [
        "x = df.drop(['Label','Date'], axis=1)\r\n",
        "y = df['Label']"
      ],
      "execution_count": null,
      "outputs": []
    },
    {
      "cell_type": "code",
      "metadata": {
        "id": "xXErqNjJL-qG"
      },
      "source": [
        "from sklearn.model_selection import train_test_split\r\n",
        "from sklearn.metrics import classification_report\r\n",
        "from sklearn.model_selection import RandomizedSearchCV, cross_val_score\r\n",
        "from sklearn.model_selection import GridSearchCV\r\n",
        "from sklearn.model_selection import ShuffleSplit\r\n",
        "from sklearn.metrics import accuracy_score\r\n",
        "\r\n",
        "X_train, X_test, y_train, y_test = train_test_split(x,y,test_size=0.2, random_state=10)"
      ],
      "execution_count": null,
      "outputs": []
    },
    {
      "cell_type": "code",
      "metadata": {
        "colab": {
          "base_uri": "https://localhost:8080/",
          "height": 609
        },
        "id": "9GZCF0hOWblp",
        "outputId": "50983a62-82d5-4274-944b-5c6479ec8d99"
      },
      "source": [
        "X_train"
      ],
      "execution_count": null,
      "outputs": [
        {
          "output_type": "execute_result",
          "data": {
            "text/html": [
              "<div>\n",
              "<style scoped>\n",
              "    .dataframe tbody tr th:only-of-type {\n",
              "        vertical-align: middle;\n",
              "    }\n",
              "\n",
              "    .dataframe tbody tr th {\n",
              "        vertical-align: top;\n",
              "    }\n",
              "\n",
              "    .dataframe thead th {\n",
              "        text-align: right;\n",
              "    }\n",
              "</style>\n",
              "<table border=\"1\" class=\"dataframe\">\n",
              "  <thead>\n",
              "    <tr style=\"text-align: right;\">\n",
              "      <th></th>\n",
              "      <th>Date</th>\n",
              "      <th>polarity</th>\n",
              "      <th>subjectivity</th>\n",
              "      <th>Topic</th>\n",
              "      <th>TextCluster_SVD1</th>\n",
              "      <th>TextCluster_SVD2</th>\n",
              "      <th>TextCluster_SVD3</th>\n",
              "      <th>TextCluster_SVD4</th>\n",
              "      <th>TextCluster_SVD5</th>\n",
              "      <th>TextCluster_SVD6</th>\n",
              "      <th>TextCluster_SVD7</th>\n",
              "      <th>TextCluster_SVD8</th>\n",
              "      <th>TextCluster_SVD9</th>\n",
              "      <th>TextCluster_SVD10</th>\n",
              "      <th>TextCluster_SVD11</th>\n",
              "      <th>TextCluster_SVD12</th>\n",
              "      <th>TextCluster_SVD13</th>\n",
              "      <th>TextCluster_SVD14</th>\n",
              "      <th>TextCluster_SVD15</th>\n",
              "      <th>TextCluster_SVD16</th>\n",
              "      <th>TextCluster_SVD17</th>\n",
              "      <th>TextCluster_SVD18</th>\n",
              "      <th>TextCluster_SVD19</th>\n",
              "      <th>TextCluster_SVD20</th>\n",
              "      <th>TextCluster_SVD21</th>\n",
              "      <th>TextCluster_SVD22</th>\n",
              "      <th>TextCluster_SVD23</th>\n",
              "      <th>TextCluster_SVD24</th>\n",
              "      <th>TextCluster_SVD25</th>\n",
              "      <th>TextCluster_SVD26</th>\n",
              "      <th>TextCluster_SVD27</th>\n",
              "      <th>TextCluster_SVD28</th>\n",
              "      <th>TextCluster_SVD29</th>\n",
              "      <th>TextCluster_SVD30</th>\n",
              "      <th>TextCluster_SVD31</th>\n",
              "      <th>TextCluster_SVD32</th>\n",
              "      <th>TextCluster_SVD33</th>\n",
              "      <th>TextCluster_SVD34</th>\n",
              "      <th>TextCluster_SVD35</th>\n",
              "      <th>TextCluster_SVD36</th>\n",
              "      <th>...</th>\n",
              "      <th>TextCluster_SVD111</th>\n",
              "      <th>TextCluster_SVD112</th>\n",
              "      <th>TextCluster_SVD113</th>\n",
              "      <th>TextCluster_SVD114</th>\n",
              "      <th>TextCluster_SVD115</th>\n",
              "      <th>TextCluster_SVD116</th>\n",
              "      <th>TextCluster_SVD117</th>\n",
              "      <th>TextCluster_SVD118</th>\n",
              "      <th>TextCluster_SVD119</th>\n",
              "      <th>TextCluster_SVD120</th>\n",
              "      <th>TextCluster_SVD121</th>\n",
              "      <th>TextCluster_SVD122</th>\n",
              "      <th>TextCluster_SVD123</th>\n",
              "      <th>TextCluster_SVD124</th>\n",
              "      <th>TextCluster_SVD125</th>\n",
              "      <th>TextCluster_SVD126</th>\n",
              "      <th>TextCluster_SVD127</th>\n",
              "      <th>TextCluster_SVD128</th>\n",
              "      <th>TextCluster_SVD129</th>\n",
              "      <th>TextCluster_SVD130</th>\n",
              "      <th>TextCluster_SVD131</th>\n",
              "      <th>TextCluster_SVD132</th>\n",
              "      <th>TextCluster_SVD133</th>\n",
              "      <th>TextCluster_SVD134</th>\n",
              "      <th>TextCluster_SVD135</th>\n",
              "      <th>TextCluster_SVD136</th>\n",
              "      <th>TextCluster_SVD137</th>\n",
              "      <th>TextCluster_SVD138</th>\n",
              "      <th>TextCluster_SVD139</th>\n",
              "      <th>TextCluster_SVD140</th>\n",
              "      <th>TextCluster_SVD141</th>\n",
              "      <th>TextCluster_SVD142</th>\n",
              "      <th>TextCluster_SVD143</th>\n",
              "      <th>TextCluster_SVD144</th>\n",
              "      <th>TextCluster_SVD145</th>\n",
              "      <th>TextCluster_SVD146</th>\n",
              "      <th>TextCluster_SVD147</th>\n",
              "      <th>TextCluster_SVD148</th>\n",
              "      <th>TextCluster_SVD149</th>\n",
              "      <th>TextCluster_SVD150</th>\n",
              "    </tr>\n",
              "  </thead>\n",
              "  <tbody>\n",
              "    <tr>\n",
              "      <th>1859</th>\n",
              "      <td>2015-12-28</td>\n",
              "      <td>0.026222</td>\n",
              "      <td>0.254073</td>\n",
              "      <td>10</td>\n",
              "      <td>0.035961</td>\n",
              "      <td>-0.034888</td>\n",
              "      <td>0.062151</td>\n",
              "      <td>0.001897</td>\n",
              "      <td>-0.049914</td>\n",
              "      <td>-0.006819</td>\n",
              "      <td>-0.004078</td>\n",
              "      <td>0.025674</td>\n",
              "      <td>0.023934</td>\n",
              "      <td>-0.018948</td>\n",
              "      <td>0.026819</td>\n",
              "      <td>-0.004080</td>\n",
              "      <td>0.015223</td>\n",
              "      <td>-0.006680</td>\n",
              "      <td>0.010078</td>\n",
              "      <td>-0.007221</td>\n",
              "      <td>0.033822</td>\n",
              "      <td>0.017229</td>\n",
              "      <td>-0.009689</td>\n",
              "      <td>-0.002299</td>\n",
              "      <td>0.020678</td>\n",
              "      <td>0.002586</td>\n",
              "      <td>0.045444</td>\n",
              "      <td>0.011049</td>\n",
              "      <td>-0.003344</td>\n",
              "      <td>0.010819</td>\n",
              "      <td>0.000555</td>\n",
              "      <td>-0.001779</td>\n",
              "      <td>0.003321</td>\n",
              "      <td>0.020409</td>\n",
              "      <td>-0.002025</td>\n",
              "      <td>-0.014598</td>\n",
              "      <td>-0.022851</td>\n",
              "      <td>0.008132</td>\n",
              "      <td>0.015710</td>\n",
              "      <td>0.028098</td>\n",
              "      <td>...</td>\n",
              "      <td>0.059296</td>\n",
              "      <td>-0.143169</td>\n",
              "      <td>0.024786</td>\n",
              "      <td>0.121353</td>\n",
              "      <td>0.132127</td>\n",
              "      <td>-0.080990</td>\n",
              "      <td>-0.050703</td>\n",
              "      <td>0.034702</td>\n",
              "      <td>0.104499</td>\n",
              "      <td>0.033094</td>\n",
              "      <td>-0.145787</td>\n",
              "      <td>0.056456</td>\n",
              "      <td>0.022812</td>\n",
              "      <td>-0.109996</td>\n",
              "      <td>0.050724</td>\n",
              "      <td>-0.012410</td>\n",
              "      <td>0.011442</td>\n",
              "      <td>-0.132214</td>\n",
              "      <td>-0.164716</td>\n",
              "      <td>-0.029711</td>\n",
              "      <td>-0.218139</td>\n",
              "      <td>-0.022867</td>\n",
              "      <td>-0.090488</td>\n",
              "      <td>-0.036112</td>\n",
              "      <td>0.043410</td>\n",
              "      <td>0.136300</td>\n",
              "      <td>0.118520</td>\n",
              "      <td>-0.085787</td>\n",
              "      <td>-0.089442</td>\n",
              "      <td>-0.081664</td>\n",
              "      <td>0.041939</td>\n",
              "      <td>-0.012297</td>\n",
              "      <td>-0.059561</td>\n",
              "      <td>-0.039815</td>\n",
              "      <td>0.047522</td>\n",
              "      <td>0.111483</td>\n",
              "      <td>-0.227116</td>\n",
              "      <td>-0.204344</td>\n",
              "      <td>0.116033</td>\n",
              "      <td>-0.081394</td>\n",
              "    </tr>\n",
              "    <tr>\n",
              "      <th>685</th>\n",
              "      <td>2011-04-28</td>\n",
              "      <td>0.084091</td>\n",
              "      <td>0.371970</td>\n",
              "      <td>4</td>\n",
              "      <td>0.074825</td>\n",
              "      <td>-0.038242</td>\n",
              "      <td>-0.017757</td>\n",
              "      <td>0.004020</td>\n",
              "      <td>0.003515</td>\n",
              "      <td>-0.023631</td>\n",
              "      <td>-0.009788</td>\n",
              "      <td>-0.031818</td>\n",
              "      <td>-0.026938</td>\n",
              "      <td>-0.040749</td>\n",
              "      <td>0.014180</td>\n",
              "      <td>0.049431</td>\n",
              "      <td>0.068147</td>\n",
              "      <td>-0.011805</td>\n",
              "      <td>0.012017</td>\n",
              "      <td>-0.052530</td>\n",
              "      <td>0.007584</td>\n",
              "      <td>0.052426</td>\n",
              "      <td>0.013858</td>\n",
              "      <td>0.003015</td>\n",
              "      <td>0.027149</td>\n",
              "      <td>-0.007833</td>\n",
              "      <td>0.023966</td>\n",
              "      <td>-0.023383</td>\n",
              "      <td>0.020872</td>\n",
              "      <td>0.096076</td>\n",
              "      <td>-0.056252</td>\n",
              "      <td>-0.046995</td>\n",
              "      <td>0.016316</td>\n",
              "      <td>-0.011578</td>\n",
              "      <td>0.028033</td>\n",
              "      <td>0.023662</td>\n",
              "      <td>0.010828</td>\n",
              "      <td>-0.086230</td>\n",
              "      <td>0.053674</td>\n",
              "      <td>-0.047009</td>\n",
              "      <td>...</td>\n",
              "      <td>0.214875</td>\n",
              "      <td>-0.062422</td>\n",
              "      <td>-0.125435</td>\n",
              "      <td>-0.077787</td>\n",
              "      <td>-0.026713</td>\n",
              "      <td>-0.063205</td>\n",
              "      <td>0.248555</td>\n",
              "      <td>-0.033746</td>\n",
              "      <td>0.003894</td>\n",
              "      <td>-0.045959</td>\n",
              "      <td>0.094169</td>\n",
              "      <td>0.057377</td>\n",
              "      <td>0.267908</td>\n",
              "      <td>-0.178311</td>\n",
              "      <td>-0.149328</td>\n",
              "      <td>-0.074448</td>\n",
              "      <td>0.064437</td>\n",
              "      <td>-0.052161</td>\n",
              "      <td>-0.116670</td>\n",
              "      <td>-0.059885</td>\n",
              "      <td>0.206831</td>\n",
              "      <td>-0.048226</td>\n",
              "      <td>0.087001</td>\n",
              "      <td>-0.092773</td>\n",
              "      <td>-0.089645</td>\n",
              "      <td>-0.038331</td>\n",
              "      <td>0.128814</td>\n",
              "      <td>0.107789</td>\n",
              "      <td>-0.047311</td>\n",
              "      <td>0.179383</td>\n",
              "      <td>-0.122416</td>\n",
              "      <td>-0.003267</td>\n",
              "      <td>0.046747</td>\n",
              "      <td>-0.121370</td>\n",
              "      <td>0.005178</td>\n",
              "      <td>0.037926</td>\n",
              "      <td>0.099323</td>\n",
              "      <td>0.076500</td>\n",
              "      <td>0.160029</td>\n",
              "      <td>0.059312</td>\n",
              "    </tr>\n",
              "    <tr>\n",
              "      <th>1972</th>\n",
              "      <td>2016-06-09</td>\n",
              "      <td>0.111211</td>\n",
              "      <td>0.317637</td>\n",
              "      <td>10</td>\n",
              "      <td>0.065017</td>\n",
              "      <td>-0.068005</td>\n",
              "      <td>0.011517</td>\n",
              "      <td>-0.016354</td>\n",
              "      <td>0.012548</td>\n",
              "      <td>-0.043051</td>\n",
              "      <td>-0.066953</td>\n",
              "      <td>-0.047389</td>\n",
              "      <td>0.026101</td>\n",
              "      <td>0.008670</td>\n",
              "      <td>0.112868</td>\n",
              "      <td>0.056228</td>\n",
              "      <td>-0.048244</td>\n",
              "      <td>-0.026818</td>\n",
              "      <td>-0.036106</td>\n",
              "      <td>0.028797</td>\n",
              "      <td>-0.136849</td>\n",
              "      <td>0.063366</td>\n",
              "      <td>0.085751</td>\n",
              "      <td>-0.051605</td>\n",
              "      <td>0.104434</td>\n",
              "      <td>0.033101</td>\n",
              "      <td>-0.179119</td>\n",
              "      <td>-0.088142</td>\n",
              "      <td>-0.125838</td>\n",
              "      <td>-0.176433</td>\n",
              "      <td>0.115925</td>\n",
              "      <td>0.022033</td>\n",
              "      <td>0.082976</td>\n",
              "      <td>0.040232</td>\n",
              "      <td>0.111698</td>\n",
              "      <td>-0.040476</td>\n",
              "      <td>0.007141</td>\n",
              "      <td>-0.040310</td>\n",
              "      <td>-0.005297</td>\n",
              "      <td>0.065751</td>\n",
              "      <td>...</td>\n",
              "      <td>0.052273</td>\n",
              "      <td>0.022762</td>\n",
              "      <td>-0.046136</td>\n",
              "      <td>0.089112</td>\n",
              "      <td>-0.037823</td>\n",
              "      <td>0.199912</td>\n",
              "      <td>-0.047336</td>\n",
              "      <td>-0.061805</td>\n",
              "      <td>-0.007195</td>\n",
              "      <td>0.026708</td>\n",
              "      <td>0.058472</td>\n",
              "      <td>0.020166</td>\n",
              "      <td>0.159917</td>\n",
              "      <td>-0.047024</td>\n",
              "      <td>0.011355</td>\n",
              "      <td>0.008848</td>\n",
              "      <td>-0.045376</td>\n",
              "      <td>0.025083</td>\n",
              "      <td>-0.010049</td>\n",
              "      <td>-0.041700</td>\n",
              "      <td>0.045594</td>\n",
              "      <td>-0.035555</td>\n",
              "      <td>0.116990</td>\n",
              "      <td>-0.062527</td>\n",
              "      <td>0.015451</td>\n",
              "      <td>-0.096374</td>\n",
              "      <td>0.071836</td>\n",
              "      <td>-0.132930</td>\n",
              "      <td>0.075286</td>\n",
              "      <td>-0.022505</td>\n",
              "      <td>0.050186</td>\n",
              "      <td>0.041465</td>\n",
              "      <td>-0.034845</td>\n",
              "      <td>0.159491</td>\n",
              "      <td>-0.035300</td>\n",
              "      <td>-0.031133</td>\n",
              "      <td>-0.048474</td>\n",
              "      <td>0.056347</td>\n",
              "      <td>0.170175</td>\n",
              "      <td>0.087010</td>\n",
              "    </tr>\n",
              "    <tr>\n",
              "      <th>1887</th>\n",
              "      <td>2016-02-08</td>\n",
              "      <td>0.045416</td>\n",
              "      <td>0.377368</td>\n",
              "      <td>10</td>\n",
              "      <td>0.149867</td>\n",
              "      <td>-0.106181</td>\n",
              "      <td>-0.009912</td>\n",
              "      <td>-0.004904</td>\n",
              "      <td>-0.027242</td>\n",
              "      <td>-0.058995</td>\n",
              "      <td>-0.023931</td>\n",
              "      <td>-0.035553</td>\n",
              "      <td>-0.004210</td>\n",
              "      <td>-0.084459</td>\n",
              "      <td>0.164955</td>\n",
              "      <td>-0.003027</td>\n",
              "      <td>0.001815</td>\n",
              "      <td>0.028739</td>\n",
              "      <td>-0.088702</td>\n",
              "      <td>0.023499</td>\n",
              "      <td>0.011871</td>\n",
              "      <td>0.054980</td>\n",
              "      <td>-0.018930</td>\n",
              "      <td>0.065535</td>\n",
              "      <td>0.031819</td>\n",
              "      <td>0.061849</td>\n",
              "      <td>-0.027448</td>\n",
              "      <td>-0.047284</td>\n",
              "      <td>-0.053469</td>\n",
              "      <td>-0.089204</td>\n",
              "      <td>-0.000640</td>\n",
              "      <td>0.133192</td>\n",
              "      <td>0.017371</td>\n",
              "      <td>0.067643</td>\n",
              "      <td>0.031069</td>\n",
              "      <td>-0.030768</td>\n",
              "      <td>-0.091304</td>\n",
              "      <td>0.001195</td>\n",
              "      <td>-0.058743</td>\n",
              "      <td>0.095424</td>\n",
              "      <td>...</td>\n",
              "      <td>-0.123275</td>\n",
              "      <td>-0.046989</td>\n",
              "      <td>-0.077463</td>\n",
              "      <td>-0.065303</td>\n",
              "      <td>0.019519</td>\n",
              "      <td>-0.084703</td>\n",
              "      <td>0.088113</td>\n",
              "      <td>0.070145</td>\n",
              "      <td>-0.044046</td>\n",
              "      <td>0.042129</td>\n",
              "      <td>-0.080814</td>\n",
              "      <td>-0.126635</td>\n",
              "      <td>-0.195806</td>\n",
              "      <td>-0.124430</td>\n",
              "      <td>0.091461</td>\n",
              "      <td>-0.090233</td>\n",
              "      <td>-0.194230</td>\n",
              "      <td>-0.014334</td>\n",
              "      <td>0.028892</td>\n",
              "      <td>0.089914</td>\n",
              "      <td>0.080994</td>\n",
              "      <td>0.107545</td>\n",
              "      <td>-0.026457</td>\n",
              "      <td>0.022379</td>\n",
              "      <td>0.074016</td>\n",
              "      <td>0.043214</td>\n",
              "      <td>0.055125</td>\n",
              "      <td>-0.045815</td>\n",
              "      <td>0.025877</td>\n",
              "      <td>-0.079760</td>\n",
              "      <td>0.096577</td>\n",
              "      <td>0.011677</td>\n",
              "      <td>0.050635</td>\n",
              "      <td>0.175483</td>\n",
              "      <td>0.156060</td>\n",
              "      <td>0.095480</td>\n",
              "      <td>0.190287</td>\n",
              "      <td>0.066219</td>\n",
              "      <td>0.065997</td>\n",
              "      <td>0.073700</td>\n",
              "    </tr>\n",
              "    <tr>\n",
              "      <th>895</th>\n",
              "      <td>2012-02-28</td>\n",
              "      <td>0.145701</td>\n",
              "      <td>0.328345</td>\n",
              "      <td>10</td>\n",
              "      <td>0.137403</td>\n",
              "      <td>-0.022746</td>\n",
              "      <td>-0.032696</td>\n",
              "      <td>0.010204</td>\n",
              "      <td>0.028686</td>\n",
              "      <td>0.020275</td>\n",
              "      <td>0.001659</td>\n",
              "      <td>-0.007031</td>\n",
              "      <td>-0.036313</td>\n",
              "      <td>0.020116</td>\n",
              "      <td>0.014648</td>\n",
              "      <td>-0.005301</td>\n",
              "      <td>0.088832</td>\n",
              "      <td>0.067227</td>\n",
              "      <td>0.088205</td>\n",
              "      <td>-0.031024</td>\n",
              "      <td>0.095578</td>\n",
              "      <td>-0.033488</td>\n",
              "      <td>-0.050530</td>\n",
              "      <td>0.030868</td>\n",
              "      <td>0.058703</td>\n",
              "      <td>0.047414</td>\n",
              "      <td>-0.079325</td>\n",
              "      <td>0.051077</td>\n",
              "      <td>-0.019424</td>\n",
              "      <td>0.043872</td>\n",
              "      <td>0.038422</td>\n",
              "      <td>0.161240</td>\n",
              "      <td>-0.038004</td>\n",
              "      <td>0.098402</td>\n",
              "      <td>0.042207</td>\n",
              "      <td>-0.008309</td>\n",
              "      <td>0.009123</td>\n",
              "      <td>-0.062113</td>\n",
              "      <td>-0.036689</td>\n",
              "      <td>-0.063457</td>\n",
              "      <td>...</td>\n",
              "      <td>-0.042771</td>\n",
              "      <td>-0.129898</td>\n",
              "      <td>0.038717</td>\n",
              "      <td>0.021147</td>\n",
              "      <td>0.044275</td>\n",
              "      <td>0.025864</td>\n",
              "      <td>0.031410</td>\n",
              "      <td>0.098629</td>\n",
              "      <td>0.002544</td>\n",
              "      <td>0.012549</td>\n",
              "      <td>0.100578</td>\n",
              "      <td>0.077430</td>\n",
              "      <td>-0.040513</td>\n",
              "      <td>0.197079</td>\n",
              "      <td>0.112908</td>\n",
              "      <td>0.031718</td>\n",
              "      <td>0.101208</td>\n",
              "      <td>-0.082535</td>\n",
              "      <td>-0.046601</td>\n",
              "      <td>-0.278499</td>\n",
              "      <td>-0.108689</td>\n",
              "      <td>0.206404</td>\n",
              "      <td>-0.051112</td>\n",
              "      <td>0.040361</td>\n",
              "      <td>-0.098397</td>\n",
              "      <td>-0.069469</td>\n",
              "      <td>-0.098303</td>\n",
              "      <td>-0.002753</td>\n",
              "      <td>0.037037</td>\n",
              "      <td>-0.128107</td>\n",
              "      <td>0.100301</td>\n",
              "      <td>-0.062113</td>\n",
              "      <td>-0.003612</td>\n",
              "      <td>0.044792</td>\n",
              "      <td>-0.115791</td>\n",
              "      <td>0.075335</td>\n",
              "      <td>0.020176</td>\n",
              "      <td>-0.082286</td>\n",
              "      <td>0.093812</td>\n",
              "      <td>0.056089</td>\n",
              "    </tr>\n",
              "    <tr>\n",
              "      <th>...</th>\n",
              "      <td>...</td>\n",
              "      <td>...</td>\n",
              "      <td>...</td>\n",
              "      <td>...</td>\n",
              "      <td>...</td>\n",
              "      <td>...</td>\n",
              "      <td>...</td>\n",
              "      <td>...</td>\n",
              "      <td>...</td>\n",
              "      <td>...</td>\n",
              "      <td>...</td>\n",
              "      <td>...</td>\n",
              "      <td>...</td>\n",
              "      <td>...</td>\n",
              "      <td>...</td>\n",
              "      <td>...</td>\n",
              "      <td>...</td>\n",
              "      <td>...</td>\n",
              "      <td>...</td>\n",
              "      <td>...</td>\n",
              "      <td>...</td>\n",
              "      <td>...</td>\n",
              "      <td>...</td>\n",
              "      <td>...</td>\n",
              "      <td>...</td>\n",
              "      <td>...</td>\n",
              "      <td>...</td>\n",
              "      <td>...</td>\n",
              "      <td>...</td>\n",
              "      <td>...</td>\n",
              "      <td>...</td>\n",
              "      <td>...</td>\n",
              "      <td>...</td>\n",
              "      <td>...</td>\n",
              "      <td>...</td>\n",
              "      <td>...</td>\n",
              "      <td>...</td>\n",
              "      <td>...</td>\n",
              "      <td>...</td>\n",
              "      <td>...</td>\n",
              "      <td>...</td>\n",
              "      <td>...</td>\n",
              "      <td>...</td>\n",
              "      <td>...</td>\n",
              "      <td>...</td>\n",
              "      <td>...</td>\n",
              "      <td>...</td>\n",
              "      <td>...</td>\n",
              "      <td>...</td>\n",
              "      <td>...</td>\n",
              "      <td>...</td>\n",
              "      <td>...</td>\n",
              "      <td>...</td>\n",
              "      <td>...</td>\n",
              "      <td>...</td>\n",
              "      <td>...</td>\n",
              "      <td>...</td>\n",
              "      <td>...</td>\n",
              "      <td>...</td>\n",
              "      <td>...</td>\n",
              "      <td>...</td>\n",
              "      <td>...</td>\n",
              "      <td>...</td>\n",
              "      <td>...</td>\n",
              "      <td>...</td>\n",
              "      <td>...</td>\n",
              "      <td>...</td>\n",
              "      <td>...</td>\n",
              "      <td>...</td>\n",
              "      <td>...</td>\n",
              "      <td>...</td>\n",
              "      <td>...</td>\n",
              "      <td>...</td>\n",
              "      <td>...</td>\n",
              "      <td>...</td>\n",
              "      <td>...</td>\n",
              "      <td>...</td>\n",
              "      <td>...</td>\n",
              "      <td>...</td>\n",
              "      <td>...</td>\n",
              "      <td>...</td>\n",
              "    </tr>\n",
              "    <tr>\n",
              "      <th>1393</th>\n",
              "      <td>2014-02-21</td>\n",
              "      <td>-0.039848</td>\n",
              "      <td>0.406061</td>\n",
              "      <td>12</td>\n",
              "      <td>0.019504</td>\n",
              "      <td>-0.016714</td>\n",
              "      <td>-0.006016</td>\n",
              "      <td>-0.014223</td>\n",
              "      <td>-0.005777</td>\n",
              "      <td>-0.018281</td>\n",
              "      <td>-0.002101</td>\n",
              "      <td>0.000882</td>\n",
              "      <td>-0.006549</td>\n",
              "      <td>-0.028214</td>\n",
              "      <td>0.062363</td>\n",
              "      <td>0.013838</td>\n",
              "      <td>0.000926</td>\n",
              "      <td>0.012466</td>\n",
              "      <td>-0.015759</td>\n",
              "      <td>0.039481</td>\n",
              "      <td>0.026133</td>\n",
              "      <td>0.021427</td>\n",
              "      <td>-0.014920</td>\n",
              "      <td>0.001482</td>\n",
              "      <td>0.036026</td>\n",
              "      <td>-0.012291</td>\n",
              "      <td>0.005516</td>\n",
              "      <td>0.025644</td>\n",
              "      <td>-0.001512</td>\n",
              "      <td>0.080806</td>\n",
              "      <td>-0.028085</td>\n",
              "      <td>-0.015504</td>\n",
              "      <td>0.031026</td>\n",
              "      <td>-0.086922</td>\n",
              "      <td>0.024751</td>\n",
              "      <td>0.000673</td>\n",
              "      <td>0.056715</td>\n",
              "      <td>-0.083984</td>\n",
              "      <td>0.121228</td>\n",
              "      <td>-0.029123</td>\n",
              "      <td>...</td>\n",
              "      <td>0.225198</td>\n",
              "      <td>-0.333774</td>\n",
              "      <td>-0.047237</td>\n",
              "      <td>0.127857</td>\n",
              "      <td>-0.101973</td>\n",
              "      <td>-0.037475</td>\n",
              "      <td>-0.149326</td>\n",
              "      <td>0.201376</td>\n",
              "      <td>-0.194183</td>\n",
              "      <td>-0.029463</td>\n",
              "      <td>-0.076497</td>\n",
              "      <td>0.182506</td>\n",
              "      <td>-0.070791</td>\n",
              "      <td>-0.174931</td>\n",
              "      <td>-0.183447</td>\n",
              "      <td>-0.197815</td>\n",
              "      <td>0.147414</td>\n",
              "      <td>0.154365</td>\n",
              "      <td>0.002995</td>\n",
              "      <td>-0.026673</td>\n",
              "      <td>0.094716</td>\n",
              "      <td>0.022601</td>\n",
              "      <td>0.092501</td>\n",
              "      <td>-0.041782</td>\n",
              "      <td>0.048717</td>\n",
              "      <td>-0.094716</td>\n",
              "      <td>0.197809</td>\n",
              "      <td>-0.032794</td>\n",
              "      <td>0.172041</td>\n",
              "      <td>0.056446</td>\n",
              "      <td>0.252327</td>\n",
              "      <td>0.075073</td>\n",
              "      <td>0.031872</td>\n",
              "      <td>-0.034324</td>\n",
              "      <td>0.083769</td>\n",
              "      <td>-0.039732</td>\n",
              "      <td>0.137983</td>\n",
              "      <td>0.227785</td>\n",
              "      <td>-0.042163</td>\n",
              "      <td>0.045820</td>\n",
              "    </tr>\n",
              "    <tr>\n",
              "      <th>1344</th>\n",
              "      <td>2013-12-10</td>\n",
              "      <td>-0.038859</td>\n",
              "      <td>0.325045</td>\n",
              "      <td>15</td>\n",
              "      <td>0.089946</td>\n",
              "      <td>-0.058443</td>\n",
              "      <td>-0.055604</td>\n",
              "      <td>0.084104</td>\n",
              "      <td>-0.130281</td>\n",
              "      <td>-0.047151</td>\n",
              "      <td>0.026980</td>\n",
              "      <td>0.013934</td>\n",
              "      <td>-0.200568</td>\n",
              "      <td>-0.291749</td>\n",
              "      <td>-0.350701</td>\n",
              "      <td>0.582528</td>\n",
              "      <td>0.369321</td>\n",
              "      <td>-0.016233</td>\n",
              "      <td>0.064520</td>\n",
              "      <td>0.083601</td>\n",
              "      <td>-0.186698</td>\n",
              "      <td>0.012995</td>\n",
              "      <td>0.007142</td>\n",
              "      <td>0.113875</td>\n",
              "      <td>0.050496</td>\n",
              "      <td>-0.172258</td>\n",
              "      <td>0.022716</td>\n",
              "      <td>-0.112120</td>\n",
              "      <td>-0.033149</td>\n",
              "      <td>0.028148</td>\n",
              "      <td>0.080999</td>\n",
              "      <td>0.027254</td>\n",
              "      <td>-0.113881</td>\n",
              "      <td>0.099105</td>\n",
              "      <td>-0.053099</td>\n",
              "      <td>0.012500</td>\n",
              "      <td>0.031624</td>\n",
              "      <td>-0.029252</td>\n",
              "      <td>0.065396</td>\n",
              "      <td>0.017673</td>\n",
              "      <td>...</td>\n",
              "      <td>0.060505</td>\n",
              "      <td>-0.007334</td>\n",
              "      <td>-0.006135</td>\n",
              "      <td>-0.091792</td>\n",
              "      <td>0.028326</td>\n",
              "      <td>0.021685</td>\n",
              "      <td>0.002739</td>\n",
              "      <td>-0.005850</td>\n",
              "      <td>-0.035170</td>\n",
              "      <td>0.021876</td>\n",
              "      <td>0.024292</td>\n",
              "      <td>0.022209</td>\n",
              "      <td>0.093298</td>\n",
              "      <td>0.030702</td>\n",
              "      <td>-0.049322</td>\n",
              "      <td>0.032895</td>\n",
              "      <td>-0.008390</td>\n",
              "      <td>0.034930</td>\n",
              "      <td>-0.004912</td>\n",
              "      <td>0.040975</td>\n",
              "      <td>0.006965</td>\n",
              "      <td>0.014584</td>\n",
              "      <td>-0.009987</td>\n",
              "      <td>-0.000227</td>\n",
              "      <td>-0.001789</td>\n",
              "      <td>0.004164</td>\n",
              "      <td>0.015273</td>\n",
              "      <td>-0.030893</td>\n",
              "      <td>0.001075</td>\n",
              "      <td>0.004150</td>\n",
              "      <td>-0.045508</td>\n",
              "      <td>0.011120</td>\n",
              "      <td>0.024782</td>\n",
              "      <td>-0.005117</td>\n",
              "      <td>-0.003670</td>\n",
              "      <td>0.044408</td>\n",
              "      <td>0.008544</td>\n",
              "      <td>-0.008727</td>\n",
              "      <td>0.002448</td>\n",
              "      <td>0.038657</td>\n",
              "    </tr>\n",
              "    <tr>\n",
              "      <th>527</th>\n",
              "      <td>2010-09-13</td>\n",
              "      <td>-0.047683</td>\n",
              "      <td>0.346613</td>\n",
              "      <td>10</td>\n",
              "      <td>0.022067</td>\n",
              "      <td>-0.021005</td>\n",
              "      <td>-0.002251</td>\n",
              "      <td>-0.007705</td>\n",
              "      <td>-0.000250</td>\n",
              "      <td>-0.009826</td>\n",
              "      <td>-0.010430</td>\n",
              "      <td>0.001781</td>\n",
              "      <td>-0.000698</td>\n",
              "      <td>-0.031563</td>\n",
              "      <td>0.038850</td>\n",
              "      <td>-0.002696</td>\n",
              "      <td>0.011479</td>\n",
              "      <td>0.008177</td>\n",
              "      <td>-0.026473</td>\n",
              "      <td>-0.002060</td>\n",
              "      <td>-0.003643</td>\n",
              "      <td>0.001253</td>\n",
              "      <td>0.001237</td>\n",
              "      <td>-0.003280</td>\n",
              "      <td>-0.004440</td>\n",
              "      <td>-0.004391</td>\n",
              "      <td>0.023471</td>\n",
              "      <td>0.001383</td>\n",
              "      <td>0.005449</td>\n",
              "      <td>-0.016205</td>\n",
              "      <td>-0.014219</td>\n",
              "      <td>0.045124</td>\n",
              "      <td>-0.030605</td>\n",
              "      <td>0.005574</td>\n",
              "      <td>0.027245</td>\n",
              "      <td>-0.009481</td>\n",
              "      <td>0.006842</td>\n",
              "      <td>-0.014728</td>\n",
              "      <td>-0.012544</td>\n",
              "      <td>0.014355</td>\n",
              "      <td>...</td>\n",
              "      <td>-0.006243</td>\n",
              "      <td>-0.076573</td>\n",
              "      <td>-0.150165</td>\n",
              "      <td>-0.013691</td>\n",
              "      <td>-0.067821</td>\n",
              "      <td>-0.005819</td>\n",
              "      <td>-0.125122</td>\n",
              "      <td>-0.061734</td>\n",
              "      <td>-0.060138</td>\n",
              "      <td>-0.194748</td>\n",
              "      <td>0.049946</td>\n",
              "      <td>-0.051586</td>\n",
              "      <td>0.055317</td>\n",
              "      <td>-0.067164</td>\n",
              "      <td>-0.156979</td>\n",
              "      <td>-0.046326</td>\n",
              "      <td>0.085554</td>\n",
              "      <td>-0.141301</td>\n",
              "      <td>-0.080237</td>\n",
              "      <td>-0.008494</td>\n",
              "      <td>0.039430</td>\n",
              "      <td>-0.041663</td>\n",
              "      <td>-0.071759</td>\n",
              "      <td>0.126324</td>\n",
              "      <td>-0.151651</td>\n",
              "      <td>0.058012</td>\n",
              "      <td>-0.034207</td>\n",
              "      <td>-0.144580</td>\n",
              "      <td>-0.060709</td>\n",
              "      <td>0.067979</td>\n",
              "      <td>-0.081800</td>\n",
              "      <td>0.058979</td>\n",
              "      <td>-0.099419</td>\n",
              "      <td>0.043924</td>\n",
              "      <td>-0.063751</td>\n",
              "      <td>0.060527</td>\n",
              "      <td>-0.066136</td>\n",
              "      <td>-0.035532</td>\n",
              "      <td>-0.039713</td>\n",
              "      <td>-0.024768</td>\n",
              "    </tr>\n",
              "    <tr>\n",
              "      <th>1149</th>\n",
              "      <td>2013-03-05</td>\n",
              "      <td>-0.103765</td>\n",
              "      <td>0.398007</td>\n",
              "      <td>10</td>\n",
              "      <td>0.062951</td>\n",
              "      <td>-0.058289</td>\n",
              "      <td>0.009089</td>\n",
              "      <td>-0.017698</td>\n",
              "      <td>-0.000425</td>\n",
              "      <td>-0.039995</td>\n",
              "      <td>-0.045774</td>\n",
              "      <td>-0.005564</td>\n",
              "      <td>-0.095634</td>\n",
              "      <td>-0.111740</td>\n",
              "      <td>0.093915</td>\n",
              "      <td>-0.055923</td>\n",
              "      <td>-0.028582</td>\n",
              "      <td>-0.008662</td>\n",
              "      <td>0.075420</td>\n",
              "      <td>0.027399</td>\n",
              "      <td>-0.024524</td>\n",
              "      <td>0.016349</td>\n",
              "      <td>0.008977</td>\n",
              "      <td>-0.028232</td>\n",
              "      <td>-0.035770</td>\n",
              "      <td>0.011853</td>\n",
              "      <td>0.082857</td>\n",
              "      <td>0.004983</td>\n",
              "      <td>0.024230</td>\n",
              "      <td>-0.083174</td>\n",
              "      <td>0.040850</td>\n",
              "      <td>-0.007737</td>\n",
              "      <td>-0.017582</td>\n",
              "      <td>0.000015</td>\n",
              "      <td>0.005321</td>\n",
              "      <td>0.043709</td>\n",
              "      <td>-0.028281</td>\n",
              "      <td>0.079599</td>\n",
              "      <td>0.011333</td>\n",
              "      <td>-0.008580</td>\n",
              "      <td>...</td>\n",
              "      <td>0.039111</td>\n",
              "      <td>-0.022034</td>\n",
              "      <td>0.097514</td>\n",
              "      <td>-0.109805</td>\n",
              "      <td>0.031977</td>\n",
              "      <td>0.029892</td>\n",
              "      <td>-0.124595</td>\n",
              "      <td>0.080628</td>\n",
              "      <td>0.162748</td>\n",
              "      <td>-0.118539</td>\n",
              "      <td>-0.226244</td>\n",
              "      <td>0.017335</td>\n",
              "      <td>-0.016260</td>\n",
              "      <td>-0.019164</td>\n",
              "      <td>0.217348</td>\n",
              "      <td>0.035109</td>\n",
              "      <td>0.076653</td>\n",
              "      <td>-0.087329</td>\n",
              "      <td>-0.080295</td>\n",
              "      <td>-0.106356</td>\n",
              "      <td>-0.119124</td>\n",
              "      <td>-0.096866</td>\n",
              "      <td>0.034223</td>\n",
              "      <td>0.234017</td>\n",
              "      <td>-0.094657</td>\n",
              "      <td>0.022311</td>\n",
              "      <td>-0.171354</td>\n",
              "      <td>-0.043113</td>\n",
              "      <td>0.095570</td>\n",
              "      <td>-0.022002</td>\n",
              "      <td>-0.053180</td>\n",
              "      <td>-0.151500</td>\n",
              "      <td>0.005836</td>\n",
              "      <td>-0.058464</td>\n",
              "      <td>0.104298</td>\n",
              "      <td>-0.160295</td>\n",
              "      <td>0.056557</td>\n",
              "      <td>0.135876</td>\n",
              "      <td>-0.068107</td>\n",
              "      <td>-0.054135</td>\n",
              "    </tr>\n",
              "    <tr>\n",
              "      <th>1289</th>\n",
              "      <td>2013-09-23</td>\n",
              "      <td>0.068193</td>\n",
              "      <td>0.430087</td>\n",
              "      <td>10</td>\n",
              "      <td>0.061475</td>\n",
              "      <td>-0.063103</td>\n",
              "      <td>-0.001737</td>\n",
              "      <td>-0.036890</td>\n",
              "      <td>0.016891</td>\n",
              "      <td>-0.068591</td>\n",
              "      <td>-0.001326</td>\n",
              "      <td>-0.001978</td>\n",
              "      <td>-0.029025</td>\n",
              "      <td>-0.035117</td>\n",
              "      <td>0.031747</td>\n",
              "      <td>0.003695</td>\n",
              "      <td>-0.016800</td>\n",
              "      <td>-0.020513</td>\n",
              "      <td>-0.096483</td>\n",
              "      <td>0.033841</td>\n",
              "      <td>0.108577</td>\n",
              "      <td>0.019773</td>\n",
              "      <td>0.011528</td>\n",
              "      <td>-0.000358</td>\n",
              "      <td>0.022401</td>\n",
              "      <td>0.024705</td>\n",
              "      <td>0.012933</td>\n",
              "      <td>0.007792</td>\n",
              "      <td>0.044525</td>\n",
              "      <td>0.004814</td>\n",
              "      <td>0.064707</td>\n",
              "      <td>-0.009817</td>\n",
              "      <td>-0.007921</td>\n",
              "      <td>0.035898</td>\n",
              "      <td>0.024795</td>\n",
              "      <td>-0.020441</td>\n",
              "      <td>-0.033724</td>\n",
              "      <td>0.027370</td>\n",
              "      <td>-0.010820</td>\n",
              "      <td>0.022289</td>\n",
              "      <td>...</td>\n",
              "      <td>0.152746</td>\n",
              "      <td>0.099228</td>\n",
              "      <td>-0.031880</td>\n",
              "      <td>-0.146924</td>\n",
              "      <td>0.159557</td>\n",
              "      <td>0.031537</td>\n",
              "      <td>0.134931</td>\n",
              "      <td>0.207452</td>\n",
              "      <td>0.160958</td>\n",
              "      <td>-0.167719</td>\n",
              "      <td>-0.061107</td>\n",
              "      <td>-0.027380</td>\n",
              "      <td>0.039507</td>\n",
              "      <td>-0.081765</td>\n",
              "      <td>0.078830</td>\n",
              "      <td>-0.037055</td>\n",
              "      <td>-0.143847</td>\n",
              "      <td>0.003324</td>\n",
              "      <td>0.113134</td>\n",
              "      <td>0.052566</td>\n",
              "      <td>-0.120711</td>\n",
              "      <td>-0.085141</td>\n",
              "      <td>0.014453</td>\n",
              "      <td>-0.072055</td>\n",
              "      <td>-0.136358</td>\n",
              "      <td>-0.037249</td>\n",
              "      <td>-0.162820</td>\n",
              "      <td>0.025008</td>\n",
              "      <td>0.028911</td>\n",
              "      <td>0.062292</td>\n",
              "      <td>0.093746</td>\n",
              "      <td>0.034957</td>\n",
              "      <td>-0.013994</td>\n",
              "      <td>0.124401</td>\n",
              "      <td>-0.029335</td>\n",
              "      <td>0.133115</td>\n",
              "      <td>0.150433</td>\n",
              "      <td>-0.043221</td>\n",
              "      <td>0.150350</td>\n",
              "      <td>-0.079783</td>\n",
              "    </tr>\n",
              "  </tbody>\n",
              "</table>\n",
              "<p>1591 rows × 154 columns</p>\n",
              "</div>"
            ],
            "text/plain": [
              "           Date  polarity  ...  TextCluster_SVD149  TextCluster_SVD150\n",
              "1859 2015-12-28  0.026222  ...            0.116033           -0.081394\n",
              "685  2011-04-28  0.084091  ...            0.160029            0.059312\n",
              "1972 2016-06-09  0.111211  ...            0.170175            0.087010\n",
              "1887 2016-02-08  0.045416  ...            0.065997            0.073700\n",
              "895  2012-02-28  0.145701  ...            0.093812            0.056089\n",
              "...         ...       ...  ...                 ...                 ...\n",
              "1393 2014-02-21 -0.039848  ...           -0.042163            0.045820\n",
              "1344 2013-12-10 -0.038859  ...            0.002448            0.038657\n",
              "527  2010-09-13 -0.047683  ...           -0.039713           -0.024768\n",
              "1149 2013-03-05 -0.103765  ...           -0.068107           -0.054135\n",
              "1289 2013-09-23  0.068193  ...            0.150350           -0.079783\n",
              "\n",
              "[1591 rows x 154 columns]"
            ]
          },
          "metadata": {
            "tags": []
          },
          "execution_count": 67
        }
      ]
    },
    {
      "cell_type": "code",
      "metadata": {
        "colab": {
          "base_uri": "https://localhost:8080/"
        },
        "id": "u-Tn5VngL_ye",
        "outputId": "6ea0e292-3581-4f20-f28c-2eb56b70cb99"
      },
      "source": [
        "from sklearn.neighbors import KNeighborsClassifier\r\n",
        "\r\n",
        "Knn = KNeighborsClassifier(n_neighbors=7)\r\n",
        "Knn.fit(X_train, y_train)\r\n",
        "pred_Knn = Knn.predict(X_test)\r\n",
        "print(classification_report(y_test, pred_Knn))\r\n",
        "cv = ShuffleSplit(n_splits=5, test_size=0.2, random_state=0)\r\n",
        "cross_val = cross_val_score(estimator=Knn,X=x, y=y, cv=10)\r\n",
        "print(cross_val.mean())\r\n",
        "print(Knn.score(X_test, y_test))"
      ],
      "execution_count": null,
      "outputs": [
        {
          "output_type": "stream",
          "text": [
            "              precision    recall  f1-score   support\n",
            "\n",
            "           0       0.51      0.42      0.46       185\n",
            "           1       0.56      0.66      0.61       213\n",
            "\n",
            "    accuracy                           0.55       398\n",
            "   macro avg       0.54      0.54      0.53       398\n",
            "weighted avg       0.54      0.55      0.54       398\n",
            "\n",
            "0.5460154306887975\n",
            "0.5452261306532663\n"
          ],
          "name": "stdout"
        }
      ]
    },
    {
      "cell_type": "code",
      "metadata": {
        "colab": {
          "base_uri": "https://localhost:8080/"
        },
        "id": "krmljLawNCBs",
        "outputId": "c13bd42a-7d5f-4688-c4c0-2e38105321ad"
      },
      "source": [
        "from sklearn.ensemble import RandomForestClassifier\r\n",
        "\r\n",
        "rf = RandomForestClassifier(n_estimators=1, random_state = 30)\r\n",
        "rf.fit(X_train, y_train)\r\n",
        "pred_rf = rf.predict(X_test)\r\n",
        "print(classification_report(y_test, pred_rf))\r\n",
        "cv = ShuffleSplit(n_splits=5, test_size=0.2, random_state=0)\r\n",
        "cross_val = cross_val_score(estimator=rf,X=x, y=y, cv=10)\r\n",
        "print(cross_val.mean())\r\n",
        "print(rf.score(X_test, y_test))"
      ],
      "execution_count": null,
      "outputs": [
        {
          "output_type": "stream",
          "text": [
            "              precision    recall  f1-score   support\n",
            "\n",
            "           0       0.54      0.56      0.55       185\n",
            "           1       0.60      0.58      0.59       213\n",
            "\n",
            "    accuracy                           0.57       398\n",
            "   macro avg       0.57      0.57      0.57       398\n",
            "weighted avg       0.57      0.57      0.57       398\n",
            "\n",
            "0.5314324145982438\n",
            "0.5728643216080402\n"
          ],
          "name": "stdout"
        }
      ]
    },
    {
      "cell_type": "code",
      "metadata": {
        "colab": {
          "base_uri": "https://localhost:8080/"
        },
        "id": "nw2JO3uSOhF9",
        "outputId": "4c2b232b-dee4-48ef-8618-f38cfe56ca6b"
      },
      "source": [
        "from sklearn.tree import DecisionTreeClassifier\r\n",
        "\r\n",
        "dt = DecisionTreeClassifier(max_depth=5, random_state= 2)\r\n",
        "dt.fit(X_train, y_train)\r\n",
        "pred_dt = dt.predict(X_test)\r\n",
        "print(classification_report(y_test, pred_dt))\r\n",
        "cv = ShuffleSplit(n_splits=5, test_size=0.2, random_state=0)\r\n",
        "cross_val = cross_val_score(estimator=dt,X=x, y=y, cv=10)\r\n",
        "print(cross_val.mean())\r\n",
        "print(dt.score(X_test, y_test))"
      ],
      "execution_count": null,
      "outputs": [
        {
          "output_type": "stream",
          "text": [
            "              precision    recall  f1-score   support\n",
            "\n",
            "           0       0.60      0.35      0.44       185\n",
            "           1       0.58      0.80      0.67       213\n",
            "\n",
            "    accuracy                           0.59       398\n",
            "   macro avg       0.59      0.57      0.56       398\n",
            "weighted avg       0.59      0.59      0.56       398\n",
            "\n",
            "0.5726536724024162\n",
            "0.5879396984924623\n"
          ],
          "name": "stdout"
        }
      ]
    },
    {
      "cell_type": "code",
      "metadata": {
        "colab": {
          "base_uri": "https://localhost:8080/"
        },
        "id": "nJ6a5L29Oy4_",
        "outputId": "09133164-7400-4179-b27a-1cb91fcb703a"
      },
      "source": [
        "from sklearn.linear_model import LogisticRegression\r\n",
        "\r\n",
        "lr = LogisticRegression()\r\n",
        "lr.fit(X_train, y_train) \r\n",
        "pred_lr = lr.predict(X_test)\r\n",
        "print(classification_report(y_test, pred_lr))\r\n",
        "cv = ShuffleSplit(n_splits=5, test_size=0.2, random_state=0)\r\n",
        "cross_val = cross_val_score(estimator=lr,X=x, y=y, cv=10)\r\n",
        "print(cross_val.mean())\r\n",
        "print(lr.score(X_test, y_test))"
      ],
      "execution_count": null,
      "outputs": [
        {
          "output_type": "stream",
          "text": [
            "              precision    recall  f1-score   support\n",
            "\n",
            "           0       0.62      0.54      0.58       185\n",
            "           1       0.64      0.72      0.68       213\n",
            "\n",
            "    accuracy                           0.64       398\n",
            "   macro avg       0.63      0.63      0.63       398\n",
            "weighted avg       0.63      0.64      0.63       398\n",
            "\n"
          ],
          "name": "stdout"
        },
        {
          "output_type": "stream",
          "text": [
            "/usr/local/lib/python3.6/dist-packages/sklearn/linear_model/_logistic.py:940: ConvergenceWarning: lbfgs failed to converge (status=1):\n",
            "STOP: TOTAL NO. of ITERATIONS REACHED LIMIT.\n",
            "\n",
            "Increase the number of iterations (max_iter) or scale the data as shown in:\n",
            "    https://scikit-learn.org/stable/modules/preprocessing.html\n",
            "Please also refer to the documentation for alternative solver options:\n",
            "    https://scikit-learn.org/stable/modules/linear_model.html#logistic-regression\n",
            "  extra_warning_msg=_LOGISTIC_SOLVER_CONVERGENCE_MSG)\n"
          ],
          "name": "stderr"
        },
        {
          "output_type": "stream",
          "text": [
            "0.6159078219379727\n",
            "0.635678391959799\n"
          ],
          "name": "stdout"
        }
      ]
    },
    {
      "cell_type": "code",
      "metadata": {
        "colab": {
          "base_uri": "https://localhost:8080/"
        },
        "id": "0kH-JNIMO6a1",
        "outputId": "3fb269c1-85cd-4baf-ff5e-f758078d7164"
      },
      "source": [
        "from sklearn.svm import SVC\r\n",
        "\r\n",
        "svm = SVC(gamma=0.01, C=1, kernel='rbf')\r\n",
        "svm.fit(X_train, y_train)\r\n",
        "pred_svm = svm.predict(X_test)\r\n",
        "print(classification_report(y_test, pred_svm))\r\n",
        "cv = ShuffleSplit(n_splits=5, test_size=0.2, random_state=0)\r\n",
        "cross_val = cross_val_score(estimator=svm,X=x, y=y, cv=10)\r\n",
        "print(cross_val.mean())\r\n",
        "print(svm.score(X_test, y_test))"
      ],
      "execution_count": null,
      "outputs": [
        {
          "output_type": "stream",
          "text": [
            "/usr/local/lib/python3.6/dist-packages/sklearn/metrics/_classification.py:1272: UndefinedMetricWarning: Precision and F-score are ill-defined and being set to 0.0 in labels with no predicted samples. Use `zero_division` parameter to control this behavior.\n",
            "  _warn_prf(average, modifier, msg_start, len(result))\n"
          ],
          "name": "stderr"
        },
        {
          "output_type": "stream",
          "text": [
            "              precision    recall  f1-score   support\n",
            "\n",
            "           0       0.00      0.00      0.00       185\n",
            "           1       0.54      1.00      0.70       213\n",
            "\n",
            "    accuracy                           0.54       398\n",
            "   macro avg       0.27      0.50      0.35       398\n",
            "weighted avg       0.29      0.54      0.37       398\n",
            "\n",
            "0.5309222882087203\n",
            "0.535175879396985\n"
          ],
          "name": "stdout"
        }
      ]
    },
    {
      "cell_type": "code",
      "metadata": {
        "colab": {
          "base_uri": "https://localhost:8080/"
        },
        "id": "ytlOTf1tO_7G",
        "outputId": "fa18972f-20dd-49d0-c7c2-c5908a623f81"
      },
      "source": [
        "from sklearn.ensemble import GradientBoostingClassifier\r\n",
        "\r\n",
        "gbc = GradientBoostingClassifier(n_estimators=100, learning_rate=1.0, max_depth=1, random_state=0)\r\n",
        "\r\n",
        "gbc.fit(X_train, y_train)\r\n",
        "pred_gbc = gbc.predict(X_test)\r\n",
        "print(classification_report(y_test, pred_gbc))\r\n",
        "cv = ShuffleSplit(n_splits=5, test_size=0.2, random_state=0)\r\n",
        "cross_val = cross_val_score(estimator=gbc,X=x, y=y, cv=10)\r\n",
        "print(cross_val.mean())\r\n",
        "print(gbc.score(X_test, y_test))"
      ],
      "execution_count": null,
      "outputs": [
        {
          "output_type": "stream",
          "text": [
            "              precision    recall  f1-score   support\n",
            "\n",
            "           0       0.57      0.52      0.54       185\n",
            "           1       0.61      0.65      0.63       213\n",
            "\n",
            "    accuracy                           0.59       398\n",
            "   macro avg       0.59      0.59      0.59       398\n",
            "weighted avg       0.59      0.59      0.59       398\n",
            "\n",
            "0.5877392010557839\n",
            "0.592964824120603\n"
          ],
          "name": "stdout"
        }
      ]
    },
    {
      "cell_type": "code",
      "metadata": {
        "colab": {
          "base_uri": "https://localhost:8080/"
        },
        "id": "Om3JFIrMPD0Z",
        "outputId": "26d9ea97-b59b-4b0b-e5cb-c9ceabc1cd22"
      },
      "source": [
        "import xgboost as xgb\r\n",
        "import re\r\n",
        "regex = re.compile(r\"\\[|\\]|<\", re.IGNORECASE)\r\n",
        "X_train.columns = [regex.sub(\"_\", col) if any(x in str(col) for x in set(('[', ']', '<'))) else col for col in X_train.columns.values]\r\n",
        "X_test.columns = [regex.sub(\"_\", col) if any(x in str(col) for x in set(('[', ']', '<'))) else col for col in X_test.columns.values]\r\n",
        "\r\n",
        "xg_cl = xgb.XGBClassifier(objective='binary:logistic', n_estimators=10, seed=123)\r\n",
        "xg_cl.fit(X_train, y_train)\r\n",
        "\r\n",
        "preds = xg_cl.predict(X_test) \r\n",
        "accuracy = float(np.sum(preds==y_test))/y_test.shape[0] \r\n",
        "print(classification_report(y_test, preds))\r\n",
        "cv = ShuffleSplit(n_splits=5, test_size=0.2, random_state=0)\r\n",
        "cross_val = cross_val_score(estimator=gbc,X=x, y=y, cv=10)\r\n",
        "print(cross_val.mean())\r\n",
        "print(\"accuracy: %f\" % (accuracy))"
      ],
      "execution_count": null,
      "outputs": [
        {
          "output_type": "stream",
          "text": [
            "              precision    recall  f1-score   support\n",
            "\n",
            "           0       0.58      0.33      0.42       185\n",
            "           1       0.58      0.79      0.67       213\n",
            "\n",
            "    accuracy                           0.58       398\n",
            "   macro avg       0.58      0.56      0.54       398\n",
            "weighted avg       0.58      0.58      0.55       398\n",
            "\n",
            "0.5877392010557839\n",
            "accuracy: 0.577889\n"
          ],
          "name": "stdout"
        }
      ]
    },
    {
      "cell_type": "code",
      "metadata": {
        "colab": {
          "base_uri": "https://localhost:8080/"
        },
        "id": "r5PLK9xhPIcK",
        "outputId": "54c6a884-6579-4ea5-e9bb-7087ac07947a"
      },
      "source": [
        "from sklearn.ensemble import VotingClassifier\r\n",
        "\r\n",
        "classifiers = [('Logistic Regression', lr), ('K Nearest Neighbours', Knn),('Decision Tree', dt), ('Random Forest', rf), ('SVM', svm)]\r\n",
        "\r\n",
        "for clf_name, clf in classifiers: \r\n",
        "  clf.fit(X_train, y_train)\r\n",
        "  y_pred = clf.predict(X_test)\r\n",
        "  print('{:s} : {:.3f}'.format(clf_name, accuracy_score(y_test, y_pred)))\r\n",
        "\r\n",
        "vc = VotingClassifier(estimators=classifiers)\r\n",
        "vc.fit(X_train, y_train)\r\n",
        "pred_vc = vc.predict(X_test)\r\n",
        "print(classification_report(y_test, pred_vc))\r\n",
        "cv = ShuffleSplit(n_splits=5, test_size=0.2, random_state=0)\r\n",
        "cross_val = cross_val_score(estimator=gbc,X=x, y=y, cv=10)\r\n",
        "print(cross_val.mean())\r\n",
        "print(vc.score(X_test, y_test))"
      ],
      "execution_count": null,
      "outputs": [
        {
          "output_type": "stream",
          "text": [
            "Logistic Regression : 0.636\n",
            "K Nearest Neighbours : 0.545\n",
            "Decision Tree : 0.588\n",
            "Random Forest : 0.573\n",
            "SVM : 0.535\n",
            "              precision    recall  f1-score   support\n",
            "\n",
            "           0       0.69      0.34      0.46       185\n",
            "           1       0.60      0.87      0.71       213\n",
            "\n",
            "    accuracy                           0.62       398\n",
            "   macro avg       0.65      0.60      0.58       398\n",
            "weighted avg       0.64      0.62      0.59       398\n",
            "\n",
            "0.5877392010557839\n",
            "0.6231155778894473\n"
          ],
          "name": "stdout"
        }
      ]
    },
    {
      "cell_type": "code",
      "metadata": {
        "colab": {
          "base_uri": "https://localhost:8080/",
          "height": 142
        },
        "id": "DZZmhMbxPKGz",
        "outputId": "86326037-2551-4058-e4b4-7f30a7b0f3a1"
      },
      "source": [
        "model_params = {\r\n",
        "    'svm': {\r\n",
        "        'model': SVC(gamma='auto'),\r\n",
        "        'params' : {\r\n",
        "            'C': [1,10,20],\r\n",
        "            'kernel': ['rbf','linear']\r\n",
        "        }  \r\n",
        "    },\r\n",
        "    'random_forest': {\r\n",
        "        'model': RandomForestClassifier(),\r\n",
        "        'params' : {\r\n",
        "            'n_estimators': [1,5,10,15,20,25,30,35,40,45,50]\r\n",
        "        }\r\n",
        "    },\r\n",
        "    'logistic_regression' : {\r\n",
        "        'model': LogisticRegression(solver='liblinear',multi_class='auto'),\r\n",
        "        'params': {\r\n",
        "            'C': [1,5,10]\r\n",
        "        }\r\n",
        "    }\r\n",
        "}\r\n",
        "\r\n",
        "scores = []\r\n",
        "\r\n",
        "for model_name, mp in model_params.items():\r\n",
        "    clf =  GridSearchCV(mp['model'], mp['params'], cv=5, return_train_score=False)\r\n",
        "    clf.fit(x, y)\r\n",
        "    scores.append({\r\n",
        "        'model': model_name,\r\n",
        "        'best_score': clf.best_score_,\r\n",
        "        'best_params': clf.best_params_\r\n",
        "    })\r\n",
        "    \r\n",
        "df1 = pd.DataFrame(scores,columns=['model','best_score','best_params'])\r\n",
        "df1"
      ],
      "execution_count": null,
      "outputs": [
        {
          "output_type": "execute_result",
          "data": {
            "text/html": [
              "<div>\n",
              "<style scoped>\n",
              "    .dataframe tbody tr th:only-of-type {\n",
              "        vertical-align: middle;\n",
              "    }\n",
              "\n",
              "    .dataframe tbody tr th {\n",
              "        vertical-align: top;\n",
              "    }\n",
              "\n",
              "    .dataframe thead th {\n",
              "        text-align: right;\n",
              "    }\n",
              "</style>\n",
              "<table border=\"1\" class=\"dataframe\">\n",
              "  <thead>\n",
              "    <tr style=\"text-align: right;\">\n",
              "      <th></th>\n",
              "      <th>model</th>\n",
              "      <th>best_score</th>\n",
              "      <th>best_params</th>\n",
              "    </tr>\n",
              "  </thead>\n",
              "  <tbody>\n",
              "    <tr>\n",
              "      <th>0</th>\n",
              "      <td>svm</td>\n",
              "      <td>0.603335</td>\n",
              "      <td>{'C': 10, 'kernel': 'linear'}</td>\n",
              "    </tr>\n",
              "    <tr>\n",
              "      <th>1</th>\n",
              "      <td>random_forest</td>\n",
              "      <td>0.602318</td>\n",
              "      <td>{'n_estimators': 45}</td>\n",
              "    </tr>\n",
              "    <tr>\n",
              "      <th>2</th>\n",
              "      <td>logistic_regression</td>\n",
              "      <td>0.607349</td>\n",
              "      <td>{'C': 10}</td>\n",
              "    </tr>\n",
              "  </tbody>\n",
              "</table>\n",
              "</div>"
            ],
            "text/plain": [
              "                 model  best_score                    best_params\n",
              "0                  svm    0.603335  {'C': 10, 'kernel': 'linear'}\n",
              "1        random_forest    0.602318           {'n_estimators': 45}\n",
              "2  logistic_regression    0.607349                      {'C': 10}"
            ]
          },
          "metadata": {
            "tags": []
          },
          "execution_count": 88
        }
      ]
    },
    {
      "cell_type": "markdown",
      "metadata": {
        "id": "beIs-2wLDy-r"
      },
      "source": [
        "#ML With Sentiment Scores(LTSM)"
      ]
    },
    {
      "cell_type": "code",
      "metadata": {
        "id": "5WRzOEKuX6Bg"
      },
      "source": [
        "df['sentiment_score'] = news['sentiment_score']"
      ],
      "execution_count": null,
      "outputs": []
    },
    {
      "cell_type": "code",
      "metadata": {
        "id": "0N5BSNpNYPEA"
      },
      "source": [
        "x1 = df.drop(['Label','Date', 'polarity',\t'subjectivity'], axis=1)\r\n",
        "y1 = df['Label']"
      ],
      "execution_count": null,
      "outputs": []
    },
    {
      "cell_type": "code",
      "metadata": {
        "id": "0ZIVYXQnYtTi"
      },
      "source": [
        "X_train, X_test, y_train, y_test = train_test_split(x1,y1,test_size=0.2, random_state=10)"
      ],
      "execution_count": null,
      "outputs": []
    },
    {
      "cell_type": "code",
      "metadata": {
        "colab": {
          "base_uri": "https://localhost:8080/"
        },
        "id": "qo9j9FxGX5P4",
        "outputId": "c33af4d5-b795-47b1-d970-8c541626573f"
      },
      "source": [
        "from sklearn.neighbors import KNeighborsClassifier\r\n",
        "\r\n",
        "Knn = KNeighborsClassifier(n_neighbors=8)\r\n",
        "Knn.fit(X_train, y_train)\r\n",
        "pred_Knn = Knn.predict(X_test)\r\n",
        "print(classification_report(y_test, pred_Knn))\r\n",
        "cv = ShuffleSplit(n_splits=5, test_size=0.2, random_state=0)\r\n",
        "cross_val = cross_val_score(estimator=Knn,X=x, y=y, cv=10)\r\n",
        "print(cross_val.mean())\r\n",
        "print(Knn.score(X_test, y_test))"
      ],
      "execution_count": null,
      "outputs": [
        {
          "output_type": "stream",
          "text": [
            "              precision    recall  f1-score   support\n",
            "\n",
            "           0       0.52      0.57      0.54       185\n",
            "           1       0.59      0.54      0.57       213\n",
            "\n",
            "    accuracy                           0.56       398\n",
            "   macro avg       0.56      0.56      0.55       398\n",
            "weighted avg       0.56      0.56      0.56       398\n",
            "\n",
            "0.5369600527891986\n",
            "0.5552763819095478\n"
          ],
          "name": "stdout"
        }
      ]
    },
    {
      "cell_type": "code",
      "metadata": {
        "colab": {
          "base_uri": "https://localhost:8080/"
        },
        "id": "RcAfzbbHZLNg",
        "outputId": "f9f36fe0-59f0-4a58-a19d-cabd561b5e12"
      },
      "source": [
        "from sklearn.ensemble import RandomForestClassifier\r\n",
        "\r\n",
        "rf = RandomForestClassifier(n_estimators=35, random_state = 30)\r\n",
        "rf.fit(X_train, y_train)\r\n",
        "pred_rf = rf.predict(X_test)\r\n",
        "print(classification_report(y_test, pred_rf))\r\n",
        "cv = ShuffleSplit(n_splits=5, test_size=0.2, random_state=0)\r\n",
        "cross_val = cross_val_score(estimator=rf,X=x, y=y, cv=10)\r\n",
        "print(cross_val.mean())\r\n",
        "print(rf.score(X_test, y_test))"
      ],
      "execution_count": null,
      "outputs": [
        {
          "output_type": "stream",
          "text": [
            "              precision    recall  f1-score   support\n",
            "\n",
            "           0       0.59      0.51      0.55       185\n",
            "           1       0.62      0.69      0.65       213\n",
            "\n",
            "    accuracy                           0.61       398\n",
            "   macro avg       0.61      0.60      0.60       398\n",
            "weighted avg       0.61      0.61      0.60       398\n",
            "\n",
            "0.5736764631236992\n",
            "0.6080402010050251\n"
          ],
          "name": "stdout"
        }
      ]
    },
    {
      "cell_type": "code",
      "metadata": {
        "id": "wI2KO4zGZhGQ"
      },
      "source": [
        "from sklearn.tree import DecisionTreeClassifier\r\n",
        "\r\n",
        "dt = DecisionTreeClassifier(max_depth=5, random_state= 2)\r\n",
        "dt.fit(X_train, y_train)\r\n",
        "pred_dt = dt.predict(X_test)\r\n",
        "print(classification_report(y_test, pred_dt))\r\n",
        "cv = ShuffleSplit(n_splits=5, test_size=0.2, random_state=0)\r\n",
        "cross_val = cross_val_score(estimator=dt,X=x, y=y, cv=10)\r\n",
        "print(cross_val.mean())\r\n",
        "print(dt.score(X_test, y_test))"
      ],
      "execution_count": null,
      "outputs": []
    },
    {
      "cell_type": "code",
      "metadata": {
        "colab": {
          "base_uri": "https://localhost:8080/"
        },
        "id": "v1a6HA5ca2SP",
        "outputId": "bf511e07-2142-455a-86b4-186f6e88de2f"
      },
      "source": [
        "from sklearn.linear_model import LogisticRegression\r\n",
        "\r\n",
        "lr = LogisticRegression()\r\n",
        "lr.fit(X_train, y_train) \r\n",
        "pred_lr = lr.predict(X_test)\r\n",
        "print(classification_report(y_test, pred_lr))\r\n",
        "cv = ShuffleSplit(n_splits=5, test_size=0.2, random_state=0)\r\n",
        "cross_val = cross_val_score(estimator=lr,X=x, y=y, cv=10)\r\n",
        "print(cross_val.mean())\r\n",
        "print(lr.score(X_test, y_test))"
      ],
      "execution_count": null,
      "outputs": [
        {
          "output_type": "stream",
          "text": [
            "              precision    recall  f1-score   support\n",
            "\n",
            "           0       0.62      0.53      0.57       185\n",
            "           1       0.64      0.72      0.68       213\n",
            "\n",
            "    accuracy                           0.63       398\n",
            "   macro avg       0.63      0.62      0.62       398\n",
            "weighted avg       0.63      0.63      0.63       398\n",
            "\n",
            "0.6159078219379727\n",
            "0.6306532663316583\n"
          ],
          "name": "stdout"
        },
        {
          "output_type": "stream",
          "text": [
            "/usr/local/lib/python3.6/dist-packages/sklearn/linear_model/_logistic.py:940: ConvergenceWarning: lbfgs failed to converge (status=1):\n",
            "STOP: TOTAL NO. of ITERATIONS REACHED LIMIT.\n",
            "\n",
            "Increase the number of iterations (max_iter) or scale the data as shown in:\n",
            "    https://scikit-learn.org/stable/modules/preprocessing.html\n",
            "Please also refer to the documentation for alternative solver options:\n",
            "    https://scikit-learn.org/stable/modules/linear_model.html#logistic-regression\n",
            "  extra_warning_msg=_LOGISTIC_SOLVER_CONVERGENCE_MSG)\n"
          ],
          "name": "stderr"
        }
      ]
    },
    {
      "cell_type": "code",
      "metadata": {
        "colab": {
          "base_uri": "https://localhost:8080/"
        },
        "id": "bp-iL681ZhJL",
        "outputId": "dfb0661f-e33e-4c83-82a1-6bb9498af6b4"
      },
      "source": [
        "from sklearn.svm import SVC\r\n",
        "\r\n",
        "svm = SVC(gamma=0.01, C=1, kernel='rbf')\r\n",
        "svm.fit(X_train, y_train)\r\n",
        "pred_svm = svm.predict(X_test)\r\n",
        "print(classification_report(y_test, pred_svm))\r\n",
        "cv = ShuffleSplit(n_splits=5, test_size=0.2, random_state=0)\r\n",
        "cross_val = cross_val_score(estimator=svm,X=x, y=y, cv=10)\r\n",
        "print(cross_val.mean())\r\n",
        "print(svm.score(X_test, y_test))"
      ],
      "execution_count": null,
      "outputs": [
        {
          "output_type": "stream",
          "text": [
            "/usr/local/lib/python3.6/dist-packages/sklearn/metrics/_classification.py:1272: UndefinedMetricWarning: Precision and F-score are ill-defined and being set to 0.0 in labels with no predicted samples. Use `zero_division` parameter to control this behavior.\n",
            "  _warn_prf(average, modifier, msg_start, len(result))\n"
          ],
          "name": "stderr"
        },
        {
          "output_type": "stream",
          "text": [
            "              precision    recall  f1-score   support\n",
            "\n",
            "           0       0.00      0.00      0.00       185\n",
            "           1       0.54      1.00      0.70       213\n",
            "\n",
            "    accuracy                           0.54       398\n",
            "   macro avg       0.27      0.50      0.35       398\n",
            "weighted avg       0.29      0.54      0.37       398\n",
            "\n",
            "0.5309222882087203\n",
            "0.535175879396985\n"
          ],
          "name": "stdout"
        }
      ]
    },
    {
      "cell_type": "code",
      "metadata": {
        "colab": {
          "base_uri": "https://localhost:8080/"
        },
        "id": "EnHuR3shZhM_",
        "outputId": "3c2aec32-ad8f-4733-993b-f9df7ca230ed"
      },
      "source": [
        "from sklearn.ensemble import GradientBoostingClassifier\r\n",
        "\r\n",
        "gbc = GradientBoostingClassifier(n_estimators=100, learning_rate=1.0, max_depth=1, random_state=0)\r\n",
        "\r\n",
        "gbc.fit(X_train, y_train)\r\n",
        "pred_gbc = gbc.predict(X_test)\r\n",
        "print(classification_report(y_test, pred_gbc))\r\n",
        "cv = ShuffleSplit(n_splits=5, test_size=0.2, random_state=0)\r\n",
        "cross_val = cross_val_score(estimator=gbc,X=x, y=y, cv=10)\r\n",
        "print(cross_val.mean())\r\n",
        "print(gbc.score(X_test, y_test))"
      ],
      "execution_count": null,
      "outputs": [
        {
          "output_type": "stream",
          "text": [
            "              precision    recall  f1-score   support\n",
            "\n",
            "           0       0.58      0.55      0.57       185\n",
            "           1       0.63      0.66      0.64       213\n",
            "\n",
            "    accuracy                           0.61       398\n",
            "   macro avg       0.61      0.60      0.60       398\n",
            "weighted avg       0.61      0.61      0.61       398\n",
            "\n",
            "0.5877392010557839\n",
            "0.6080402010050251\n"
          ],
          "name": "stdout"
        }
      ]
    },
    {
      "cell_type": "code",
      "metadata": {
        "colab": {
          "base_uri": "https://localhost:8080/"
        },
        "id": "Q4J-04JMZhR7",
        "outputId": "0c4043cd-b900-4832-a458-5b0a15b93540"
      },
      "source": [
        "import xgboost as xgb\r\n",
        "import re\r\n",
        "regex = re.compile(r\"\\[|\\]|<\", re.IGNORECASE)\r\n",
        "X_train.columns = [regex.sub(\"_\", col) if any(x in str(col) for x in set(('[', ']', '<'))) else col for col in X_train.columns.values]\r\n",
        "X_test.columns = [regex.sub(\"_\", col) if any(x in str(col) for x in set(('[', ']', '<'))) else col for col in X_test.columns.values]\r\n",
        "\r\n",
        "xg_cl = xgb.XGBClassifier(objective='binary:logistic', n_estimators=10, seed=123)\r\n",
        "xg_cl.fit(X_train, y_train)\r\n",
        "\r\n",
        "preds = xg_cl.predict(X_test) \r\n",
        "accuracy = float(np.sum(preds==y_test))/y_test.shape[0] \r\n",
        "print(classification_report(y_test, preds))\r\n",
        "cv = ShuffleSplit(n_splits=5, test_size=0.2, random_state=0)\r\n",
        "cross_val = cross_val_score(estimator=gbc,X=x, y=y, cv=10)\r\n",
        "print(cross_val.mean())\r\n",
        "print(\"accuracy: %f\" % (accuracy))"
      ],
      "execution_count": null,
      "outputs": [
        {
          "output_type": "stream",
          "text": [
            "              precision    recall  f1-score   support\n",
            "\n",
            "           0       0.57      0.34      0.42       185\n",
            "           1       0.58      0.78      0.66       213\n",
            "\n",
            "    accuracy                           0.58       398\n",
            "   macro avg       0.57      0.56      0.54       398\n",
            "weighted avg       0.58      0.58      0.55       398\n",
            "\n",
            "0.5877392010557839\n",
            "accuracy: 0.575377\n"
          ],
          "name": "stdout"
        }
      ]
    },
    {
      "cell_type": "code",
      "metadata": {
        "colab": {
          "base_uri": "https://localhost:8080/"
        },
        "id": "NMRY7MPxbNzx",
        "outputId": "ffc2a369-fc87-46fa-bfed-b8e21923ac78"
      },
      "source": [
        "from sklearn.ensemble import VotingClassifier\r\n",
        "\r\n",
        "classifiers = [('Logistic Regression', lr), ('K Nearest Neighbours', Knn),('Decision Tree', dt), ('Random Forest', rf), ('SVM', svm)]\r\n",
        "\r\n",
        "for clf_name, clf in classifiers: \r\n",
        "  clf.fit(X_train, y_train)\r\n",
        "  y_pred = clf.predict(X_test)\r\n",
        "  print('{:s} : {:.3f}'.format(clf_name, accuracy_score(y_test, y_pred)))\r\n",
        "\r\n",
        "vc = VotingClassifier(estimators=classifiers)\r\n",
        "vc.fit(X_train, y_train)\r\n",
        "pred_vc = vc.predict(X_test)\r\n",
        "print(classification_report(y_test, pred_vc))\r\n",
        "cv = ShuffleSplit(n_splits=5, test_size=0.2, random_state=0)\r\n",
        "cross_val = cross_val_score(estimator=gbc,X=x, y=y, cv=10)\r\n",
        "print(cross_val.mean())\r\n",
        "print(vc.score(X_test, y_test))"
      ],
      "execution_count": null,
      "outputs": [
        {
          "output_type": "stream",
          "text": [
            "Logistic Regression : 0.631\n",
            "K Nearest Neighbours : 0.590\n",
            "Decision Tree : 0.568\n",
            "Random Forest : 0.595\n",
            "SVM : 0.535\n",
            "              precision    recall  f1-score   support\n",
            "\n",
            "           0       0.68      0.38      0.49       185\n",
            "           1       0.61      0.85      0.71       213\n",
            "\n",
            "    accuracy                           0.63       398\n",
            "   macro avg       0.64      0.61      0.60       398\n",
            "weighted avg       0.64      0.63      0.61       398\n",
            "\n",
            "0.5877392010557839\n",
            "0.628140703517588\n"
          ],
          "name": "stdout"
        }
      ]
    },
    {
      "cell_type": "code",
      "metadata": {
        "colab": {
          "base_uri": "https://localhost:8080/",
          "height": 142
        },
        "id": "78nbGoIYbRXv",
        "outputId": "a8cd3dbc-42ad-449a-e0f3-91070a726744"
      },
      "source": [
        "model_params = {\r\n",
        "    'svm': {\r\n",
        "        'model': SVC(gamma='auto'),\r\n",
        "        'params' : {\r\n",
        "            'C': [1,10,20],\r\n",
        "            'kernel': ['rbf','linear']\r\n",
        "        }  \r\n",
        "    },\r\n",
        "    'random_forest': {\r\n",
        "        'model': RandomForestClassifier(),\r\n",
        "        'params' : {\r\n",
        "            'n_estimators': [1,5,10,15,20,25,30,35,40,45,50]\r\n",
        "        }\r\n",
        "    },\r\n",
        "    'logistic_regression' : {\r\n",
        "        'model': LogisticRegression(solver='liblinear',multi_class='auto'),\r\n",
        "        'params': {\r\n",
        "            'C': [1,5,10]\r\n",
        "        }\r\n",
        "    }\r\n",
        "}\r\n",
        "\r\n",
        "scores = []\r\n",
        "\r\n",
        "for model_name, mp in model_params.items():\r\n",
        "    clf =  GridSearchCV(mp['model'], mp['params'], cv=5, return_train_score=False)\r\n",
        "    clf.fit(x, y)\r\n",
        "    scores.append({\r\n",
        "        'model': model_name,\r\n",
        "        'best_score': clf.best_score_,\r\n",
        "        'best_params': clf.best_params_\r\n",
        "    })\r\n",
        "    \r\n",
        "df2 = pd.DataFrame(scores,columns=['model','best_score','best_params'])\r\n",
        "df2"
      ],
      "execution_count": null,
      "outputs": [
        {
          "output_type": "execute_result",
          "data": {
            "text/html": [
              "<div>\n",
              "<style scoped>\n",
              "    .dataframe tbody tr th:only-of-type {\n",
              "        vertical-align: middle;\n",
              "    }\n",
              "\n",
              "    .dataframe tbody tr th {\n",
              "        vertical-align: top;\n",
              "    }\n",
              "\n",
              "    .dataframe thead th {\n",
              "        text-align: right;\n",
              "    }\n",
              "</style>\n",
              "<table border=\"1\" class=\"dataframe\">\n",
              "  <thead>\n",
              "    <tr style=\"text-align: right;\">\n",
              "      <th></th>\n",
              "      <th>model</th>\n",
              "      <th>best_score</th>\n",
              "      <th>best_params</th>\n",
              "    </tr>\n",
              "  </thead>\n",
              "  <tbody>\n",
              "    <tr>\n",
              "      <th>0</th>\n",
              "      <td>svm</td>\n",
              "      <td>0.603335</td>\n",
              "      <td>{'C': 10, 'kernel': 'linear'}</td>\n",
              "    </tr>\n",
              "    <tr>\n",
              "      <th>1</th>\n",
              "      <td>random_forest</td>\n",
              "      <td>0.602302</td>\n",
              "      <td>{'n_estimators': 45}</td>\n",
              "    </tr>\n",
              "    <tr>\n",
              "      <th>2</th>\n",
              "      <td>logistic_regression</td>\n",
              "      <td>0.607349</td>\n",
              "      <td>{'C': 10}</td>\n",
              "    </tr>\n",
              "  </tbody>\n",
              "</table>\n",
              "</div>"
            ],
            "text/plain": [
              "                 model  best_score                    best_params\n",
              "0                  svm    0.603335  {'C': 10, 'kernel': 'linear'}\n",
              "1        random_forest    0.602302           {'n_estimators': 45}\n",
              "2  logistic_regression    0.607349                      {'C': 10}"
            ]
          },
          "metadata": {
            "tags": []
          },
          "execution_count": 103
        }
      ]
    },
    {
      "cell_type": "code",
      "metadata": {
        "id": "OWd79fLOX6Fa"
      },
      "source": [
        ""
      ],
      "execution_count": null,
      "outputs": []
    }
  ]
}