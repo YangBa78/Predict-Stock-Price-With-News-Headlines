{
  "nbformat": 4,
  "nbformat_minor": 0,
  "metadata": {
    "colab": {
      "name": "Sentiment Scores+ DL.ipynb",
      "provenance": []
    },
    "kernelspec": {
      "name": "python3",
      "display_name": "Python 3"
    }
  },
  "cells": [
    {
      "cell_type": "code",
      "metadata": {
        "id": "E-PUZJBnukv2"
      },
      "source": [
        "import pandas as pd\r\n",
        "import numpy as np\r\n",
        "import re\r\n",
        "import nltk\r\n",
        "from nltk.corpus import stopwords\r\n",
        "\r\n",
        "from numpy import array\r\n",
        "from keras.preprocessing.text import one_hot\r\n",
        "from keras.preprocessing.sequence import pad_sequences\r\n",
        "from keras.models import Sequential\r\n",
        "from keras.layers.core import Activation, Dropout, Dense\r\n",
        "from keras.layers import Flatten\r\n",
        "from keras.layers import GlobalMaxPooling1D\r\n",
        "from keras.layers.convolutional import Conv1D\r\n",
        "from keras.layers.recurrent import LSTM\r\n",
        "from keras.layers.embeddings import Embedding\r\n",
        "from sklearn.model_selection import train_test_split\r\n",
        "from keras.preprocessing.text import Tokenizer\r\n",
        "import matplotlib.pyplot as plt"
      ],
      "execution_count": 1,
      "outputs": []
    },
    {
      "cell_type": "markdown",
      "metadata": {
        "id": "ggvuXXYTWGR6"
      },
      "source": [
        "# Load Data"
      ]
    },
    {
      "cell_type": "code",
      "metadata": {
        "colab": {
          "base_uri": "https://localhost:8080/"
        },
        "id": "6uGAWMERuxLG",
        "outputId": "c1218303-31b8-42a3-c66f-6017c7aff7ca"
      },
      "source": [
        "from google.colab import drive\r\n",
        "drive.mount('/content/drive')"
      ],
      "execution_count": 2,
      "outputs": [
        {
          "output_type": "stream",
          "text": [
            "Mounted at /content/drive\n"
          ],
          "name": "stdout"
        }
      ]
    },
    {
      "cell_type": "code",
      "metadata": {
        "colab": {
          "base_uri": "https://localhost:8080/"
        },
        "id": "H0Gg05wiu2rf",
        "outputId": "af976d06-263c-4f21-c20a-4b8408aa241d"
      },
      "source": [
        "df = pd.read_excel(\"drive/My Drive/Colab Notebooks/data/Data_ML.xlsx\")\r\n",
        "\r\n",
        "print(df.isnull().values.any())\r\n",
        "\r\n",
        "print(df.shape)"
      ],
      "execution_count": 3,
      "outputs": [
        {
          "output_type": "stream",
          "text": [
            "False\n",
            "(1989, 154)\n"
          ],
          "name": "stdout"
        }
      ]
    },
    {
      "cell_type": "code",
      "metadata": {
        "id": "xvBZhlllu-u6"
      },
      "source": [
        "df = df.drop('Date',axis=1)"
      ],
      "execution_count": 4,
      "outputs": []
    },
    {
      "cell_type": "code",
      "metadata": {
        "colab": {
          "base_uri": "https://localhost:8080/"
        },
        "id": "AxMg-J55vFCc",
        "outputId": "796ee8a6-cfe2-4616-9fb1-fb3896ff8c18"
      },
      "source": [
        "df.shape"
      ],
      "execution_count": null,
      "outputs": [
        {
          "output_type": "execute_result",
          "data": {
            "text/plain": [
              "(1989, 153)"
            ]
          },
          "metadata": {
            "tags": []
          },
          "execution_count": 10
        }
      ]
    },
    {
      "cell_type": "code",
      "metadata": {
        "colab": {
          "base_uri": "https://localhost:8080/",
          "height": 253
        },
        "id": "zeadl_XnvHyK",
        "outputId": "3ee577f7-22d8-4f6d-be3f-3d61ce0c2c5c"
      },
      "source": [
        "df.head()"
      ],
      "execution_count": 5,
      "outputs": [
        {
          "output_type": "execute_result",
          "data": {
            "text/html": [
              "<div>\n",
              "<style scoped>\n",
              "    .dataframe tbody tr th:only-of-type {\n",
              "        vertical-align: middle;\n",
              "    }\n",
              "\n",
              "    .dataframe tbody tr th {\n",
              "        vertical-align: top;\n",
              "    }\n",
              "\n",
              "    .dataframe thead th {\n",
              "        text-align: right;\n",
              "    }\n",
              "</style>\n",
              "<table border=\"1\" class=\"dataframe\">\n",
              "  <thead>\n",
              "    <tr style=\"text-align: right;\">\n",
              "      <th></th>\n",
              "      <th>Label</th>\n",
              "      <th>sentiment_score</th>\n",
              "      <th>Topic</th>\n",
              "      <th>TextCluster_SVD1</th>\n",
              "      <th>TextCluster_SVD2</th>\n",
              "      <th>TextCluster_SVD3</th>\n",
              "      <th>TextCluster_SVD4</th>\n",
              "      <th>TextCluster_SVD5</th>\n",
              "      <th>TextCluster_SVD6</th>\n",
              "      <th>TextCluster_SVD7</th>\n",
              "      <th>TextCluster_SVD8</th>\n",
              "      <th>TextCluster_SVD9</th>\n",
              "      <th>TextCluster_SVD10</th>\n",
              "      <th>TextCluster_SVD11</th>\n",
              "      <th>TextCluster_SVD12</th>\n",
              "      <th>TextCluster_SVD13</th>\n",
              "      <th>TextCluster_SVD14</th>\n",
              "      <th>TextCluster_SVD15</th>\n",
              "      <th>TextCluster_SVD16</th>\n",
              "      <th>TextCluster_SVD17</th>\n",
              "      <th>TextCluster_SVD18</th>\n",
              "      <th>TextCluster_SVD19</th>\n",
              "      <th>TextCluster_SVD20</th>\n",
              "      <th>TextCluster_SVD21</th>\n",
              "      <th>TextCluster_SVD22</th>\n",
              "      <th>TextCluster_SVD23</th>\n",
              "      <th>TextCluster_SVD24</th>\n",
              "      <th>TextCluster_SVD25</th>\n",
              "      <th>TextCluster_SVD26</th>\n",
              "      <th>TextCluster_SVD27</th>\n",
              "      <th>TextCluster_SVD28</th>\n",
              "      <th>TextCluster_SVD29</th>\n",
              "      <th>TextCluster_SVD30</th>\n",
              "      <th>TextCluster_SVD31</th>\n",
              "      <th>TextCluster_SVD32</th>\n",
              "      <th>TextCluster_SVD33</th>\n",
              "      <th>TextCluster_SVD34</th>\n",
              "      <th>TextCluster_SVD35</th>\n",
              "      <th>TextCluster_SVD36</th>\n",
              "      <th>TextCluster_SVD37</th>\n",
              "      <th>...</th>\n",
              "      <th>TextCluster_SVD111</th>\n",
              "      <th>TextCluster_SVD112</th>\n",
              "      <th>TextCluster_SVD113</th>\n",
              "      <th>TextCluster_SVD114</th>\n",
              "      <th>TextCluster_SVD115</th>\n",
              "      <th>TextCluster_SVD116</th>\n",
              "      <th>TextCluster_SVD117</th>\n",
              "      <th>TextCluster_SVD118</th>\n",
              "      <th>TextCluster_SVD119</th>\n",
              "      <th>TextCluster_SVD120</th>\n",
              "      <th>TextCluster_SVD121</th>\n",
              "      <th>TextCluster_SVD122</th>\n",
              "      <th>TextCluster_SVD123</th>\n",
              "      <th>TextCluster_SVD124</th>\n",
              "      <th>TextCluster_SVD125</th>\n",
              "      <th>TextCluster_SVD126</th>\n",
              "      <th>TextCluster_SVD127</th>\n",
              "      <th>TextCluster_SVD128</th>\n",
              "      <th>TextCluster_SVD129</th>\n",
              "      <th>TextCluster_SVD130</th>\n",
              "      <th>TextCluster_SVD131</th>\n",
              "      <th>TextCluster_SVD132</th>\n",
              "      <th>TextCluster_SVD133</th>\n",
              "      <th>TextCluster_SVD134</th>\n",
              "      <th>TextCluster_SVD135</th>\n",
              "      <th>TextCluster_SVD136</th>\n",
              "      <th>TextCluster_SVD137</th>\n",
              "      <th>TextCluster_SVD138</th>\n",
              "      <th>TextCluster_SVD139</th>\n",
              "      <th>TextCluster_SVD140</th>\n",
              "      <th>TextCluster_SVD141</th>\n",
              "      <th>TextCluster_SVD142</th>\n",
              "      <th>TextCluster_SVD143</th>\n",
              "      <th>TextCluster_SVD144</th>\n",
              "      <th>TextCluster_SVD145</th>\n",
              "      <th>TextCluster_SVD146</th>\n",
              "      <th>TextCluster_SVD147</th>\n",
              "      <th>TextCluster_SVD148</th>\n",
              "      <th>TextCluster_SVD149</th>\n",
              "      <th>TextCluster_SVD150</th>\n",
              "    </tr>\n",
              "  </thead>\n",
              "  <tbody>\n",
              "    <tr>\n",
              "      <th>0</th>\n",
              "      <td>0</td>\n",
              "      <td>0.708408</td>\n",
              "      <td>18</td>\n",
              "      <td>0.070340</td>\n",
              "      <td>-0.053418</td>\n",
              "      <td>0.007628</td>\n",
              "      <td>-0.039590</td>\n",
              "      <td>0.013758</td>\n",
              "      <td>-0.006961</td>\n",
              "      <td>0.003005</td>\n",
              "      <td>-0.009582</td>\n",
              "      <td>0.004257</td>\n",
              "      <td>-0.035629</td>\n",
              "      <td>0.053125</td>\n",
              "      <td>-0.042869</td>\n",
              "      <td>0.056493</td>\n",
              "      <td>-0.045300</td>\n",
              "      <td>0.064174</td>\n",
              "      <td>-0.043070</td>\n",
              "      <td>0.009018</td>\n",
              "      <td>-0.088200</td>\n",
              "      <td>0.029373</td>\n",
              "      <td>-0.060276</td>\n",
              "      <td>0.026729</td>\n",
              "      <td>-0.054988</td>\n",
              "      <td>0.064938</td>\n",
              "      <td>-0.041884</td>\n",
              "      <td>0.037314</td>\n",
              "      <td>-0.049207</td>\n",
              "      <td>0.036609</td>\n",
              "      <td>-0.052739</td>\n",
              "      <td>0.007796</td>\n",
              "      <td>-0.004014</td>\n",
              "      <td>0.046403</td>\n",
              "      <td>-0.029370</td>\n",
              "      <td>0.006170</td>\n",
              "      <td>-0.001426</td>\n",
              "      <td>0.042902</td>\n",
              "      <td>-0.013185</td>\n",
              "      <td>0.087331</td>\n",
              "      <td>...</td>\n",
              "      <td>0.101724</td>\n",
              "      <td>-0.079988</td>\n",
              "      <td>0.021861</td>\n",
              "      <td>-0.226352</td>\n",
              "      <td>0.082787</td>\n",
              "      <td>-0.038550</td>\n",
              "      <td>0.065302</td>\n",
              "      <td>-0.110700</td>\n",
              "      <td>0.072415</td>\n",
              "      <td>-0.135987</td>\n",
              "      <td>0.092684</td>\n",
              "      <td>-0.043056</td>\n",
              "      <td>0.126786</td>\n",
              "      <td>-0.071721</td>\n",
              "      <td>0.243436</td>\n",
              "      <td>-0.006753</td>\n",
              "      <td>0.000322</td>\n",
              "      <td>-0.080022</td>\n",
              "      <td>0.010144</td>\n",
              "      <td>-0.066310</td>\n",
              "      <td>0.363848</td>\n",
              "      <td>-0.097505</td>\n",
              "      <td>0.206657</td>\n",
              "      <td>-0.095168</td>\n",
              "      <td>0.004715</td>\n",
              "      <td>-0.104697</td>\n",
              "      <td>0.100755</td>\n",
              "      <td>-0.074710</td>\n",
              "      <td>0.015919</td>\n",
              "      <td>-0.050645</td>\n",
              "      <td>0.116522</td>\n",
              "      <td>-0.017147</td>\n",
              "      <td>0.039564</td>\n",
              "      <td>-0.061400</td>\n",
              "      <td>0.047492</td>\n",
              "      <td>-0.122964</td>\n",
              "      <td>0.051517</td>\n",
              "      <td>-0.151404</td>\n",
              "      <td>0.119570</td>\n",
              "      <td>-0.008954</td>\n",
              "    </tr>\n",
              "    <tr>\n",
              "      <th>1</th>\n",
              "      <td>1</td>\n",
              "      <td>0.982830</td>\n",
              "      <td>12</td>\n",
              "      <td>0.051980</td>\n",
              "      <td>-0.058078</td>\n",
              "      <td>-0.015400</td>\n",
              "      <td>-0.007448</td>\n",
              "      <td>0.046362</td>\n",
              "      <td>0.002541</td>\n",
              "      <td>-0.087866</td>\n",
              "      <td>0.085167</td>\n",
              "      <td>-0.003734</td>\n",
              "      <td>-0.008321</td>\n",
              "      <td>-0.028623</td>\n",
              "      <td>0.040409</td>\n",
              "      <td>-0.004584</td>\n",
              "      <td>-0.000692</td>\n",
              "      <td>-0.002099</td>\n",
              "      <td>-0.024974</td>\n",
              "      <td>0.045334</td>\n",
              "      <td>0.036934</td>\n",
              "      <td>0.021652</td>\n",
              "      <td>0.068953</td>\n",
              "      <td>0.013503</td>\n",
              "      <td>0.053537</td>\n",
              "      <td>-0.094969</td>\n",
              "      <td>-0.001640</td>\n",
              "      <td>0.003632</td>\n",
              "      <td>-0.040337</td>\n",
              "      <td>-0.006653</td>\n",
              "      <td>-0.018416</td>\n",
              "      <td>0.031414</td>\n",
              "      <td>-0.000114</td>\n",
              "      <td>0.004470</td>\n",
              "      <td>-0.005188</td>\n",
              "      <td>0.112886</td>\n",
              "      <td>-0.025753</td>\n",
              "      <td>-0.056319</td>\n",
              "      <td>-0.031808</td>\n",
              "      <td>-0.012579</td>\n",
              "      <td>...</td>\n",
              "      <td>-0.093461</td>\n",
              "      <td>-0.068544</td>\n",
              "      <td>0.034504</td>\n",
              "      <td>-0.028307</td>\n",
              "      <td>-0.095676</td>\n",
              "      <td>0.104153</td>\n",
              "      <td>-0.095475</td>\n",
              "      <td>-0.020406</td>\n",
              "      <td>-0.054456</td>\n",
              "      <td>0.076732</td>\n",
              "      <td>-0.087010</td>\n",
              "      <td>-0.090862</td>\n",
              "      <td>-0.043874</td>\n",
              "      <td>-0.017090</td>\n",
              "      <td>0.012035</td>\n",
              "      <td>0.090027</td>\n",
              "      <td>0.024193</td>\n",
              "      <td>-0.079964</td>\n",
              "      <td>0.101046</td>\n",
              "      <td>-0.015903</td>\n",
              "      <td>-0.136454</td>\n",
              "      <td>-0.087935</td>\n",
              "      <td>-0.034662</td>\n",
              "      <td>0.011328</td>\n",
              "      <td>0.043837</td>\n",
              "      <td>-0.163852</td>\n",
              "      <td>0.052653</td>\n",
              "      <td>0.016805</td>\n",
              "      <td>-0.126830</td>\n",
              "      <td>0.051297</td>\n",
              "      <td>0.195758</td>\n",
              "      <td>-0.130426</td>\n",
              "      <td>0.034301</td>\n",
              "      <td>-0.017566</td>\n",
              "      <td>-0.027512</td>\n",
              "      <td>-0.005659</td>\n",
              "      <td>0.008784</td>\n",
              "      <td>-0.060372</td>\n",
              "      <td>0.034575</td>\n",
              "      <td>0.116155</td>\n",
              "    </tr>\n",
              "    <tr>\n",
              "      <th>2</th>\n",
              "      <td>0</td>\n",
              "      <td>0.935311</td>\n",
              "      <td>12</td>\n",
              "      <td>0.189981</td>\n",
              "      <td>-0.047806</td>\n",
              "      <td>0.068441</td>\n",
              "      <td>-0.014393</td>\n",
              "      <td>-0.006442</td>\n",
              "      <td>-0.066779</td>\n",
              "      <td>-0.037231</td>\n",
              "      <td>-0.009753</td>\n",
              "      <td>0.035989</td>\n",
              "      <td>-0.205988</td>\n",
              "      <td>0.049160</td>\n",
              "      <td>0.169126</td>\n",
              "      <td>0.065916</td>\n",
              "      <td>-0.004228</td>\n",
              "      <td>-0.018234</td>\n",
              "      <td>-0.081065</td>\n",
              "      <td>-0.006108</td>\n",
              "      <td>-0.037406</td>\n",
              "      <td>-0.086733</td>\n",
              "      <td>-0.015370</td>\n",
              "      <td>-0.040718</td>\n",
              "      <td>-0.031523</td>\n",
              "      <td>-0.048353</td>\n",
              "      <td>0.040183</td>\n",
              "      <td>0.096255</td>\n",
              "      <td>-0.021080</td>\n",
              "      <td>0.008966</td>\n",
              "      <td>-0.014644</td>\n",
              "      <td>-0.067264</td>\n",
              "      <td>-0.025443</td>\n",
              "      <td>0.009030</td>\n",
              "      <td>-0.051706</td>\n",
              "      <td>0.070022</td>\n",
              "      <td>0.048911</td>\n",
              "      <td>-0.006165</td>\n",
              "      <td>0.111213</td>\n",
              "      <td>0.110574</td>\n",
              "      <td>...</td>\n",
              "      <td>0.104727</td>\n",
              "      <td>-0.061049</td>\n",
              "      <td>-0.013598</td>\n",
              "      <td>-0.042812</td>\n",
              "      <td>-0.122341</td>\n",
              "      <td>-0.083730</td>\n",
              "      <td>-0.091760</td>\n",
              "      <td>-0.042137</td>\n",
              "      <td>0.051752</td>\n",
              "      <td>-0.001305</td>\n",
              "      <td>0.055347</td>\n",
              "      <td>-0.020711</td>\n",
              "      <td>0.100515</td>\n",
              "      <td>-0.045093</td>\n",
              "      <td>-0.132599</td>\n",
              "      <td>0.084397</td>\n",
              "      <td>0.060316</td>\n",
              "      <td>-0.027973</td>\n",
              "      <td>-0.049351</td>\n",
              "      <td>0.163951</td>\n",
              "      <td>0.083682</td>\n",
              "      <td>-0.118854</td>\n",
              "      <td>-0.036862</td>\n",
              "      <td>-0.109198</td>\n",
              "      <td>0.034062</td>\n",
              "      <td>-0.047079</td>\n",
              "      <td>-0.051648</td>\n",
              "      <td>0.139000</td>\n",
              "      <td>-0.036143</td>\n",
              "      <td>-0.037677</td>\n",
              "      <td>-0.017577</td>\n",
              "      <td>0.127634</td>\n",
              "      <td>-0.116772</td>\n",
              "      <td>-0.006697</td>\n",
              "      <td>-0.100506</td>\n",
              "      <td>0.192060</td>\n",
              "      <td>-0.014918</td>\n",
              "      <td>-0.090984</td>\n",
              "      <td>-0.045369</td>\n",
              "      <td>0.048514</td>\n",
              "    </tr>\n",
              "    <tr>\n",
              "      <th>3</th>\n",
              "      <td>0</td>\n",
              "      <td>0.721639</td>\n",
              "      <td>12</td>\n",
              "      <td>0.024444</td>\n",
              "      <td>-0.021404</td>\n",
              "      <td>-0.011992</td>\n",
              "      <td>-0.000998</td>\n",
              "      <td>-0.006536</td>\n",
              "      <td>-0.001816</td>\n",
              "      <td>0.003279</td>\n",
              "      <td>-0.001552</td>\n",
              "      <td>0.007169</td>\n",
              "      <td>-0.028825</td>\n",
              "      <td>0.007590</td>\n",
              "      <td>-0.007292</td>\n",
              "      <td>0.017969</td>\n",
              "      <td>-0.006556</td>\n",
              "      <td>-0.011123</td>\n",
              "      <td>-0.019713</td>\n",
              "      <td>-0.004456</td>\n",
              "      <td>0.006827</td>\n",
              "      <td>0.014983</td>\n",
              "      <td>0.008799</td>\n",
              "      <td>0.006653</td>\n",
              "      <td>-0.021051</td>\n",
              "      <td>-0.013802</td>\n",
              "      <td>0.017766</td>\n",
              "      <td>0.022354</td>\n",
              "      <td>-0.007974</td>\n",
              "      <td>-0.002394</td>\n",
              "      <td>-0.033003</td>\n",
              "      <td>-0.005465</td>\n",
              "      <td>0.020419</td>\n",
              "      <td>-0.003180</td>\n",
              "      <td>0.010190</td>\n",
              "      <td>0.000404</td>\n",
              "      <td>-0.016439</td>\n",
              "      <td>-0.014901</td>\n",
              "      <td>0.023859</td>\n",
              "      <td>0.049106</td>\n",
              "      <td>...</td>\n",
              "      <td>0.116141</td>\n",
              "      <td>-0.031586</td>\n",
              "      <td>0.030377</td>\n",
              "      <td>-0.117629</td>\n",
              "      <td>-0.042968</td>\n",
              "      <td>0.042506</td>\n",
              "      <td>-0.189486</td>\n",
              "      <td>0.023039</td>\n",
              "      <td>-0.012996</td>\n",
              "      <td>0.023127</td>\n",
              "      <td>0.005618</td>\n",
              "      <td>0.023977</td>\n",
              "      <td>0.135529</td>\n",
              "      <td>0.105317</td>\n",
              "      <td>-0.038456</td>\n",
              "      <td>0.191754</td>\n",
              "      <td>0.063616</td>\n",
              "      <td>0.145343</td>\n",
              "      <td>0.036879</td>\n",
              "      <td>-0.016953</td>\n",
              "      <td>0.131077</td>\n",
              "      <td>0.035067</td>\n",
              "      <td>0.079289</td>\n",
              "      <td>0.009597</td>\n",
              "      <td>-0.125774</td>\n",
              "      <td>-0.064001</td>\n",
              "      <td>-0.154829</td>\n",
              "      <td>0.209260</td>\n",
              "      <td>-0.114436</td>\n",
              "      <td>-0.075998</td>\n",
              "      <td>0.067776</td>\n",
              "      <td>-0.156340</td>\n",
              "      <td>-0.043949</td>\n",
              "      <td>0.031633</td>\n",
              "      <td>-0.163131</td>\n",
              "      <td>0.112285</td>\n",
              "      <td>-0.011991</td>\n",
              "      <td>0.080302</td>\n",
              "      <td>0.036729</td>\n",
              "      <td>-0.047582</td>\n",
              "    </tr>\n",
              "    <tr>\n",
              "      <th>4</th>\n",
              "      <td>1</td>\n",
              "      <td>0.971837</td>\n",
              "      <td>18</td>\n",
              "      <td>0.164038</td>\n",
              "      <td>-0.043498</td>\n",
              "      <td>0.001303</td>\n",
              "      <td>-0.023023</td>\n",
              "      <td>0.040366</td>\n",
              "      <td>-0.009301</td>\n",
              "      <td>-0.043738</td>\n",
              "      <td>-0.097056</td>\n",
              "      <td>0.051675</td>\n",
              "      <td>0.006077</td>\n",
              "      <td>0.020189</td>\n",
              "      <td>0.042214</td>\n",
              "      <td>-0.034350</td>\n",
              "      <td>0.033137</td>\n",
              "      <td>-0.028111</td>\n",
              "      <td>-0.008114</td>\n",
              "      <td>-0.035847</td>\n",
              "      <td>-0.068047</td>\n",
              "      <td>-0.063128</td>\n",
              "      <td>0.081850</td>\n",
              "      <td>-0.044510</td>\n",
              "      <td>0.105021</td>\n",
              "      <td>-0.100781</td>\n",
              "      <td>-0.132026</td>\n",
              "      <td>-0.063830</td>\n",
              "      <td>-0.101054</td>\n",
              "      <td>0.050739</td>\n",
              "      <td>0.001851</td>\n",
              "      <td>0.037918</td>\n",
              "      <td>0.038658</td>\n",
              "      <td>0.014440</td>\n",
              "      <td>0.027954</td>\n",
              "      <td>0.000447</td>\n",
              "      <td>-0.036358</td>\n",
              "      <td>-0.008399</td>\n",
              "      <td>-0.024970</td>\n",
              "      <td>-0.062709</td>\n",
              "      <td>...</td>\n",
              "      <td>0.053168</td>\n",
              "      <td>0.087703</td>\n",
              "      <td>0.105128</td>\n",
              "      <td>0.167851</td>\n",
              "      <td>0.036311</td>\n",
              "      <td>-0.074149</td>\n",
              "      <td>-0.116870</td>\n",
              "      <td>-0.088977</td>\n",
              "      <td>0.160530</td>\n",
              "      <td>0.103642</td>\n",
              "      <td>-0.001433</td>\n",
              "      <td>-0.231762</td>\n",
              "      <td>-0.056237</td>\n",
              "      <td>-0.029473</td>\n",
              "      <td>-0.054130</td>\n",
              "      <td>-0.155151</td>\n",
              "      <td>0.083359</td>\n",
              "      <td>-0.091023</td>\n",
              "      <td>0.068768</td>\n",
              "      <td>-0.086671</td>\n",
              "      <td>-0.179949</td>\n",
              "      <td>-0.065834</td>\n",
              "      <td>-0.051890</td>\n",
              "      <td>0.140209</td>\n",
              "      <td>-0.046689</td>\n",
              "      <td>0.202500</td>\n",
              "      <td>0.126381</td>\n",
              "      <td>0.035138</td>\n",
              "      <td>0.126597</td>\n",
              "      <td>-0.065364</td>\n",
              "      <td>0.000350</td>\n",
              "      <td>-0.109096</td>\n",
              "      <td>0.109058</td>\n",
              "      <td>-0.020602</td>\n",
              "      <td>0.120823</td>\n",
              "      <td>0.137903</td>\n",
              "      <td>0.026897</td>\n",
              "      <td>0.087910</td>\n",
              "      <td>-0.050158</td>\n",
              "      <td>0.001902</td>\n",
              "    </tr>\n",
              "  </tbody>\n",
              "</table>\n",
              "<p>5 rows × 153 columns</p>\n",
              "</div>"
            ],
            "text/plain": [
              "   Label  sentiment_score  ...  TextCluster_SVD149  TextCluster_SVD150\n",
              "0      0         0.708408  ...            0.119570           -0.008954\n",
              "1      1         0.982830  ...            0.034575            0.116155\n",
              "2      0         0.935311  ...           -0.045369            0.048514\n",
              "3      0         0.721639  ...            0.036729           -0.047582\n",
              "4      1         0.971837  ...           -0.050158            0.001902\n",
              "\n",
              "[5 rows x 153 columns]"
            ]
          },
          "metadata": {
            "tags": []
          },
          "execution_count": 5
        }
      ]
    },
    {
      "cell_type": "markdown",
      "metadata": {
        "id": "QzCX7_xWWMGR"
      },
      "source": [
        "#Data Partitioning"
      ]
    },
    {
      "cell_type": "code",
      "metadata": {
        "colab": {
          "base_uri": "https://localhost:8080/"
        },
        "id": "8pq3G1uovnnC",
        "outputId": "83958ce9-5dbe-4299-96e5-c85fdf2166ec"
      },
      "source": [
        "import tensorflow as tf\r\n",
        "print(tf.__version__)"
      ],
      "execution_count": 6,
      "outputs": [
        {
          "output_type": "stream",
          "text": [
            "2.4.0\n"
          ],
          "name": "stdout"
        }
      ]
    },
    {
      "cell_type": "code",
      "metadata": {
        "id": "_OjIYVFxv2uy"
      },
      "source": [
        "y = df.pop('Label')"
      ],
      "execution_count": 7,
      "outputs": []
    },
    {
      "cell_type": "code",
      "metadata": {
        "id": "Y5iOAEUjv_wj"
      },
      "source": [
        "X_train, X_test, y_train, y_test = train_test_split(df,y,test_size=0.2,\r\n",
        "                                                    random_state=42)"
      ],
      "execution_count": 8,
      "outputs": []
    },
    {
      "cell_type": "code",
      "metadata": {
        "id": "IKgKEnyAwPx0"
      },
      "source": [
        "X_train=tf.convert_to_tensor(X_train)\r\n",
        "X_test = tf.convert_to_tensor(X_test)\r\n",
        "y_train = tf.convert_to_tensor(y_train)\r\n",
        "y_test = tf.convert_to_tensor(y_test)"
      ],
      "execution_count": 9,
      "outputs": []
    },
    {
      "cell_type": "code",
      "metadata": {
        "id": "oLVDsRsq1pct"
      },
      "source": [
        "X=tf.convert_to_tensor(df)\r\n",
        "y=tf.convert_to_tensor(y)"
      ],
      "execution_count": 10,
      "outputs": []
    },
    {
      "cell_type": "markdown",
      "metadata": {
        "id": "fNVEXDRSWWB_"
      },
      "source": [
        "#Simple DNN\r\n"
      ]
    },
    {
      "cell_type": "code",
      "metadata": {
        "id": "F7-zLovZx1Ic"
      },
      "source": [
        "model = tf.keras.models.Sequential([tf.keras.layers.Dense(128, activation=tf.nn.relu), \r\n",
        "                                    tf.keras.layers.Dense(1, activation=tf.nn.sigmoid)])"
      ],
      "execution_count": null,
      "outputs": []
    },
    {
      "cell_type": "code",
      "metadata": {
        "id": "jhZ6iVDVx10L"
      },
      "source": [
        "model.compile(optimizer = tf.optimizers.Adam(),\r\n",
        "              loss = 'binary_crossentropy',\r\n",
        "              metrics=['accuracy'])"
      ],
      "execution_count": null,
      "outputs": []
    },
    {
      "cell_type": "code",
      "metadata": {
        "colab": {
          "base_uri": "https://localhost:8080/"
        },
        "id": "hlN_XUcrx17C",
        "outputId": "295a5748-16cf-41d3-8a10-76f4938ef830"
      },
      "source": [
        "history = model.fit(X, y, batch_size=128, epochs=6, verbose=2, validation_split=0.2)\r\n",
        "\r\n",
        "score = model.evaluate(X_test, y_test, verbose=2)"
      ],
      "execution_count": null,
      "outputs": [
        {
          "output_type": "stream",
          "text": [
            "Epoch 1/6\n",
            "13/13 - 0s - loss: 0.4979 - accuracy: 0.7618 - val_loss: 0.5015 - val_accuracy: 0.7513\n",
            "Epoch 2/6\n",
            "13/13 - 0s - loss: 0.4902 - accuracy: 0.7649 - val_loss: 0.5025 - val_accuracy: 0.7487\n",
            "Epoch 3/6\n",
            "13/13 - 0s - loss: 0.4832 - accuracy: 0.7718 - val_loss: 0.5056 - val_accuracy: 0.7487\n",
            "Epoch 4/6\n",
            "13/13 - 0s - loss: 0.4755 - accuracy: 0.7775 - val_loss: 0.5068 - val_accuracy: 0.7412\n",
            "Epoch 5/6\n",
            "13/13 - 0s - loss: 0.4693 - accuracy: 0.7819 - val_loss: 0.5090 - val_accuracy: 0.7462\n",
            "Epoch 6/6\n",
            "13/13 - 0s - loss: 0.4631 - accuracy: 0.7888 - val_loss: 0.5095 - val_accuracy: 0.7412\n",
            "13/13 - 0s - loss: 0.6620 - accuracy: 0.6055\n"
          ],
          "name": "stdout"
        }
      ]
    },
    {
      "cell_type": "code",
      "metadata": {
        "colab": {
          "base_uri": "https://localhost:8080/"
        },
        "id": "gAB7XmQMySUB",
        "outputId": "b3a0391a-1330-4790-e650-bd49346e9d52"
      },
      "source": [
        "print(\"Test Score:\", score[0])\r\n",
        "print(\"Test Accuracy:\", score[1])"
      ],
      "execution_count": null,
      "outputs": [
        {
          "output_type": "stream",
          "text": [
            "Test Score: 0.6619732975959778\n",
            "Test Accuracy: 0.6055276393890381\n"
          ],
          "name": "stdout"
        }
      ]
    },
    {
      "cell_type": "code",
      "metadata": {
        "colab": {
          "base_uri": "https://localhost:8080/",
          "height": 573
        },
        "id": "hkri0HX4zrmR",
        "outputId": "9d35b181-c041-4d34-d455-fa4ce6a6ae05"
      },
      "source": [
        "plt.plot(history.history['accuracy'])\r\n",
        "plt.plot(history.history['val_accuracy'])\r\n",
        "\r\n",
        "plt.title('model accuracy')\r\n",
        "plt.ylabel('accuracy')\r\n",
        "plt.xlabel('epoch')\r\n",
        "plt.legend(['train','test'], loc = 'upper left')\r\n",
        "plt.show()\r\n",
        "\r\n",
        "plt.plot(history.history['loss'])\r\n",
        "plt.plot(history.history['val_loss'])\r\n",
        "\r\n",
        "plt.title('model loss')\r\n",
        "plt.ylabel('loss')\r\n",
        "plt.xlabel('epoch')\r\n",
        "plt.legend(['train','test'], loc = 'upper left')\r\n",
        "plt.show()"
      ],
      "execution_count": null,
      "outputs": [
        {
          "output_type": "display_data",
          "data": {
            "image/png": "[encoded data removed]",
            "text/plain": [
              "<Figure size 432x288 with 1 Axes>"
            ]
          },
          "metadata": {
            "tags": [],
            "needs_background": "light"
          }
        },
        {
          "output_type": "display_data",
          "data": {
            "image/png": "[encoded data removed]",
            "text/plain": [
              "<Figure size 432x288 with 1 Axes>"
            ]
          },
          "metadata": {
            "tags": [],
            "needs_background": "light"
          }
        }
      ]
    },
    {
      "cell_type": "markdown",
      "metadata": {
        "id": "CDMVLWR0WjfY"
      },
      "source": [
        "#Simple CNN "
      ]
    },
    {
      "cell_type": "code",
      "metadata": {
        "id": "EEPtr6atw7-T"
      },
      "source": [
        "#CNN 1Dx2\r\n",
        "model = tf.keras.models.Sequential([\r\n",
        "      tf.keras.layers.Conv1D(128, 5, activation='relu', input_shape=(152, 1)),\r\n",
        "      tf.keras.layers.MaxPooling1D(2),\r\n",
        "      tf.keras.layers.Dropout(0.2),\r\n",
        "      tf.keras.layers.Conv1D(64, 5, activation='relu'),\r\n",
        "      tf.keras.layers.MaxPooling1D(2,2),\r\n",
        "      tf.keras.layers.Dropout(0.2),\r\n",
        "      tf.keras.layers.Flatten(),\r\n",
        "      tf.keras.layers.Dense(128, activation='relu'),\r\n",
        "      tf.keras.layers.Dense(64, activation='relu'),\r\n",
        "      tf.keras.layers.Dense(1, activation='sigmoid')\r\n",
        "])\r\n",
        "\r\n",
        "model.compile(optimizer = tf.optimizers.Adam(),\r\n",
        "              loss = 'binary_crossentropy',\r\n",
        "              metrics=['acc'])"
      ],
      "execution_count": null,
      "outputs": []
    },
    {
      "cell_type": "code",
      "metadata": {
        "colab": {
          "base_uri": "https://localhost:8080/"
        },
        "id": "eD_Y3LJJxBkV",
        "outputId": "b7a7c3a1-a43e-41d7-feee-df5e7cd9bb0e"
      },
      "source": [
        "print(model.summary())"
      ],
      "execution_count": null,
      "outputs": [
        {
          "output_type": "stream",
          "text": [
            "Model: \"sequential_6\"\n",
            "_________________________________________________________________\n",
            "Layer (type)                 Output Shape              Param #   \n",
            "=================================================================\n",
            "conv1d_10 (Conv1D)           (None, 1587, 128)         97408     \n",
            "_________________________________________________________________\n",
            "max_pooling1d_10 (MaxPooling (None, 793, 128)          0         \n",
            "_________________________________________________________________\n",
            "dropout_12 (Dropout)         (None, 793, 128)          0         \n",
            "_________________________________________________________________\n",
            "conv1d_11 (Conv1D)           (None, 789, 64)           41024     \n",
            "_________________________________________________________________\n",
            "max_pooling1d_11 (MaxPooling (None, 394, 64)           0         \n",
            "_________________________________________________________________\n",
            "dropout_13 (Dropout)         (None, 394, 64)           0         \n",
            "_________________________________________________________________\n",
            "flatten_6 (Flatten)          (None, 25216)             0         \n",
            "_________________________________________________________________\n",
            "dense_18 (Dense)             (None, 128)               3227776   \n",
            "_________________________________________________________________\n",
            "dense_19 (Dense)             (None, 64)                8256      \n",
            "_________________________________________________________________\n",
            "dense_20 (Dense)             (None, 1)                 65        \n",
            "=================================================================\n",
            "Total params: 3,374,529\n",
            "Trainable params: 3,374,529\n",
            "Non-trainable params: 0\n",
            "_________________________________________________________________\n",
            "None\n"
          ],
          "name": "stdout"
        }
      ]
    },
    {
      "cell_type": "code",
      "metadata": {
        "id": "xeGXAJzCxV4S"
      },
      "source": [
        "X_train = tf.reshape(X_train, [1591,152, 1])\r\n",
        "X_test = tf.reshape(X_test, [398,152, 1])"
      ],
      "execution_count": null,
      "outputs": []
    },
    {
      "cell_type": "code",
      "metadata": {
        "colab": {
          "base_uri": "https://localhost:8080/"
        },
        "id": "y3EeGEOfxCIT",
        "outputId": "705bbc7f-e5c8-454d-9dad-43599e1d66fc"
      },
      "source": [
        "history = model.fit(X_train, y_train, batch_size=128, epochs=6, verbose=1, validation_split=0.2)\r\n",
        "\r\n",
        "score = model.evaluate(X_test, y_test, verbose=1)"
      ],
      "execution_count": null,
      "outputs": [
        {
          "output_type": "stream",
          "text": [
            "Epoch 1/6\n",
            "10/10 [==============================] - 0s 6ms/step - loss: 0.3980 - accuracy: 0.8341 - val_loss: 0.5117 - val_accuracy: 0.7492\n",
            "Epoch 2/6\n",
            "10/10 [==============================] - 0s 4ms/step - loss: 0.3944 - accuracy: 0.8412 - val_loss: 0.5213 - val_accuracy: 0.7367\n",
            "Epoch 3/6\n",
            "10/10 [==============================] - 0s 3ms/step - loss: 0.3909 - accuracy: 0.8341 - val_loss: 0.5133 - val_accuracy: 0.7586\n",
            "Epoch 4/6\n",
            "10/10 [==============================] - 0s 3ms/step - loss: 0.3873 - accuracy: 0.8475 - val_loss: 0.5307 - val_accuracy: 0.7304\n",
            "Epoch 5/6\n",
            "10/10 [==============================] - 0s 3ms/step - loss: 0.3847 - accuracy: 0.8506 - val_loss: 0.5332 - val_accuracy: 0.7304\n",
            "Epoch 6/6\n",
            "10/10 [==============================] - 0s 3ms/step - loss: 0.3801 - accuracy: 0.8443 - val_loss: 0.5334 - val_accuracy: 0.7367\n",
            "13/13 [==============================] - 0s 1ms/step - loss: 0.6888 - accuracy: 0.5980\n"
          ],
          "name": "stdout"
        }
      ]
    },
    {
      "cell_type": "code",
      "metadata": {
        "colab": {
          "base_uri": "https://localhost:8080/",
          "height": 573
        },
        "id": "fR9c4jqU3DTq",
        "outputId": "377ce3fa-32df-4620-fb21-b30c7a0f4a0b"
      },
      "source": [
        "plt.plot(history.history['accuracy'])\r\n",
        "plt.plot(history.history['val_accuracy'])\r\n",
        "\r\n",
        "plt.title('model accuracy')\r\n",
        "plt.ylabel('accuracy')\r\n",
        "plt.xlabel('epoch')\r\n",
        "plt.legend(['train','test'], loc = 'upper left')\r\n",
        "plt.show()\r\n",
        "\r\n",
        "plt.plot(history.history['loss'])\r\n",
        "plt.plot(history.history['val_loss'])\r\n",
        "\r\n",
        "plt.title('model loss')\r\n",
        "plt.ylabel('loss')\r\n",
        "plt.xlabel('epoch')\r\n",
        "plt.legend(['train','test'], loc = 'upper left')\r\n",
        "plt.show()"
      ],
      "execution_count": null,
      "outputs": [
        {
          "output_type": "display_data",
          "data": {
            "image/png": "[encoded data removed]",
            "text/plain": [
              "<Figure size 432x288 with 1 Axes>"
            ]
          },
          "metadata": {
            "tags": [],
            "needs_background": "light"
          }
        },
        {
          "output_type": "display_data",
          "data": {
            "image/png": "[encoded data removed]",
            "text/plain": [
              "<Figure size 432x288 with 1 Axes>"
            ]
          },
          "metadata": {
            "tags": [],
            "needs_background": "light"
          }
        }
      ]
    },
    {
      "cell_type": "markdown",
      "metadata": {
        "id": "nSs7hia0XHbg"
      },
      "source": [
        "#LSTM"
      ]
    },
    {
      "cell_type": "code",
      "metadata": {
        "colab": {
          "base_uri": "https://localhost:8080/"
        },
        "id": "jnwMk6Pr2jFJ",
        "outputId": "db56341f-ad4f-4a7e-dfed-8a4668c6d578"
      },
      "source": [
        "# LSTM \r\n",
        "model2 = tf.keras.models.Sequential([\r\n",
        "      tf.keras.layers.LSTM(128, activation='relu', input_shape=(1591,152)),\r\n",
        "      tf.keras.layers.Dropout(0.1),\r\n",
        "      #tf.keras.layers.LSTM(128, activation='relu'),\r\n",
        "      #tf.keras.layers.Dropout(0.2),\r\n",
        "      tf.keras.layers.Flatten(),\r\n",
        "      tf.keras.layers.Dense(128, activation='relu'),\r\n",
        "      tf.keras.layers.Dense(64, activation='relu'),\r\n",
        "      tf.keras.layers.Dense(1, activation='sigmoid')\r\n",
        "])\r\n",
        "\r\n",
        "model2.compile(optimizer='adam', loss='binary_crossentropy', metrics=['acc'])\r\n",
        "print(model2.summary())"
      ],
      "execution_count": null,
      "outputs": [
        {
          "output_type": "stream",
          "text": [
            "Model: \"sequential_10\"\n",
            "_________________________________________________________________\n",
            "Layer (type)                 Output Shape              Param #   \n",
            "=================================================================\n",
            "lstm_2 (LSTM)                (None, 128)               143872    \n",
            "_________________________________________________________________\n",
            "dropout_16 (Dropout)         (None, 128)               0         \n",
            "_________________________________________________________________\n",
            "flatten_9 (Flatten)          (None, 128)               0         \n",
            "_________________________________________________________________\n",
            "dense_29 (Dense)             (None, 128)               16512     \n",
            "_________________________________________________________________\n",
            "dense_30 (Dense)             (None, 64)                8256      \n",
            "_________________________________________________________________\n",
            "dense_31 (Dense)             (None, 1)                 65        \n",
            "=================================================================\n",
            "Total params: 168,705\n",
            "Trainable params: 168,705\n",
            "Non-trainable params: 0\n",
            "_________________________________________________________________\n",
            "None\n"
          ],
          "name": "stdout"
        }
      ]
    },
    {
      "cell_type": "code",
      "metadata": {
        "id": "03KTe5f13nJZ"
      },
      "source": [
        "X_train = tf.reshape(X_train, [1591,1, 152])\r\n",
        "X_test = tf.reshape(X_test, [398,1, 152])"
      ],
      "execution_count": null,
      "outputs": []
    },
    {
      "cell_type": "code",
      "metadata": {
        "colab": {
          "base_uri": "https://localhost:8080/"
        },
        "id": "e3NT9hhI28dD",
        "outputId": "7429ccc5-1ab1-4640-e635-5cb249255be2"
      },
      "source": [
        "history = model2.fit(X_train, y_train, batch_size=128, epochs=6, verbose=1, validation_split=0.2)\r\n",
        "\r\n",
        "score = model2.evaluate(X_test, y_test, verbose=1)"
      ],
      "execution_count": null,
      "outputs": [
        {
          "output_type": "stream",
          "text": [
            "Epoch 1/6\n",
            " 2/10 [=====>........................] - ETA: 0s - loss: 0.6900 - acc: 0.5664"
          ],
          "name": "stdout"
        },
        {
          "output_type": "stream",
          "text": [
            "/usr/local/lib/python3.6/dist-packages/tensorflow/python/data/ops/dataset_ops.py:3350: UserWarning: Even though the tf.config.experimental_run_functions_eagerly option is set, this option does not apply to tf.data functions. tf.data functions are still traced and executed as graphs.\n",
            "  \"Even though the tf.config.experimental_run_functions_eagerly \"\n"
          ],
          "name": "stderr"
        },
        {
          "output_type": "stream",
          "text": [
            "10/10 [==============================] - 1s 61ms/step - loss: 0.6911 - acc: 0.5432 - val_loss: 0.7065 - val_acc: 0.4577\n",
            "Epoch 2/6\n",
            "10/10 [==============================] - 1s 59ms/step - loss: 0.6893 - acc: 0.5440 - val_loss: 0.7003 - val_acc: 0.4577\n",
            "Epoch 3/6\n",
            "10/10 [==============================] - 1s 60ms/step - loss: 0.6876 - acc: 0.5440 - val_loss: 0.7079 - val_acc: 0.4577\n",
            "Epoch 4/6\n",
            "10/10 [==============================] - 1s 56ms/step - loss: 0.6840 - acc: 0.5440 - val_loss: 0.7012 - val_acc: 0.4577\n",
            "Epoch 5/6\n",
            "10/10 [==============================] - 1s 55ms/step - loss: 0.6812 - acc: 0.5472 - val_loss: 0.6987 - val_acc: 0.4545\n",
            "Epoch 6/6\n",
            "10/10 [==============================] - 1s 57ms/step - loss: 0.6744 - acc: 0.5637 - val_loss: 0.7011 - val_acc: 0.4671\n",
            "13/13 [==============================] - 0s 9ms/step - loss: 0.6816 - acc: 0.5729\n"
          ],
          "name": "stdout"
        }
      ]
    },
    {
      "cell_type": "code",
      "metadata": {
        "colab": {
          "base_uri": "https://localhost:8080/"
        },
        "id": "6ocHxg9r2-aa",
        "outputId": "ba7228c1-2589-4872-a2ee-ea3718c5290e"
      },
      "source": [
        "print(\"Test Score:\", score[0])\r\n",
        "print(\"Test Accuracy:\", score[1])"
      ],
      "execution_count": null,
      "outputs": [
        {
          "output_type": "stream",
          "text": [
            "Test Score: 0.6816323399543762\n",
            "Test Accuracy: 0.572864294052124\n"
          ],
          "name": "stdout"
        }
      ]
    },
    {
      "cell_type": "code",
      "metadata": {
        "colab": {
          "base_uri": "https://localhost:8080/"
        },
        "id": "lCE1tEQN4Kn5",
        "outputId": "fa1e611c-7f60-4292-ce54-edf7596607e0"
      },
      "source": [
        "tf.config.experimental_run_functions_eagerly(True)"
      ],
      "execution_count": null,
      "outputs": [
        {
          "output_type": "stream",
          "text": [
            "WARNING:tensorflow:From <ipython-input-83-bdb3352f611a>:1: experimental_run_functions_eagerly (from tensorflow.python.eager.def_function) is deprecated and will be removed in a future version.\n",
            "Instructions for updating:\n",
            "Use `tf.config.run_functions_eagerly` instead of the experimental version.\n"
          ],
          "name": "stdout"
        }
      ]
    },
    {
      "cell_type": "code",
      "metadata": {
        "colab": {
          "base_uri": "https://localhost:8080/",
          "height": 573
        },
        "id": "Q35mewmu6nNb",
        "outputId": "a805bd70-70ad-4fef-d425-c017668a769d"
      },
      "source": [
        "plt.plot(history.history['acc'])\r\n",
        "plt.plot(history.history['val_acc'])\r\n",
        "\r\n",
        "plt.title('model accuracy')\r\n",
        "plt.ylabel('accuracy')\r\n",
        "plt.xlabel('epoch')\r\n",
        "plt.legend(['train','test'], loc = 'upper left')\r\n",
        "plt.show()\r\n",
        "\r\n",
        "plt.plot(history.history['loss'])\r\n",
        "plt.plot(history.history['val_loss'])\r\n",
        "\r\n",
        "plt.title('model loss')\r\n",
        "plt.ylabel('loss')\r\n",
        "plt.xlabel('epoch')\r\n",
        "plt.legend(['train','test'], loc = 'upper left')\r\n",
        "plt.show()"
      ],
      "execution_count": null,
      "outputs": [
        {
          "output_type": "display_data",
          "data": {
            "image/png": "[encoded data removed]",
            "text/plain": [
              "<Figure size 432x288 with 1 Axes>"
            ]
          },
          "metadata": {
            "tags": [],
            "needs_background": "light"
          }
        },
        {
          "output_type": "display_data",
          "data": {
            "image/png": "[encoded data removed]",
            "text/plain": [
              "<Figure size 432x288 with 1 Axes>"
            ]
          },
          "metadata": {
            "tags": [],
            "needs_background": "light"
          }
        }
      ]
    }
  ]
}